{
 "cells": [
  {
   "cell_type": "markdown",
   "metadata": {},
   "source": [
    "# Lemmatize idioms from SLIDE dataset"
   ]
  },
  {
   "cell_type": "code",
   "execution_count": 1,
   "metadata": {},
   "outputs": [
    {
     "name": "stderr",
     "output_type": "stream",
     "text": [
      "[nltk_data] Downloading package wordnet to /home/alex/nltk_data...\n",
      "[nltk_data]   Package wordnet is already up-to-date!\n",
      "[nltk_data] Downloading package omw-1.4 to /home/alex/nltk_data...\n",
      "[nltk_data]   Package omw-1.4 is already up-to-date!\n"
     ]
    },
    {
     "data": {
      "text/plain": [
       "True"
      ]
     },
     "execution_count": 1,
     "metadata": {},
     "output_type": "execute_result"
    }
   ],
   "source": [
    "import pandas as pd\n",
    "import re\n",
    "from nltk.stem import WordNetLemmatizer\n",
    "import nltk\n",
    "nltk.download('wordnet')\n",
    "nltk.download('omw-1.4')\n"
   ]
  },
  {
   "cell_type": "code",
   "execution_count": 3,
   "metadata": {},
   "outputs": [
    {
     "data": {
      "text/html": [
       "<div>\n",
       "<style scoped>\n",
       "    .dataframe tbody tr th:only-of-type {\n",
       "        vertical-align: middle;\n",
       "    }\n",
       "\n",
       "    .dataframe tbody tr th {\n",
       "        vertical-align: top;\n",
       "    }\n",
       "\n",
       "    .dataframe thead th {\n",
       "        text-align: right;\n",
       "    }\n",
       "</style>\n",
       "<table border=\"1\" class=\"dataframe\">\n",
       "  <thead>\n",
       "    <tr style=\"text-align: right;\">\n",
       "      <th></th>\n",
       "      <th>Idiom</th>\n",
       "      <th>WiktionaryURL</th>\n",
       "      <th>Pos</th>\n",
       "      <th>Neg</th>\n",
       "      <th>Neu</th>\n",
       "      <th>Inapprop.</th>\n",
       "      <th>Total</th>\n",
       "      <th>%Pos</th>\n",
       "      <th>%Neg</th>\n",
       "      <th>%Neu</th>\n",
       "      <th>Maj. Label</th>\n",
       "      <th>FilterOut(X)</th>\n",
       "    </tr>\n",
       "  </thead>\n",
       "  <tbody>\n",
       "    <tr>\n",
       "      <th>0</th>\n",
       "      <td>American Dream</td>\n",
       "      <td>https://en.wiktionary.org/wiki/American_Dream</td>\n",
       "      <td>8</td>\n",
       "      <td>0</td>\n",
       "      <td>2</td>\n",
       "      <td>0</td>\n",
       "      <td>10</td>\n",
       "      <td>0.8</td>\n",
       "      <td>0.0</td>\n",
       "      <td>0.2</td>\n",
       "      <td>positive</td>\n",
       "      <td>NaN</td>\n",
       "    </tr>\n",
       "    <tr>\n",
       "      <th>1</th>\n",
       "      <td>Catch-22</td>\n",
       "      <td>https://en.wiktionary.org/wiki/Catch-22</td>\n",
       "      <td>0</td>\n",
       "      <td>7</td>\n",
       "      <td>3</td>\n",
       "      <td>0</td>\n",
       "      <td>10</td>\n",
       "      <td>0.0</td>\n",
       "      <td>0.7</td>\n",
       "      <td>0.3</td>\n",
       "      <td>negative</td>\n",
       "      <td>NaN</td>\n",
       "    </tr>\n",
       "    <tr>\n",
       "      <th>2</th>\n",
       "      <td>Christmas present</td>\n",
       "      <td>https://en.wiktionary.org/wiki/Christmas_present</td>\n",
       "      <td>6</td>\n",
       "      <td>0</td>\n",
       "      <td>4</td>\n",
       "      <td>0</td>\n",
       "      <td>10</td>\n",
       "      <td>0.6</td>\n",
       "      <td>0.0</td>\n",
       "      <td>0.4</td>\n",
       "      <td>positive</td>\n",
       "      <td>NaN</td>\n",
       "    </tr>\n",
       "    <tr>\n",
       "      <th>3</th>\n",
       "      <td>Downing Street</td>\n",
       "      <td>https://en.wiktionary.org/wiki/Downing_Street</td>\n",
       "      <td>0</td>\n",
       "      <td>0</td>\n",
       "      <td>10</td>\n",
       "      <td>0</td>\n",
       "      <td>10</td>\n",
       "      <td>0.0</td>\n",
       "      <td>0.0</td>\n",
       "      <td>1.0</td>\n",
       "      <td>neutral</td>\n",
       "      <td>NaN</td>\n",
       "    </tr>\n",
       "    <tr>\n",
       "      <th>4</th>\n",
       "      <td>Dutch courage</td>\n",
       "      <td>https://en.wiktionary.org/wiki/Dutch_courage</td>\n",
       "      <td>2</td>\n",
       "      <td>2</td>\n",
       "      <td>6</td>\n",
       "      <td>0</td>\n",
       "      <td>10</td>\n",
       "      <td>0.2</td>\n",
       "      <td>0.2</td>\n",
       "      <td>0.6</td>\n",
       "      <td>neutral</td>\n",
       "      <td>NaN</td>\n",
       "    </tr>\n",
       "  </tbody>\n",
       "</table>\n",
       "</div>"
      ],
      "text/plain": [
       "               Idiom                                     WiktionaryURL  Pos   \n",
       "0     American Dream     https://en.wiktionary.org/wiki/American_Dream    8  \\\n",
       "1           Catch-22           https://en.wiktionary.org/wiki/Catch-22    0   \n",
       "2  Christmas present  https://en.wiktionary.org/wiki/Christmas_present    6   \n",
       "3     Downing Street     https://en.wiktionary.org/wiki/Downing_Street    0   \n",
       "4      Dutch courage      https://en.wiktionary.org/wiki/Dutch_courage    2   \n",
       "\n",
       "   Neg  Neu  Inapprop.  Total  %Pos  %Neg  %Neu Maj. Label FilterOut(X)  \n",
       "0    0    2          0     10   0.8   0.0   0.2   positive          NaN  \n",
       "1    7    3          0     10   0.0   0.7   0.3   negative          NaN  \n",
       "2    0    4          0     10   0.6   0.0   0.4   positive          NaN  \n",
       "3    0   10          0     10   0.0   0.0   1.0    neutral          NaN  \n",
       "4    2    6          0     10   0.2   0.2   0.6    neutral          NaN  "
      ]
     },
     "execution_count": 3,
     "metadata": {},
     "output_type": "execute_result"
    }
   ],
   "source": [
    "data = pd.read_csv('../SLIDE_dataset/idiomLexicon.tsv', sep='\\t')\n",
    "data.head()"
   ]
  },
  {
   "cell_type": "code",
   "execution_count": 3,
   "metadata": {},
   "outputs": [],
   "source": [
    "def full_lemmatize(word):\n",
    "    # remove all non-alphanumeric characters\n",
    "    word = re.sub('[^0-9a-zA-Z ]+', '', word)\n",
    "    word = re.sub('[a-zA-Z]*self', 'self', word)\n",
    "    word = word.lower()\n",
    "    \n",
    "    lemmatizer = WordNetLemmatizer()\n",
    "    for pos in ['v', 'n', 'a', 'r', 's']:\n",
    "        word = lemmatizer.lemmatize(word, pos=pos)\n",
    "        \n",
    "    if len(word) == 0:\n",
    "        return ''\n",
    "    \n",
    "    if word[-1] == 's':\n",
    "        word = word[:-1]\n",
    "        \n",
    "    return word"
   ]
  },
  {
   "cell_type": "code",
   "execution_count": 4,
   "metadata": {},
   "outputs": [],
   "source": [
    "idiom_exceptions = {\n",
    "    \"also-ran\": \"also ran\",\n",
    "}"
   ]
  },
  {
   "cell_type": "code",
   "execution_count": 6,
   "metadata": {},
   "outputs": [],
   "source": [
    "lemm_idioms = []\n",
    "for idiom in data['Idiom']:\n",
    "    if idiom in idiom_exceptions.keys():\n",
    "        lemm_idioms.append(idiom_exceptions[idiom])\n",
    "        continue\n",
    "    \n",
    "    idiom = idiom.replace(\"someone's\", '').replace('someone', '')\n",
    "    idiom = idiom.replace(\"one's\", '')\n",
    "    idiom = idiom.replace('-', ' ')\n",
    "    lemm_idioms.append(' '.join([full_lemmatize(word) for word in idiom.split()]))\n",
    "    "
   ]
  },
  {
   "cell_type": "code",
   "execution_count": 8,
   "metadata": {},
   "outputs": [
    {
     "data": {
      "text/html": [
       "<div>\n",
       "<style scoped>\n",
       "    .dataframe tbody tr th:only-of-type {\n",
       "        vertical-align: middle;\n",
       "    }\n",
       "\n",
       "    .dataframe tbody tr th {\n",
       "        vertical-align: top;\n",
       "    }\n",
       "\n",
       "    .dataframe thead th {\n",
       "        text-align: right;\n",
       "    }\n",
       "</style>\n",
       "<table border=\"1\" class=\"dataframe\">\n",
       "  <thead>\n",
       "    <tr style=\"text-align: right;\">\n",
       "      <th></th>\n",
       "      <th>Idiom</th>\n",
       "      <th>lemmatized</th>\n",
       "    </tr>\n",
       "  </thead>\n",
       "  <tbody>\n",
       "    <tr>\n",
       "      <th>0</th>\n",
       "      <td>American Dream</td>\n",
       "      <td>american dream</td>\n",
       "    </tr>\n",
       "    <tr>\n",
       "      <th>1</th>\n",
       "      <td>Catch-22</td>\n",
       "      <td>catch 22</td>\n",
       "    </tr>\n",
       "    <tr>\n",
       "      <th>2</th>\n",
       "      <td>Christmas present</td>\n",
       "      <td>christma present</td>\n",
       "    </tr>\n",
       "    <tr>\n",
       "      <th>3</th>\n",
       "      <td>Downing Street</td>\n",
       "      <td>down street</td>\n",
       "    </tr>\n",
       "    <tr>\n",
       "      <th>4</th>\n",
       "      <td>Dutch courage</td>\n",
       "      <td>dutch courage</td>\n",
       "    </tr>\n",
       "  </tbody>\n",
       "</table>\n",
       "</div>"
      ],
      "text/plain": [
       "               Idiom        lemmatized\n",
       "0     American Dream    american dream\n",
       "1           Catch-22          catch 22\n",
       "2  Christmas present  christma present\n",
       "3     Downing Street       down street\n",
       "4      Dutch courage     dutch courage"
      ]
     },
     "execution_count": 8,
     "metadata": {},
     "output_type": "execute_result"
    }
   ],
   "source": [
    "data['lemmatized'] = lemm_idioms\n",
    "new_data = data[['Idiom', 'lemmatized']]\n",
    "new_data.head()"
   ]
  },
  {
   "cell_type": "code",
   "execution_count": 7,
   "metadata": {},
   "outputs": [],
   "source": [
    "new_data.to_csv('idiomLexicon_lemmatized.csv', sep=';', index=False)"
   ]
  }
 ],
 "metadata": {
  "kernelspec": {
   "display_name": "Python 3",
   "language": "python",
   "name": "python3"
  },
  "language_info": {
   "codemirror_mode": {
    "name": "ipython",
    "version": 3
   },
   "file_extension": ".py",
   "mimetype": "text/x-python",
   "name": "python",
   "nbconvert_exporter": "python",
   "pygments_lexer": "ipython3",
   "version": "3.11.5"
  },
  "orig_nbformat": 4
 },
 "nbformat": 4,
 "nbformat_minor": 2
}
