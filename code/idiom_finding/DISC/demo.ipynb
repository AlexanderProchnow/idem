{
 "cells": [
  {
   "attachments": {},
   "cell_type": "markdown",
   "id": "9f1a30de",
   "metadata": {},
   "source": [
    "# Demo\n",
    "This demo shows how to use DISC model with your own sentence input. \n",
    "\n",
    "The script will first load the model and data processing module. \n",
    "Then, it will run inference on the input sentence and output the detected idiom from the sentence. \n"
   ]
  },
  {
   "cell_type": "code",
   "execution_count": 1,
   "id": "66100bdb",
   "metadata": {},
   "outputs": [
    {
     "name": "stderr",
     "output_type": "stream",
     "text": [
      "/home/basg/Projects/DISC/.venv/lib/python3.10/site-packages/tqdm/auto.py:21: TqdmWarning: IProgress not found. Please update jupyter and ipywidgets. See https://ipywidgets.readthedocs.io/en/stable/user_install.html\n",
      "  from .autonotebook import tqdm as notebook_tqdm\n",
      "[nltk_data] Downloading package punkt to /home/basg/nltk_data...\n",
      "[nltk_data]   Package punkt is already up-to-date!\n",
      "[nltk_data] Downloading package averaged_perceptron_tagger to\n",
      "[nltk_data]     /home/basg/nltk_data...\n",
      "[nltk_data]   Package averaged_perceptron_tagger is already up-to-\n",
      "[nltk_data]       date!\n"
     ]
    },
    {
     "data": {
      "text/plain": [
       "True"
      ]
     },
     "execution_count": 1,
     "metadata": {},
     "output_type": "execute_result"
    }
   ],
   "source": [
    "from IPython.display import display, HTML\n",
    "import torch\n",
    "import numpy as np\n",
    "from tqdm import tqdm\n",
    "from src.utils.model_util import load_model_from_checkpoint\n",
    "from src.model.read_comp_triflow import ReadingComprehensionDetector as DetectorMdl\n",
    "from config import Config as config\n",
    "from demo_helper.data_processor import DataHandler\n",
    "from demo_helper.visualize_helper import simple_scoring_viz\n",
    "import nltk\n",
    "nltk.download(\"punkt\")\n",
    "nltk.download(\"averaged_perceptron_tagger\")"
   ]
  },
  {
   "attachments": {},
   "cell_type": "markdown",
   "id": "f02f552e",
   "metadata": {},
   "source": [
    "## 1. Load model"
   ]
  },
  {
   "cell_type": "code",
   "execution_count": 4,
   "id": "37540642",
   "metadata": {
    "scrolled": true
   },
   "outputs": [
    {
     "name": "stdout",
     "output_type": "stream",
     "text": [
      "Loading Pre-trained Glove Embeddings...\n"
     ]
    },
    {
     "name": "stderr",
     "output_type": "stream",
     "text": [
      "Some weights of the model checkpoint at bert-base-uncased were not used when initializing BertModel: ['cls.seq_relationship.weight', 'cls.predictions.transform.LayerNorm.bias', 'cls.predictions.transform.dense.weight', 'cls.predictions.transform.LayerNorm.weight', 'cls.predictions.decoder.weight', 'cls.seq_relationship.bias', 'cls.predictions.bias', 'cls.predictions.transform.dense.bias']\n",
      "- This IS expected if you are initializing BertModel from the checkpoint of a model trained on another task or with another architecture (e.g. initializing a BertForSequenceClassification model from a BertForPreTraining model).\n",
      "- This IS NOT expected if you are initializing BertModel from the checkpoint of a model that you expect to be exactly identical (initializing a BertForSequenceClassification model from a BertForSequenceClassification model).\n",
      "/home/basg/Projects/DISC/.venv/lib/python3.10/site-packages/torch/cuda/__init__.py:546: UserWarning: Can't initialize NVML\n",
      "  warnings.warn(\"Can't initialize NVML\")\n",
      "/home/basg/Projects/DISC/.venv/lib/python3.10/site-packages/torch/nn/modules/rnn.py:71: UserWarning: dropout option adds dropout after all but last recurrent layer, so non-zero dropout expects num_layers greater than 1, but got dropout=0.3 and num_layers=1\n",
      "  warnings.warn(\"dropout option adds dropout after all but last \"\n"
     ]
    },
    {
     "name": "stdout",
     "output_type": "stream",
     "text": [
      "Loading model from /home/basg/Projects/DISC/checkpoints/ReadComp_magpie_random_cross_attn-glove-char-pos-tri_latest.mdl\n",
      "=> loading checkpoint '/home/basg/Projects/DISC/checkpoints/ReadComp_magpie_random_cross_attn-glove-char-pos-tri_latest.mdl'\n",
      "=> loaded checkpoint '/home/basg/Projects/DISC/checkpoints/ReadComp_magpie_random_cross_attn-glove-char-pos-tri_latest.mdl'\n"
     ]
    }
   ],
   "source": [
    "data_handler = DataHandler(config)\n",
    "detector_model= load_model_from_checkpoint(DetectorMdl, data_handler.config)\n"
   ]
  },
  {
   "attachments": {},
   "cell_type": "markdown",
   "id": "19704294",
   "metadata": {},
   "source": [
    "## 2. Set and prepare input sentences"
   ]
  },
  {
   "cell_type": "code",
   "execution_count": 5,
   "id": "e3159c01",
   "metadata": {},
   "outputs": [],
   "source": [
    "sentences = [\n",
    "    # The following examples are idioms\n",
    "    'If you’re head over heels, you’re completely in love.',\n",
    "    'If you keep someone at arm’s length, you avoid becoming friendly with them.',\n",
    "    'If you’re a chip off the old block, you’re similar in some distinct way to your father or mother.',\n",
    "    'He must face the music for his transgression.',\n",
    "    'Getting fired turned out to be a blessing in disguise.',\n",
    "    'I’m sorry but I just can’t seem to wrap my head around it.',\n",
    "    'At the end of the day, it is you who will take the heat.',\n",
    "    'At the end of the day, it is you who will take the responsibility.',\n",
    "    'I don’t want to be Hayley’s friend anymore, she stabbed me in the back!',\n",
    "    'Why not go to the post office on your way to the mall and kill two birds with one stone?',\n",
    "    'Hey, I’m feeling pretty angry right now. I’m going to go blow off some steam.',\n",
    "    'As a rule of thumb, you should usually pay for your date’s dinner, too.',\n",
    "    'If you burn the candle at both ends, you work excessively hard, say, by keeping two jobs or by leading a busy social life in the evening.',\n",
    "    # The following examples are similes\n",
    "    'You were as brave as a lion.',\n",
    "    'This house is as clean as a whistle.',\n",
    "    \"Sometimes you feel like a nut, sometimes you don't.\",\n",
    "    # Negative examples (no idioms)\n",
    "    \"We will also see which library is recommended to use on each occasion and the unique capabilities of each library.\",\n",
    "\n",
    "    # added by me :)\n",
    "    \"I was dizzy and needed to eat something\",\n",
    "    \"After winning the lottery, she struggled to keep her feet on the ground and not get carried away by her new wealth.\",\n",
    "    \"After this trauma I felt like a trainwreck\",\n",
    "]"
   ]
  },
  {
   "cell_type": "code",
   "execution_count": 6,
   "id": "3403a43a",
   "metadata": {},
   "outputs": [],
   "source": [
    "data = data_handler.prepare_input(sentences)"
   ]
  },
  {
   "attachments": {},
   "cell_type": "markdown",
   "id": "f83519f6",
   "metadata": {},
   "source": [
    "## 3. Model inference"
   ]
  },
  {
   "cell_type": "code",
   "execution_count": 7,
   "id": "52fc33a1",
   "metadata": {},
   "outputs": [],
   "source": [
    "# If this gives error when using GPU (on wsl2), take a look at this: https://discuss.pytorch.org/t/libcudnn-cnn-infer-so-8-library-can-not-found/164661 \n",
    "with torch.no_grad():\n",
    "    ys_ = detector_model(data)\n",
    "    probs = torch.nn.functional.softmax(ys_, dim=-1)\n",
    "ys_ = ys_.cpu().detach().numpy()\n",
    "probs = probs.cpu().detach().numpy()\n",
    "idiom_class_probs = probs[:, :, -1].tolist()\n",
    "predicts = np.argmax(ys_, axis=2)"
   ]
  },
  {
   "attachments": {},
   "cell_type": "markdown",
   "id": "6632525c",
   "metadata": {},
   "source": [
    "## 4. Extract output"
   ]
  },
  {
   "cell_type": "code",
   "execution_count": 1,
   "id": "a7489d5e",
   "metadata": {},
   "outputs": [
    {
     "ename": "NameError",
     "evalue": "name 'ys_' is not defined",
     "output_type": "error",
     "traceback": [
      "\u001b[0;31m---------------------------------------------------------------------------\u001b[0m",
      "\u001b[0;31mNameError\u001b[0m                                 Traceback (most recent call last)",
      "Cell \u001b[0;32mIn[1], line 1\u001b[0m\n\u001b[0;32m----> 1\u001b[0m \u001b[39mprint\u001b[39m(\u001b[39m\"\u001b[39m\u001b[39mys_:\u001b[39m\u001b[39m\"\u001b[39m, ys_\u001b[39m.\u001b[39mshape)\n\u001b[1;32m      2\u001b[0m \u001b[39mprint\u001b[39m(\u001b[39m\"\u001b[39m\u001b[39mprobs:\u001b[39m\u001b[39m\"\u001b[39m, probs\u001b[39m.\u001b[39mshape)\n\u001b[1;32m      3\u001b[0m \u001b[39mprint\u001b[39m(\u001b[39m\"\u001b[39m\u001b[39midiom_class_probs:\u001b[39m\u001b[39m\"\u001b[39m, idiom_class_probs\u001b[39m.\u001b[39mshape)\n",
      "\u001b[0;31mNameError\u001b[0m: name 'ys_' is not defined"
     ]
    }
   ],
   "source": [
    "ys_.shape"
   ]
  },
  {
   "cell_type": "code",
   "execution_count": 21,
   "id": "1dd43cd6",
   "metadata": {},
   "outputs": [],
   "source": [
    "sentences_tkns = data['xs_bert'].cpu().detach().numpy().tolist()\n",
    "sentences_tkns = [data_handler.tokenizer.convert_ids_to_tokens(s) for s in sentences_tkns]"
   ]
  },
  {
   "cell_type": "code",
   "execution_count": 22,
   "id": "bcc2e592",
   "metadata": {},
   "outputs": [
    {
     "name": "stdout",
     "output_type": "stream",
     "text": [
      "Visualize Results by Scoring: \n"
     ]
    },
    {
     "data": {
      "text/html": [
       "<span class=\"barcode\"; style=\"color: black; background-color: #ffffe5\">&nbsp[CLS]&nbsp</span><span class=\"barcode\"; style=\"color: black; background-color: #ffffe5\">&nbspif&nbsp</span><span class=\"barcode\"; style=\"color: black; background-color: #ffffe5\">&nbspyou&nbsp</span><span class=\"barcode\"; style=\"color: black; background-color: #ffffe5\">&nbsp’&nbsp</span><span class=\"barcode\"; style=\"color: black; background-color: #ffffe5\">&nbspre&nbsp</span><span class=\"barcode\"; style=\"color: black; background-color: #004529\">&nbsphead&nbsp</span><span class=\"barcode\"; style=\"color: black; background-color: #004529\">&nbspover&nbsp</span><span class=\"barcode\"; style=\"color: black; background-color: #004529\">&nbspheels&nbsp</span><span class=\"barcode\"; style=\"color: black; background-color: #ffffe5\">&nbsp,&nbsp</span><span class=\"barcode\"; style=\"color: black; background-color: #ffffe5\">&nbspyou&nbsp</span><span class=\"barcode\"; style=\"color: black; background-color: #ffffe5\">&nbsp’&nbsp</span><span class=\"barcode\"; style=\"color: black; background-color: #ffffe5\">&nbspre&nbsp</span><span class=\"barcode\"; style=\"color: black; background-color: #ffffe5\">&nbspcompletely&nbsp</span><span class=\"barcode\"; style=\"color: black; background-color: #ffffe5\">&nbspin&nbsp</span><span class=\"barcode\"; style=\"color: black; background-color: #ffffe5\">&nbsplove&nbsp</span><span class=\"barcode\"; style=\"color: black; background-color: #ffffe5\">&nbsp.&nbsp</span><span class=\"barcode\"; style=\"color: black; background-color: #ffffe5\">&nbsp[SEP]&nbsp</span><span class=\"barcode\"; style=\"color: black; background-color: #ffffe5\">&nbsp[PAD]&nbsp</span><span class=\"barcode\"; style=\"color: black; background-color: #ffffe5\">&nbsp[PAD]&nbsp</span><span class=\"barcode\"; style=\"color: black; background-color: #ffffe5\">&nbsp[PAD]&nbsp</span><span class=\"barcode\"; style=\"color: black; background-color: #ffffe5\">&nbsp[PAD]&nbsp</span><span class=\"barcode\"; style=\"color: black; background-color: #ffffe5\">&nbsp[PAD]&nbsp</span><span class=\"barcode\"; style=\"color: black; background-color: #ffffe5\">&nbsp[PAD]&nbsp</span><span class=\"barcode\"; style=\"color: black; background-color: #ffffe5\">&nbsp[PAD]&nbsp</span><span class=\"barcode\"; style=\"color: black; background-color: #ffffe5\">&nbsp[PAD]&nbsp</span><span class=\"barcode\"; style=\"color: black; background-color: #ffffe5\">&nbsp[PAD]&nbsp</span><span class=\"barcode\"; style=\"color: black; background-color: #ffffe5\">&nbsp[PAD]&nbsp</span><span class=\"barcode\"; style=\"color: black; background-color: #ffffe5\">&nbsp[PAD]&nbsp</span><span class=\"barcode\"; style=\"color: black; background-color: #ffffe5\">&nbsp[PAD]&nbsp</span><span class=\"barcode\"; style=\"color: black; background-color: #ffffe5\">&nbsp[PAD]&nbsp</span><span class=\"barcode\"; style=\"color: black; background-color: #ffffe5\">&nbsp[PAD]&nbsp</span><span class=\"barcode\"; style=\"color: black; background-color: #ffffe5\">&nbsp[PAD]&nbsp</span><span class=\"barcode\"; style=\"color: black; background-color: #ffffe5\">&nbsp[PAD]&nbsp</span><span class=\"barcode\"; style=\"color: black; background-color: #ffffe5\">&nbsp[PAD]&nbsp</span>"
      ],
      "text/plain": [
       "<IPython.core.display.HTML object>"
      ]
     },
     "metadata": {},
     "output_type": "display_data"
    },
    {
     "data": {
      "text/html": [
       "<span class=\"barcode\"; style=\"color: black; background-color: #ffffe5\">&nbsp[CLS]&nbsp</span><span class=\"barcode\"; style=\"color: black; background-color: #ffffe5\">&nbspif&nbsp</span><span class=\"barcode\"; style=\"color: black; background-color: #ffffe5\">&nbspyou&nbsp</span><span class=\"barcode\"; style=\"color: black; background-color: #ffffe5\">&nbspkeep&nbsp</span><span class=\"barcode\"; style=\"color: black; background-color: #ffffe5\">&nbspsomeone&nbsp</span><span class=\"barcode\"; style=\"color: black; background-color: #fcfed4\">&nbspat&nbsp</span><span class=\"barcode\"; style=\"color: black; background-color: #004529\">&nbsparm&nbsp</span><span class=\"barcode\"; style=\"color: black; background-color: #004529\">&nbsp’&nbsp</span><span class=\"barcode\"; style=\"color: black; background-color: #004529\">&nbsps&nbsp</span><span class=\"barcode\"; style=\"color: black; background-color: #004529\">&nbsplength&nbsp</span><span class=\"barcode\"; style=\"color: black; background-color: #ffffe5\">&nbsp,&nbsp</span><span class=\"barcode\"; style=\"color: black; background-color: #ffffe5\">&nbspyou&nbsp</span><span class=\"barcode\"; style=\"color: black; background-color: #ffffe5\">&nbspavoid&nbsp</span><span class=\"barcode\"; style=\"color: black; background-color: #ffffe5\">&nbspbecoming&nbsp</span><span class=\"barcode\"; style=\"color: black; background-color: #ffffe5\">&nbspfriendly&nbsp</span><span class=\"barcode\"; style=\"color: black; background-color: #ffffe5\">&nbspwith&nbsp</span><span class=\"barcode\"; style=\"color: black; background-color: #ffffe5\">&nbspthem&nbsp</span><span class=\"barcode\"; style=\"color: black; background-color: #ffffe5\">&nbsp.&nbsp</span><span class=\"barcode\"; style=\"color: black; background-color: #ffffe5\">&nbsp[SEP]&nbsp</span><span class=\"barcode\"; style=\"color: black; background-color: #ffffe5\">&nbsp[PAD]&nbsp</span><span class=\"barcode\"; style=\"color: black; background-color: #ffffe5\">&nbsp[PAD]&nbsp</span><span class=\"barcode\"; style=\"color: black; background-color: #ffffe5\">&nbsp[PAD]&nbsp</span><span class=\"barcode\"; style=\"color: black; background-color: #ffffe5\">&nbsp[PAD]&nbsp</span><span class=\"barcode\"; style=\"color: black; background-color: #ffffe5\">&nbsp[PAD]&nbsp</span><span class=\"barcode\"; style=\"color: black; background-color: #ffffe5\">&nbsp[PAD]&nbsp</span><span class=\"barcode\"; style=\"color: black; background-color: #ffffe5\">&nbsp[PAD]&nbsp</span><span class=\"barcode\"; style=\"color: black; background-color: #ffffe5\">&nbsp[PAD]&nbsp</span><span class=\"barcode\"; style=\"color: black; background-color: #ffffe5\">&nbsp[PAD]&nbsp</span><span class=\"barcode\"; style=\"color: black; background-color: #ffffe5\">&nbsp[PAD]&nbsp</span><span class=\"barcode\"; style=\"color: black; background-color: #ffffe5\">&nbsp[PAD]&nbsp</span><span class=\"barcode\"; style=\"color: black; background-color: #ffffe5\">&nbsp[PAD]&nbsp</span><span class=\"barcode\"; style=\"color: black; background-color: #ffffe5\">&nbsp[PAD]&nbsp</span><span class=\"barcode\"; style=\"color: black; background-color: #ffffe5\">&nbsp[PAD]&nbsp</span><span class=\"barcode\"; style=\"color: black; background-color: #ffffe5\">&nbsp[PAD]&nbsp</span>"
      ],
      "text/plain": [
       "<IPython.core.display.HTML object>"
      ]
     },
     "metadata": {},
     "output_type": "display_data"
    },
    {
     "data": {
      "text/html": [
       "<span class=\"barcode\"; style=\"color: black; background-color: #ffffe5\">&nbsp[CLS]&nbsp</span><span class=\"barcode\"; style=\"color: black; background-color: #ffffe5\">&nbspif&nbsp</span><span class=\"barcode\"; style=\"color: black; background-color: #ffffe5\">&nbspyou&nbsp</span><span class=\"barcode\"; style=\"color: black; background-color: #ffffe5\">&nbsp’&nbsp</span><span class=\"barcode\"; style=\"color: black; background-color: #ffffe5\">&nbspre&nbsp</span><span class=\"barcode\"; style=\"color: black; background-color: #ffffe5\">&nbspa&nbsp</span><span class=\"barcode\"; style=\"color: black; background-color: #218242\">&nbspchip&nbsp</span><span class=\"barcode\"; style=\"color: black; background-color: #004529\">&nbspoff&nbsp</span><span class=\"barcode\"; style=\"color: black; background-color: #004529\">&nbspthe&nbsp</span><span class=\"barcode\"; style=\"color: black; background-color: #004529\">&nbspold&nbsp</span><span class=\"barcode\"; style=\"color: black; background-color: #004529\">&nbspblock&nbsp</span><span class=\"barcode\"; style=\"color: black; background-color: #ffffe5\">&nbsp,&nbsp</span><span class=\"barcode\"; style=\"color: black; background-color: #ffffe5\">&nbspyou&nbsp</span><span class=\"barcode\"; style=\"color: black; background-color: #ffffe5\">&nbsp’&nbsp</span><span class=\"barcode\"; style=\"color: black; background-color: #ffffe5\">&nbspre&nbsp</span><span class=\"barcode\"; style=\"color: black; background-color: #ffffe5\">&nbspsimilar&nbsp</span><span class=\"barcode\"; style=\"color: black; background-color: #ffffe5\">&nbspin&nbsp</span><span class=\"barcode\"; style=\"color: black; background-color: #ffffe5\">&nbspsome&nbsp</span><span class=\"barcode\"; style=\"color: black; background-color: #ffffe5\">&nbspdistinct&nbsp</span><span class=\"barcode\"; style=\"color: black; background-color: #ffffe5\">&nbspway&nbsp</span><span class=\"barcode\"; style=\"color: black; background-color: #ffffe5\">&nbspto&nbsp</span><span class=\"barcode\"; style=\"color: black; background-color: #ffffe5\">&nbspyour&nbsp</span><span class=\"barcode\"; style=\"color: black; background-color: #ffffe5\">&nbspfather&nbsp</span><span class=\"barcode\"; style=\"color: black; background-color: #ffffe5\">&nbspor&nbsp</span><span class=\"barcode\"; style=\"color: black; background-color: #ffffe5\">&nbspmother&nbsp</span><span class=\"barcode\"; style=\"color: black; background-color: #ffffe5\">&nbsp.&nbsp</span><span class=\"barcode\"; style=\"color: black; background-color: #ffffe5\">&nbsp[SEP]&nbsp</span><span class=\"barcode\"; style=\"color: black; background-color: #ffffe5\">&nbsp[PAD]&nbsp</span><span class=\"barcode\"; style=\"color: black; background-color: #ffffe5\">&nbsp[PAD]&nbsp</span><span class=\"barcode\"; style=\"color: black; background-color: #ffffe5\">&nbsp[PAD]&nbsp</span><span class=\"barcode\"; style=\"color: black; background-color: #ffffe5\">&nbsp[PAD]&nbsp</span><span class=\"barcode\"; style=\"color: black; background-color: #ffffe5\">&nbsp[PAD]&nbsp</span><span class=\"barcode\"; style=\"color: black; background-color: #ffffe5\">&nbsp[PAD]&nbsp</span><span class=\"barcode\"; style=\"color: black; background-color: #ffffe5\">&nbsp[PAD]&nbsp</span>"
      ],
      "text/plain": [
       "<IPython.core.display.HTML object>"
      ]
     },
     "metadata": {},
     "output_type": "display_data"
    },
    {
     "data": {
      "text/html": [
       "<span class=\"barcode\"; style=\"color: black; background-color: #ffffe5\">&nbsp[CLS]&nbsp</span><span class=\"barcode\"; style=\"color: black; background-color: #ffffe5\">&nbsphe&nbsp</span><span class=\"barcode\"; style=\"color: black; background-color: #ffffe5\">&nbspmust&nbsp</span><span class=\"barcode\"; style=\"color: black; background-color: #004529\">&nbspface&nbsp</span><span class=\"barcode\"; style=\"color: black; background-color: #004529\">&nbspthe&nbsp</span><span class=\"barcode\"; style=\"color: black; background-color: #004529\">&nbspmusic&nbsp</span><span class=\"barcode\"; style=\"color: black; background-color: #ffffe5\">&nbspfor&nbsp</span><span class=\"barcode\"; style=\"color: black; background-color: #ffffe5\">&nbsphis&nbsp</span><span class=\"barcode\"; style=\"color: black; background-color: #ffffe5\">&nbsptrans&nbsp</span><span class=\"barcode\"; style=\"color: black; background-color: #ffffe5\">&nbsp##gre&nbsp</span><span class=\"barcode\"; style=\"color: black; background-color: #ffffe5\">&nbsp##ssion&nbsp</span><span class=\"barcode\"; style=\"color: black; background-color: #ffffe5\">&nbsp.&nbsp</span><span class=\"barcode\"; style=\"color: black; background-color: #ffffe5\">&nbsp[SEP]&nbsp</span><span class=\"barcode\"; style=\"color: black; background-color: #ffffe5\">&nbsp[PAD]&nbsp</span><span class=\"barcode\"; style=\"color: black; background-color: #ffffe5\">&nbsp[PAD]&nbsp</span><span class=\"barcode\"; style=\"color: black; background-color: #ffffe5\">&nbsp[PAD]&nbsp</span><span class=\"barcode\"; style=\"color: black; background-color: #ffffe5\">&nbsp[PAD]&nbsp</span><span class=\"barcode\"; style=\"color: black; background-color: #ffffe5\">&nbsp[PAD]&nbsp</span><span class=\"barcode\"; style=\"color: black; background-color: #ffffe5\">&nbsp[PAD]&nbsp</span><span class=\"barcode\"; style=\"color: black; background-color: #ffffe5\">&nbsp[PAD]&nbsp</span><span class=\"barcode\"; style=\"color: black; background-color: #ffffe5\">&nbsp[PAD]&nbsp</span><span class=\"barcode\"; style=\"color: black; background-color: #ffffe5\">&nbsp[PAD]&nbsp</span><span class=\"barcode\"; style=\"color: black; background-color: #ffffe5\">&nbsp[PAD]&nbsp</span><span class=\"barcode\"; style=\"color: black; background-color: #ffffe5\">&nbsp[PAD]&nbsp</span><span class=\"barcode\"; style=\"color: black; background-color: #ffffe5\">&nbsp[PAD]&nbsp</span><span class=\"barcode\"; style=\"color: black; background-color: #ffffe5\">&nbsp[PAD]&nbsp</span><span class=\"barcode\"; style=\"color: black; background-color: #ffffe5\">&nbsp[PAD]&nbsp</span><span class=\"barcode\"; style=\"color: black; background-color: #ffffe5\">&nbsp[PAD]&nbsp</span><span class=\"barcode\"; style=\"color: black; background-color: #ffffe5\">&nbsp[PAD]&nbsp</span><span class=\"barcode\"; style=\"color: black; background-color: #ffffe5\">&nbsp[PAD]&nbsp</span><span class=\"barcode\"; style=\"color: black; background-color: #ffffe5\">&nbsp[PAD]&nbsp</span><span class=\"barcode\"; style=\"color: black; background-color: #ffffe5\">&nbsp[PAD]&nbsp</span><span class=\"barcode\"; style=\"color: black; background-color: #ffffe5\">&nbsp[PAD]&nbsp</span><span class=\"barcode\"; style=\"color: black; background-color: #ffffe5\">&nbsp[PAD]&nbsp</span>"
      ],
      "text/plain": [
       "<IPython.core.display.HTML object>"
      ]
     },
     "metadata": {},
     "output_type": "display_data"
    },
    {
     "data": {
      "text/html": [
       "<span class=\"barcode\"; style=\"color: black; background-color: #ffffe5\">&nbsp[CLS]&nbsp</span><span class=\"barcode\"; style=\"color: black; background-color: #ffffe5\">&nbspgetting&nbsp</span><span class=\"barcode\"; style=\"color: black; background-color: #ffffe5\">&nbspfired&nbsp</span><span class=\"barcode\"; style=\"color: black; background-color: #ffffe5\">&nbspturned&nbsp</span><span class=\"barcode\"; style=\"color: black; background-color: #ffffe5\">&nbspout&nbsp</span><span class=\"barcode\"; style=\"color: black; background-color: #ffffe5\">&nbspto&nbsp</span><span class=\"barcode\"; style=\"color: black; background-color: #ffffe5\">&nbspbe&nbsp</span><span class=\"barcode\"; style=\"color: black; background-color: #ffffe5\">&nbspa&nbsp</span><span class=\"barcode\"; style=\"color: black; background-color: #004529\">&nbspblessing&nbsp</span><span class=\"barcode\"; style=\"color: black; background-color: #004529\">&nbspin&nbsp</span><span class=\"barcode\"; style=\"color: black; background-color: #004529\">&nbspdisguise&nbsp</span><span class=\"barcode\"; style=\"color: black; background-color: #ffffe5\">&nbsp.&nbsp</span><span class=\"barcode\"; style=\"color: black; background-color: #ffffe5\">&nbsp[SEP]&nbsp</span><span class=\"barcode\"; style=\"color: black; background-color: #ffffe5\">&nbsp[PAD]&nbsp</span><span class=\"barcode\"; style=\"color: black; background-color: #ffffe5\">&nbsp[PAD]&nbsp</span><span class=\"barcode\"; style=\"color: black; background-color: #ffffe5\">&nbsp[PAD]&nbsp</span><span class=\"barcode\"; style=\"color: black; background-color: #ffffe5\">&nbsp[PAD]&nbsp</span><span class=\"barcode\"; style=\"color: black; background-color: #ffffe5\">&nbsp[PAD]&nbsp</span><span class=\"barcode\"; style=\"color: black; background-color: #ffffe5\">&nbsp[PAD]&nbsp</span><span class=\"barcode\"; style=\"color: black; background-color: #ffffe5\">&nbsp[PAD]&nbsp</span><span class=\"barcode\"; style=\"color: black; background-color: #ffffe5\">&nbsp[PAD]&nbsp</span><span class=\"barcode\"; style=\"color: black; background-color: #ffffe5\">&nbsp[PAD]&nbsp</span><span class=\"barcode\"; style=\"color: black; background-color: #ffffe5\">&nbsp[PAD]&nbsp</span><span class=\"barcode\"; style=\"color: black; background-color: #ffffe5\">&nbsp[PAD]&nbsp</span><span class=\"barcode\"; style=\"color: black; background-color: #ffffe5\">&nbsp[PAD]&nbsp</span><span class=\"barcode\"; style=\"color: black; background-color: #ffffe5\">&nbsp[PAD]&nbsp</span><span class=\"barcode\"; style=\"color: black; background-color: #ffffe5\">&nbsp[PAD]&nbsp</span><span class=\"barcode\"; style=\"color: black; background-color: #ffffe5\">&nbsp[PAD]&nbsp</span><span class=\"barcode\"; style=\"color: black; background-color: #ffffe5\">&nbsp[PAD]&nbsp</span><span class=\"barcode\"; style=\"color: black; background-color: #ffffe5\">&nbsp[PAD]&nbsp</span><span class=\"barcode\"; style=\"color: black; background-color: #ffffe5\">&nbsp[PAD]&nbsp</span><span class=\"barcode\"; style=\"color: black; background-color: #ffffe5\">&nbsp[PAD]&nbsp</span><span class=\"barcode\"; style=\"color: black; background-color: #ffffe5\">&nbsp[PAD]&nbsp</span><span class=\"barcode\"; style=\"color: black; background-color: #ffffe5\">&nbsp[PAD]&nbsp</span>"
      ],
      "text/plain": [
       "<IPython.core.display.HTML object>"
      ]
     },
     "metadata": {},
     "output_type": "display_data"
    },
    {
     "data": {
      "text/html": [
       "<span class=\"barcode\"; style=\"color: black; background-color: #ffffe5\">&nbsp[CLS]&nbsp</span><span class=\"barcode\"; style=\"color: black; background-color: #ffffe5\">&nbspi&nbsp</span><span class=\"barcode\"; style=\"color: black; background-color: #ffffe5\">&nbsp’&nbsp</span><span class=\"barcode\"; style=\"color: black; background-color: #ffffe5\">&nbspm&nbsp</span><span class=\"barcode\"; style=\"color: black; background-color: #ffffe5\">&nbspsorry&nbsp</span><span class=\"barcode\"; style=\"color: black; background-color: #ffffe5\">&nbspbut&nbsp</span><span class=\"barcode\"; style=\"color: black; background-color: #ffffe5\">&nbspi&nbsp</span><span class=\"barcode\"; style=\"color: black; background-color: #ffffe5\">&nbspjust&nbsp</span><span class=\"barcode\"; style=\"color: black; background-color: #ffffe5\">&nbspcan&nbsp</span><span class=\"barcode\"; style=\"color: black; background-color: #ffffe5\">&nbsp’&nbsp</span><span class=\"barcode\"; style=\"color: black; background-color: #ffffe5\">&nbspt&nbsp</span><span class=\"barcode\"; style=\"color: black; background-color: #ffffe5\">&nbspseem&nbsp</span><span class=\"barcode\"; style=\"color: black; background-color: #ffffe5\">&nbspto&nbsp</span><span class=\"barcode\"; style=\"color: black; background-color: #f4fbb7\">&nbspwrap&nbsp</span><span class=\"barcode\"; style=\"color: black; background-color: #f4fbb7\">&nbspmy&nbsp</span><span class=\"barcode\"; style=\"color: black; background-color: #f8fcbd\">&nbsphead&nbsp</span><span class=\"barcode\"; style=\"color: black; background-color: #fdfeda\">&nbsparound&nbsp</span><span class=\"barcode\"; style=\"color: black; background-color: #ffffe5\">&nbspit&nbsp</span><span class=\"barcode\"; style=\"color: black; background-color: #ffffe5\">&nbsp.&nbsp</span><span class=\"barcode\"; style=\"color: black; background-color: #ffffe5\">&nbsp[SEP]&nbsp</span><span class=\"barcode\"; style=\"color: black; background-color: #ffffe5\">&nbsp[PAD]&nbsp</span><span class=\"barcode\"; style=\"color: black; background-color: #ffffe5\">&nbsp[PAD]&nbsp</span><span class=\"barcode\"; style=\"color: black; background-color: #ffffe5\">&nbsp[PAD]&nbsp</span><span class=\"barcode\"; style=\"color: black; background-color: #ffffe5\">&nbsp[PAD]&nbsp</span><span class=\"barcode\"; style=\"color: black; background-color: #ffffe5\">&nbsp[PAD]&nbsp</span><span class=\"barcode\"; style=\"color: black; background-color: #ffffe5\">&nbsp[PAD]&nbsp</span><span class=\"barcode\"; style=\"color: black; background-color: #ffffe5\">&nbsp[PAD]&nbsp</span><span class=\"barcode\"; style=\"color: black; background-color: #ffffe5\">&nbsp[PAD]&nbsp</span><span class=\"barcode\"; style=\"color: black; background-color: #ffffe5\">&nbsp[PAD]&nbsp</span><span class=\"barcode\"; style=\"color: black; background-color: #ffffe5\">&nbsp[PAD]&nbsp</span><span class=\"barcode\"; style=\"color: black; background-color: #ffffe5\">&nbsp[PAD]&nbsp</span><span class=\"barcode\"; style=\"color: black; background-color: #ffffe5\">&nbsp[PAD]&nbsp</span><span class=\"barcode\"; style=\"color: black; background-color: #ffffe5\">&nbsp[PAD]&nbsp</span><span class=\"barcode\"; style=\"color: black; background-color: #ffffe5\">&nbsp[PAD]&nbsp</span>"
      ],
      "text/plain": [
       "<IPython.core.display.HTML object>"
      ]
     },
     "metadata": {},
     "output_type": "display_data"
    },
    {
     "data": {
      "text/html": [
       "<span class=\"barcode\"; style=\"color: black; background-color: #ffffe5\">&nbsp[CLS]&nbsp</span><span class=\"barcode\"; style=\"color: black; background-color: #ffffe4\">&nbspat&nbsp</span><span class=\"barcode\"; style=\"color: black; background-color: #feffe2\">&nbspthe&nbsp</span><span class=\"barcode\"; style=\"color: black; background-color: #ffffe5\">&nbspend&nbsp</span><span class=\"barcode\"; style=\"color: black; background-color: #ffffe5\">&nbspof&nbsp</span><span class=\"barcode\"; style=\"color: black; background-color: #ffffe5\">&nbspthe&nbsp</span><span class=\"barcode\"; style=\"color: black; background-color: #ffffe5\">&nbspday&nbsp</span><span class=\"barcode\"; style=\"color: black; background-color: #ffffe5\">&nbsp,&nbsp</span><span class=\"barcode\"; style=\"color: black; background-color: #ffffe5\">&nbspit&nbsp</span><span class=\"barcode\"; style=\"color: black; background-color: #ffffe5\">&nbspis&nbsp</span><span class=\"barcode\"; style=\"color: black; background-color: #ffffe5\">&nbspyou&nbsp</span><span class=\"barcode\"; style=\"color: black; background-color: #ffffe5\">&nbspwho&nbsp</span><span class=\"barcode\"; style=\"color: black; background-color: #ffffe5\">&nbspwill&nbsp</span><span class=\"barcode\"; style=\"color: black; background-color: #004529\">&nbsptake&nbsp</span><span class=\"barcode\"; style=\"color: black; background-color: #004529\">&nbspthe&nbsp</span><span class=\"barcode\"; style=\"color: black; background-color: #004529\">&nbspheat&nbsp</span><span class=\"barcode\"; style=\"color: black; background-color: #ffffe5\">&nbsp.&nbsp</span><span class=\"barcode\"; style=\"color: black; background-color: #ffffe5\">&nbsp[SEP]&nbsp</span><span class=\"barcode\"; style=\"color: black; background-color: #ffffe5\">&nbsp[PAD]&nbsp</span><span class=\"barcode\"; style=\"color: black; background-color: #ffffe5\">&nbsp[PAD]&nbsp</span><span class=\"barcode\"; style=\"color: black; background-color: #ffffe5\">&nbsp[PAD]&nbsp</span><span class=\"barcode\"; style=\"color: black; background-color: #ffffe5\">&nbsp[PAD]&nbsp</span><span class=\"barcode\"; style=\"color: black; background-color: #ffffe5\">&nbsp[PAD]&nbsp</span><span class=\"barcode\"; style=\"color: black; background-color: #ffffe5\">&nbsp[PAD]&nbsp</span><span class=\"barcode\"; style=\"color: black; background-color: #ffffe5\">&nbsp[PAD]&nbsp</span><span class=\"barcode\"; style=\"color: black; background-color: #ffffe5\">&nbsp[PAD]&nbsp</span><span class=\"barcode\"; style=\"color: black; background-color: #ffffe5\">&nbsp[PAD]&nbsp</span><span class=\"barcode\"; style=\"color: black; background-color: #ffffe5\">&nbsp[PAD]&nbsp</span><span class=\"barcode\"; style=\"color: black; background-color: #ffffe5\">&nbsp[PAD]&nbsp</span><span class=\"barcode\"; style=\"color: black; background-color: #ffffe5\">&nbsp[PAD]&nbsp</span><span class=\"barcode\"; style=\"color: black; background-color: #ffffe5\">&nbsp[PAD]&nbsp</span><span class=\"barcode\"; style=\"color: black; background-color: #ffffe5\">&nbsp[PAD]&nbsp</span><span class=\"barcode\"; style=\"color: black; background-color: #ffffe5\">&nbsp[PAD]&nbsp</span><span class=\"barcode\"; style=\"color: black; background-color: #ffffe5\">&nbsp[PAD]&nbsp</span>"
      ],
      "text/plain": [
       "<IPython.core.display.HTML object>"
      ]
     },
     "metadata": {},
     "output_type": "display_data"
    },
    {
     "data": {
      "text/html": [
       "<span class=\"barcode\"; style=\"color: black; background-color: #ffffe5\">&nbsp[CLS]&nbsp</span><span class=\"barcode\"; style=\"color: black; background-color: #004529\">&nbspat&nbsp</span><span class=\"barcode\"; style=\"color: black; background-color: #004529\">&nbspthe&nbsp</span><span class=\"barcode\"; style=\"color: black; background-color: #004529\">&nbspend&nbsp</span><span class=\"barcode\"; style=\"color: black; background-color: #004529\">&nbspof&nbsp</span><span class=\"barcode\"; style=\"color: black; background-color: #004529\">&nbspthe&nbsp</span><span class=\"barcode\"; style=\"color: black; background-color: #004529\">&nbspday&nbsp</span><span class=\"barcode\"; style=\"color: black; background-color: #ffffe5\">&nbsp,&nbsp</span><span class=\"barcode\"; style=\"color: black; background-color: #ffffe5\">&nbspit&nbsp</span><span class=\"barcode\"; style=\"color: black; background-color: #ffffe5\">&nbspis&nbsp</span><span class=\"barcode\"; style=\"color: black; background-color: #ffffe5\">&nbspyou&nbsp</span><span class=\"barcode\"; style=\"color: black; background-color: #ffffe5\">&nbspwho&nbsp</span><span class=\"barcode\"; style=\"color: black; background-color: #ffffe5\">&nbspwill&nbsp</span><span class=\"barcode\"; style=\"color: black; background-color: #ffffe5\">&nbsptake&nbsp</span><span class=\"barcode\"; style=\"color: black; background-color: #ffffe5\">&nbspthe&nbsp</span><span class=\"barcode\"; style=\"color: black; background-color: #ffffe5\">&nbspresponsibility&nbsp</span><span class=\"barcode\"; style=\"color: black; background-color: #ffffe5\">&nbsp.&nbsp</span><span class=\"barcode\"; style=\"color: black; background-color: #ffffe5\">&nbsp[SEP]&nbsp</span><span class=\"barcode\"; style=\"color: black; background-color: #ffffe5\">&nbsp[PAD]&nbsp</span><span class=\"barcode\"; style=\"color: black; background-color: #ffffe5\">&nbsp[PAD]&nbsp</span><span class=\"barcode\"; style=\"color: black; background-color: #ffffe5\">&nbsp[PAD]&nbsp</span><span class=\"barcode\"; style=\"color: black; background-color: #ffffe5\">&nbsp[PAD]&nbsp</span><span class=\"barcode\"; style=\"color: black; background-color: #ffffe5\">&nbsp[PAD]&nbsp</span><span class=\"barcode\"; style=\"color: black; background-color: #ffffe5\">&nbsp[PAD]&nbsp</span><span class=\"barcode\"; style=\"color: black; background-color: #ffffe5\">&nbsp[PAD]&nbsp</span><span class=\"barcode\"; style=\"color: black; background-color: #ffffe5\">&nbsp[PAD]&nbsp</span><span class=\"barcode\"; style=\"color: black; background-color: #ffffe5\">&nbsp[PAD]&nbsp</span><span class=\"barcode\"; style=\"color: black; background-color: #ffffe5\">&nbsp[PAD]&nbsp</span><span class=\"barcode\"; style=\"color: black; background-color: #ffffe5\">&nbsp[PAD]&nbsp</span><span class=\"barcode\"; style=\"color: black; background-color: #ffffe5\">&nbsp[PAD]&nbsp</span><span class=\"barcode\"; style=\"color: black; background-color: #ffffe5\">&nbsp[PAD]&nbsp</span><span class=\"barcode\"; style=\"color: black; background-color: #ffffe5\">&nbsp[PAD]&nbsp</span><span class=\"barcode\"; style=\"color: black; background-color: #ffffe5\">&nbsp[PAD]&nbsp</span><span class=\"barcode\"; style=\"color: black; background-color: #ffffe5\">&nbsp[PAD]&nbsp</span>"
      ],
      "text/plain": [
       "<IPython.core.display.HTML object>"
      ]
     },
     "metadata": {},
     "output_type": "display_data"
    },
    {
     "data": {
      "text/html": [
       "<span class=\"barcode\"; style=\"color: black; background-color: #ffffe5\">&nbsp[CLS]&nbsp</span><span class=\"barcode\"; style=\"color: black; background-color: #ffffe5\">&nbspi&nbsp</span><span class=\"barcode\"; style=\"color: black; background-color: #ffffe5\">&nbspdon&nbsp</span><span class=\"barcode\"; style=\"color: black; background-color: #ffffe5\">&nbsp’&nbsp</span><span class=\"barcode\"; style=\"color: black; background-color: #ffffe5\">&nbspt&nbsp</span><span class=\"barcode\"; style=\"color: black; background-color: #ffffe5\">&nbspwant&nbsp</span><span class=\"barcode\"; style=\"color: black; background-color: #ffffe5\">&nbspto&nbsp</span><span class=\"barcode\"; style=\"color: black; background-color: #ffffe5\">&nbspbe&nbsp</span><span class=\"barcode\"; style=\"color: black; background-color: #ffffe5\">&nbsphay&nbsp</span><span class=\"barcode\"; style=\"color: black; background-color: #ffffe5\">&nbsp##ley&nbsp</span><span class=\"barcode\"; style=\"color: black; background-color: #ffffe5\">&nbsp’&nbsp</span><span class=\"barcode\"; style=\"color: black; background-color: #ffffe5\">&nbsps&nbsp</span><span class=\"barcode\"; style=\"color: black; background-color: #ffffe5\">&nbspfriend&nbsp</span><span class=\"barcode\"; style=\"color: black; background-color: #ffffe5\">&nbspanymore&nbsp</span><span class=\"barcode\"; style=\"color: black; background-color: #ffffe5\">&nbsp,&nbsp</span><span class=\"barcode\"; style=\"color: black; background-color: #ffffe5\">&nbspshe&nbsp</span><span class=\"barcode\"; style=\"color: black; background-color: #ffffe5\">&nbspstabbed&nbsp</span><span class=\"barcode\"; style=\"color: black; background-color: #ffffe5\">&nbspme&nbsp</span><span class=\"barcode\"; style=\"color: black; background-color: #ffffe5\">&nbspin&nbsp</span><span class=\"barcode\"; style=\"color: black; background-color: #ffffe5\">&nbspthe&nbsp</span><span class=\"barcode\"; style=\"color: black; background-color: #ffffe5\">&nbspback&nbsp</span><span class=\"barcode\"; style=\"color: black; background-color: #ffffe5\">&nbsp!&nbsp</span><span class=\"barcode\"; style=\"color: black; background-color: #ffffe5\">&nbsp[SEP]&nbsp</span><span class=\"barcode\"; style=\"color: black; background-color: #ffffe5\">&nbsp[PAD]&nbsp</span><span class=\"barcode\"; style=\"color: black; background-color: #ffffe5\">&nbsp[PAD]&nbsp</span><span class=\"barcode\"; style=\"color: black; background-color: #ffffe5\">&nbsp[PAD]&nbsp</span><span class=\"barcode\"; style=\"color: black; background-color: #ffffe5\">&nbsp[PAD]&nbsp</span><span class=\"barcode\"; style=\"color: black; background-color: #ffffe5\">&nbsp[PAD]&nbsp</span><span class=\"barcode\"; style=\"color: black; background-color: #ffffe5\">&nbsp[PAD]&nbsp</span><span class=\"barcode\"; style=\"color: black; background-color: #ffffe5\">&nbsp[PAD]&nbsp</span><span class=\"barcode\"; style=\"color: black; background-color: #ffffe5\">&nbsp[PAD]&nbsp</span><span class=\"barcode\"; style=\"color: black; background-color: #ffffe5\">&nbsp[PAD]&nbsp</span><span class=\"barcode\"; style=\"color: black; background-color: #ffffe5\">&nbsp[PAD]&nbsp</span><span class=\"barcode\"; style=\"color: black; background-color: #ffffe5\">&nbsp[PAD]&nbsp</span>"
      ],
      "text/plain": [
       "<IPython.core.display.HTML object>"
      ]
     },
     "metadata": {},
     "output_type": "display_data"
    },
    {
     "data": {
      "text/html": [
       "<span class=\"barcode\"; style=\"color: black; background-color: #ffffe5\">&nbsp[CLS]&nbsp</span><span class=\"barcode\"; style=\"color: black; background-color: #ffffe5\">&nbspwhy&nbsp</span><span class=\"barcode\"; style=\"color: black; background-color: #ffffe5\">&nbspnot&nbsp</span><span class=\"barcode\"; style=\"color: black; background-color: #ffffe5\">&nbspgo&nbsp</span><span class=\"barcode\"; style=\"color: black; background-color: #ffffe5\">&nbspto&nbsp</span><span class=\"barcode\"; style=\"color: black; background-color: #ffffe5\">&nbspthe&nbsp</span><span class=\"barcode\"; style=\"color: black; background-color: #ffffe5\">&nbsppost&nbsp</span><span class=\"barcode\"; style=\"color: black; background-color: #ffffe5\">&nbspoffice&nbsp</span><span class=\"barcode\"; style=\"color: black; background-color: #ffffe5\">&nbspon&nbsp</span><span class=\"barcode\"; style=\"color: black; background-color: #ffffe5\">&nbspyour&nbsp</span><span class=\"barcode\"; style=\"color: black; background-color: #ffffe5\">&nbspway&nbsp</span><span class=\"barcode\"; style=\"color: black; background-color: #ffffe5\">&nbspto&nbsp</span><span class=\"barcode\"; style=\"color: black; background-color: #ffffe5\">&nbspthe&nbsp</span><span class=\"barcode\"; style=\"color: black; background-color: #ffffe5\">&nbspmall&nbsp</span><span class=\"barcode\"; style=\"color: black; background-color: #ffffe5\">&nbspand&nbsp</span><span class=\"barcode\"; style=\"color: black; background-color: #004529\">&nbspkill&nbsp</span><span class=\"barcode\"; style=\"color: black; background-color: #004629\">&nbsptwo&nbsp</span><span class=\"barcode\"; style=\"color: black; background-color: #00492b\">&nbspbirds&nbsp</span><span class=\"barcode\"; style=\"color: black; background-color: #00482a\">&nbspwith&nbsp</span><span class=\"barcode\"; style=\"color: black; background-color: #00492b\">&nbspone&nbsp</span><span class=\"barcode\"; style=\"color: black; background-color: #004629\">&nbspstone&nbsp</span><span class=\"barcode\"; style=\"color: black; background-color: #ffffe5\">&nbsp?&nbsp</span><span class=\"barcode\"; style=\"color: black; background-color: #ffffe5\">&nbsp[SEP]&nbsp</span><span class=\"barcode\"; style=\"color: black; background-color: #ffffe5\">&nbsp[PAD]&nbsp</span><span class=\"barcode\"; style=\"color: black; background-color: #ffffe5\">&nbsp[PAD]&nbsp</span><span class=\"barcode\"; style=\"color: black; background-color: #ffffe5\">&nbsp[PAD]&nbsp</span><span class=\"barcode\"; style=\"color: black; background-color: #ffffe5\">&nbsp[PAD]&nbsp</span><span class=\"barcode\"; style=\"color: black; background-color: #ffffe5\">&nbsp[PAD]&nbsp</span><span class=\"barcode\"; style=\"color: black; background-color: #ffffe5\">&nbsp[PAD]&nbsp</span><span class=\"barcode\"; style=\"color: black; background-color: #ffffe5\">&nbsp[PAD]&nbsp</span><span class=\"barcode\"; style=\"color: black; background-color: #ffffe5\">&nbsp[PAD]&nbsp</span><span class=\"barcode\"; style=\"color: black; background-color: #ffffe5\">&nbsp[PAD]&nbsp</span><span class=\"barcode\"; style=\"color: black; background-color: #ffffe5\">&nbsp[PAD]&nbsp</span><span class=\"barcode\"; style=\"color: black; background-color: #ffffe5\">&nbsp[PAD]&nbsp</span>"
      ],
      "text/plain": [
       "<IPython.core.display.HTML object>"
      ]
     },
     "metadata": {},
     "output_type": "display_data"
    },
    {
     "data": {
      "text/html": [
       "<span class=\"barcode\"; style=\"color: black; background-color: #ffffe5\">&nbsp[CLS]&nbsp</span><span class=\"barcode\"; style=\"color: black; background-color: #ffffe5\">&nbsphey&nbsp</span><span class=\"barcode\"; style=\"color: black; background-color: #ffffe5\">&nbsp,&nbsp</span><span class=\"barcode\"; style=\"color: black; background-color: #ffffe5\">&nbspi&nbsp</span><span class=\"barcode\"; style=\"color: black; background-color: #ffffe5\">&nbsp’&nbsp</span><span class=\"barcode\"; style=\"color: black; background-color: #ffffe5\">&nbspm&nbsp</span><span class=\"barcode\"; style=\"color: black; background-color: #ffffe5\">&nbspfeeling&nbsp</span><span class=\"barcode\"; style=\"color: black; background-color: #ffffe5\">&nbsppretty&nbsp</span><span class=\"barcode\"; style=\"color: black; background-color: #ffffe5\">&nbspangry&nbsp</span><span class=\"barcode\"; style=\"color: black; background-color: #ffffe5\">&nbspright&nbsp</span><span class=\"barcode\"; style=\"color: black; background-color: #ffffe5\">&nbspnow&nbsp</span><span class=\"barcode\"; style=\"color: black; background-color: #ffffe5\">&nbsp.&nbsp</span><span class=\"barcode\"; style=\"color: black; background-color: #ffffe5\">&nbspi&nbsp</span><span class=\"barcode\"; style=\"color: black; background-color: #ffffe5\">&nbsp’&nbsp</span><span class=\"barcode\"; style=\"color: black; background-color: #ffffe5\">&nbspm&nbsp</span><span class=\"barcode\"; style=\"color: black; background-color: #ffffe5\">&nbspgoing&nbsp</span><span class=\"barcode\"; style=\"color: black; background-color: #ffffe5\">&nbspto&nbsp</span><span class=\"barcode\"; style=\"color: black; background-color: #ffffe5\">&nbspgo&nbsp</span><span class=\"barcode\"; style=\"color: black; background-color: #004529\">&nbspblow&nbsp</span><span class=\"barcode\"; style=\"color: black; background-color: #004529\">&nbspoff&nbsp</span><span class=\"barcode\"; style=\"color: black; background-color: #004529\">&nbspsome&nbsp</span><span class=\"barcode\"; style=\"color: black; background-color: #004529\">&nbspsteam&nbsp</span><span class=\"barcode\"; style=\"color: black; background-color: #ffffe5\">&nbsp.&nbsp</span><span class=\"barcode\"; style=\"color: black; background-color: #ffffe5\">&nbsp[SEP]&nbsp</span><span class=\"barcode\"; style=\"color: black; background-color: #ffffe5\">&nbsp[PAD]&nbsp</span><span class=\"barcode\"; style=\"color: black; background-color: #ffffe5\">&nbsp[PAD]&nbsp</span><span class=\"barcode\"; style=\"color: black; background-color: #ffffe5\">&nbsp[PAD]&nbsp</span><span class=\"barcode\"; style=\"color: black; background-color: #ffffe5\">&nbsp[PAD]&nbsp</span><span class=\"barcode\"; style=\"color: black; background-color: #ffffe5\">&nbsp[PAD]&nbsp</span><span class=\"barcode\"; style=\"color: black; background-color: #ffffe5\">&nbsp[PAD]&nbsp</span><span class=\"barcode\"; style=\"color: black; background-color: #ffffe5\">&nbsp[PAD]&nbsp</span><span class=\"barcode\"; style=\"color: black; background-color: #ffffe5\">&nbsp[PAD]&nbsp</span><span class=\"barcode\"; style=\"color: black; background-color: #ffffe5\">&nbsp[PAD]&nbsp</span><span class=\"barcode\"; style=\"color: black; background-color: #ffffe5\">&nbsp[PAD]&nbsp</span>"
      ],
      "text/plain": [
       "<IPython.core.display.HTML object>"
      ]
     },
     "metadata": {},
     "output_type": "display_data"
    },
    {
     "data": {
      "text/html": [
       "<span class=\"barcode\"; style=\"color: black; background-color: #ffffe5\">&nbsp[CLS]&nbsp</span><span class=\"barcode\"; style=\"color: black; background-color: #ffffe5\">&nbspas&nbsp</span><span class=\"barcode\"; style=\"color: black; background-color: #ffffe5\">&nbspa&nbsp</span><span class=\"barcode\"; style=\"color: black; background-color: #004529\">&nbsprule&nbsp</span><span class=\"barcode\"; style=\"color: black; background-color: #004529\">&nbspof&nbsp</span><span class=\"barcode\"; style=\"color: black; background-color: #004629\">&nbspthumb&nbsp</span><span class=\"barcode\"; style=\"color: black; background-color: #ffffe5\">&nbsp,&nbsp</span><span class=\"barcode\"; style=\"color: black; background-color: #ffffe5\">&nbspyou&nbsp</span><span class=\"barcode\"; style=\"color: black; background-color: #ffffe5\">&nbspshould&nbsp</span><span class=\"barcode\"; style=\"color: black; background-color: #ffffe5\">&nbspusually&nbsp</span><span class=\"barcode\"; style=\"color: black; background-color: #ffffe5\">&nbsppay&nbsp</span><span class=\"barcode\"; style=\"color: black; background-color: #ffffe5\">&nbspfor&nbsp</span><span class=\"barcode\"; style=\"color: black; background-color: #ffffe5\">&nbspyour&nbsp</span><span class=\"barcode\"; style=\"color: black; background-color: #ffffe5\">&nbspdate&nbsp</span><span class=\"barcode\"; style=\"color: black; background-color: #ffffe5\">&nbsp’&nbsp</span><span class=\"barcode\"; style=\"color: black; background-color: #ffffe5\">&nbsps&nbsp</span><span class=\"barcode\"; style=\"color: black; background-color: #ffffe5\">&nbspdinner&nbsp</span><span class=\"barcode\"; style=\"color: black; background-color: #ffffe5\">&nbsp,&nbsp</span><span class=\"barcode\"; style=\"color: black; background-color: #ffffe5\">&nbsptoo&nbsp</span><span class=\"barcode\"; style=\"color: black; background-color: #ffffe5\">&nbsp.&nbsp</span><span class=\"barcode\"; style=\"color: black; background-color: #ffffe5\">&nbsp[SEP]&nbsp</span><span class=\"barcode\"; style=\"color: black; background-color: #ffffe5\">&nbsp[PAD]&nbsp</span><span class=\"barcode\"; style=\"color: black; background-color: #ffffe5\">&nbsp[PAD]&nbsp</span><span class=\"barcode\"; style=\"color: black; background-color: #ffffe5\">&nbsp[PAD]&nbsp</span><span class=\"barcode\"; style=\"color: black; background-color: #ffffe5\">&nbsp[PAD]&nbsp</span><span class=\"barcode\"; style=\"color: black; background-color: #ffffe5\">&nbsp[PAD]&nbsp</span><span class=\"barcode\"; style=\"color: black; background-color: #ffffe5\">&nbsp[PAD]&nbsp</span><span class=\"barcode\"; style=\"color: black; background-color: #ffffe5\">&nbsp[PAD]&nbsp</span><span class=\"barcode\"; style=\"color: black; background-color: #ffffe5\">&nbsp[PAD]&nbsp</span><span class=\"barcode\"; style=\"color: black; background-color: #ffffe5\">&nbsp[PAD]&nbsp</span><span class=\"barcode\"; style=\"color: black; background-color: #ffffe5\">&nbsp[PAD]&nbsp</span><span class=\"barcode\"; style=\"color: black; background-color: #ffffe5\">&nbsp[PAD]&nbsp</span><span class=\"barcode\"; style=\"color: black; background-color: #ffffe5\">&nbsp[PAD]&nbsp</span><span class=\"barcode\"; style=\"color: black; background-color: #ffffe5\">&nbsp[PAD]&nbsp</span>"
      ],
      "text/plain": [
       "<IPython.core.display.HTML object>"
      ]
     },
     "metadata": {},
     "output_type": "display_data"
    },
    {
     "data": {
      "text/html": [
       "<span class=\"barcode\"; style=\"color: black; background-color: #ffffe5\">&nbsp[CLS]&nbsp</span><span class=\"barcode\"; style=\"color: black; background-color: #ffffe5\">&nbspif&nbsp</span><span class=\"barcode\"; style=\"color: black; background-color: #ffffe5\">&nbspyou&nbsp</span><span class=\"barcode\"; style=\"color: black; background-color: #00522e\">&nbspburn&nbsp</span><span class=\"barcode\"; style=\"color: black; background-color: #00542f\">&nbspthe&nbsp</span><span class=\"barcode\"; style=\"color: black; background-color: #005b32\">&nbspcandle&nbsp</span><span class=\"barcode\"; style=\"color: black; background-color: #006234\">&nbspat&nbsp</span><span class=\"barcode\"; style=\"color: black; background-color: #2a8d49\">&nbspboth&nbsp</span><span class=\"barcode\"; style=\"color: black; background-color: #abdc8d\">&nbspends&nbsp</span><span class=\"barcode\"; style=\"color: black; background-color: #ffffe5\">&nbsp,&nbsp</span><span class=\"barcode\"; style=\"color: black; background-color: #ffffe5\">&nbspyou&nbsp</span><span class=\"barcode\"; style=\"color: black; background-color: #ffffe5\">&nbspwork&nbsp</span><span class=\"barcode\"; style=\"color: black; background-color: #ffffe5\">&nbspexcessive&nbsp</span><span class=\"barcode\"; style=\"color: black; background-color: #ffffe5\">&nbsp##ly&nbsp</span><span class=\"barcode\"; style=\"color: black; background-color: #ffffe5\">&nbsphard&nbsp</span><span class=\"barcode\"; style=\"color: black; background-color: #ffffe5\">&nbsp,&nbsp</span><span class=\"barcode\"; style=\"color: black; background-color: #ffffe5\">&nbspsay&nbsp</span><span class=\"barcode\"; style=\"color: black; background-color: #ffffe5\">&nbsp,&nbsp</span><span class=\"barcode\"; style=\"color: black; background-color: #ffffe5\">&nbspby&nbsp</span><span class=\"barcode\"; style=\"color: black; background-color: #ffffe5\">&nbspkeeping&nbsp</span><span class=\"barcode\"; style=\"color: black; background-color: #ffffe5\">&nbsptwo&nbsp</span><span class=\"barcode\"; style=\"color: black; background-color: #ffffe5\">&nbspjobs&nbsp</span><span class=\"barcode\"; style=\"color: black; background-color: #ffffe5\">&nbspor&nbsp</span><span class=\"barcode\"; style=\"color: black; background-color: #ffffe5\">&nbspby&nbsp</span><span class=\"barcode\"; style=\"color: black; background-color: #ffffe5\">&nbspleading&nbsp</span><span class=\"barcode\"; style=\"color: black; background-color: #ffffe5\">&nbspa&nbsp</span><span class=\"barcode\"; style=\"color: black; background-color: #ffffe5\">&nbspbusy&nbsp</span><span class=\"barcode\"; style=\"color: black; background-color: #ffffe5\">&nbspsocial&nbsp</span><span class=\"barcode\"; style=\"color: black; background-color: #ffffe5\">&nbsplife&nbsp</span><span class=\"barcode\"; style=\"color: black; background-color: #ffffe5\">&nbspin&nbsp</span><span class=\"barcode\"; style=\"color: black; background-color: #ffffe5\">&nbspthe&nbsp</span><span class=\"barcode\"; style=\"color: black; background-color: #ffffe5\">&nbspevening&nbsp</span><span class=\"barcode\"; style=\"color: black; background-color: #ffffe5\">&nbsp.&nbsp</span><span class=\"barcode\"; style=\"color: black; background-color: #ffffe5\">&nbsp[SEP]&nbsp</span>"
      ],
      "text/plain": [
       "<IPython.core.display.HTML object>"
      ]
     },
     "metadata": {},
     "output_type": "display_data"
    },
    {
     "data": {
      "text/html": [
       "<span class=\"barcode\"; style=\"color: black; background-color: #ffffe5\">&nbsp[CLS]&nbsp</span><span class=\"barcode\"; style=\"color: black; background-color: #ffffe5\">&nbspyou&nbsp</span><span class=\"barcode\"; style=\"color: black; background-color: #ffffe5\">&nbspwere&nbsp</span><span class=\"barcode\"; style=\"color: black; background-color: #ffffe5\">&nbspas&nbsp</span><span class=\"barcode\"; style=\"color: black; background-color: #004529\">&nbspbrave&nbsp</span><span class=\"barcode\"; style=\"color: black; background-color: #004529\">&nbspas&nbsp</span><span class=\"barcode\"; style=\"color: black; background-color: #004529\">&nbspa&nbsp</span><span class=\"barcode\"; style=\"color: black; background-color: #004529\">&nbsplion&nbsp</span><span class=\"barcode\"; style=\"color: black; background-color: #ffffe5\">&nbsp.&nbsp</span><span class=\"barcode\"; style=\"color: black; background-color: #ffffe5\">&nbsp[SEP]&nbsp</span><span class=\"barcode\"; style=\"color: black; background-color: #ffffe5\">&nbsp[PAD]&nbsp</span><span class=\"barcode\"; style=\"color: black; background-color: #ffffe5\">&nbsp[PAD]&nbsp</span><span class=\"barcode\"; style=\"color: black; background-color: #ffffe5\">&nbsp[PAD]&nbsp</span><span class=\"barcode\"; style=\"color: black; background-color: #ffffe5\">&nbsp[PAD]&nbsp</span><span class=\"barcode\"; style=\"color: black; background-color: #ffffe5\">&nbsp[PAD]&nbsp</span><span class=\"barcode\"; style=\"color: black; background-color: #ffffe5\">&nbsp[PAD]&nbsp</span><span class=\"barcode\"; style=\"color: black; background-color: #ffffe5\">&nbsp[PAD]&nbsp</span><span class=\"barcode\"; style=\"color: black; background-color: #ffffe5\">&nbsp[PAD]&nbsp</span><span class=\"barcode\"; style=\"color: black; background-color: #ffffe5\">&nbsp[PAD]&nbsp</span><span class=\"barcode\"; style=\"color: black; background-color: #ffffe5\">&nbsp[PAD]&nbsp</span><span class=\"barcode\"; style=\"color: black; background-color: #ffffe5\">&nbsp[PAD]&nbsp</span><span class=\"barcode\"; style=\"color: black; background-color: #ffffe5\">&nbsp[PAD]&nbsp</span><span class=\"barcode\"; style=\"color: black; background-color: #ffffe5\">&nbsp[PAD]&nbsp</span><span class=\"barcode\"; style=\"color: black; background-color: #ffffe5\">&nbsp[PAD]&nbsp</span><span class=\"barcode\"; style=\"color: black; background-color: #ffffe5\">&nbsp[PAD]&nbsp</span><span class=\"barcode\"; style=\"color: black; background-color: #ffffe5\">&nbsp[PAD]&nbsp</span><span class=\"barcode\"; style=\"color: black; background-color: #ffffe5\">&nbsp[PAD]&nbsp</span><span class=\"barcode\"; style=\"color: black; background-color: #ffffe5\">&nbsp[PAD]&nbsp</span><span class=\"barcode\"; style=\"color: black; background-color: #ffffe5\">&nbsp[PAD]&nbsp</span><span class=\"barcode\"; style=\"color: black; background-color: #ffffe5\">&nbsp[PAD]&nbsp</span><span class=\"barcode\"; style=\"color: black; background-color: #ffffe5\">&nbsp[PAD]&nbsp</span><span class=\"barcode\"; style=\"color: black; background-color: #ffffe5\">&nbsp[PAD]&nbsp</span><span class=\"barcode\"; style=\"color: black; background-color: #ffffe5\">&nbsp[PAD]&nbsp</span><span class=\"barcode\"; style=\"color: black; background-color: #ffffe5\">&nbsp[PAD]&nbsp</span>"
      ],
      "text/plain": [
       "<IPython.core.display.HTML object>"
      ]
     },
     "metadata": {},
     "output_type": "display_data"
    },
    {
     "data": {
      "text/html": [
       "<span class=\"barcode\"; style=\"color: black; background-color: #ffffe5\">&nbsp[CLS]&nbsp</span><span class=\"barcode\"; style=\"color: black; background-color: #ffffe5\">&nbspthis&nbsp</span><span class=\"barcode\"; style=\"color: black; background-color: #ffffe5\">&nbsphouse&nbsp</span><span class=\"barcode\"; style=\"color: black; background-color: #ffffe5\">&nbspis&nbsp</span><span class=\"barcode\"; style=\"color: black; background-color: #ffffe5\">&nbspas&nbsp</span><span class=\"barcode\"; style=\"color: black; background-color: #004529\">&nbspclean&nbsp</span><span class=\"barcode\"; style=\"color: black; background-color: #004529\">&nbspas&nbsp</span><span class=\"barcode\"; style=\"color: black; background-color: #004529\">&nbspa&nbsp</span><span class=\"barcode\"; style=\"color: black; background-color: #004529\">&nbspwhistle&nbsp</span><span class=\"barcode\"; style=\"color: black; background-color: #ffffe5\">&nbsp.&nbsp</span><span class=\"barcode\"; style=\"color: black; background-color: #ffffe5\">&nbsp[SEP]&nbsp</span><span class=\"barcode\"; style=\"color: black; background-color: #ffffe5\">&nbsp[PAD]&nbsp</span><span class=\"barcode\"; style=\"color: black; background-color: #ffffe5\">&nbsp[PAD]&nbsp</span><span class=\"barcode\"; style=\"color: black; background-color: #ffffe5\">&nbsp[PAD]&nbsp</span><span class=\"barcode\"; style=\"color: black; background-color: #ffffe5\">&nbsp[PAD]&nbsp</span><span class=\"barcode\"; style=\"color: black; background-color: #ffffe5\">&nbsp[PAD]&nbsp</span><span class=\"barcode\"; style=\"color: black; background-color: #ffffe5\">&nbsp[PAD]&nbsp</span><span class=\"barcode\"; style=\"color: black; background-color: #ffffe5\">&nbsp[PAD]&nbsp</span><span class=\"barcode\"; style=\"color: black; background-color: #ffffe5\">&nbsp[PAD]&nbsp</span><span class=\"barcode\"; style=\"color: black; background-color: #ffffe5\">&nbsp[PAD]&nbsp</span><span class=\"barcode\"; style=\"color: black; background-color: #ffffe5\">&nbsp[PAD]&nbsp</span><span class=\"barcode\"; style=\"color: black; background-color: #ffffe5\">&nbsp[PAD]&nbsp</span><span class=\"barcode\"; style=\"color: black; background-color: #ffffe5\">&nbsp[PAD]&nbsp</span><span class=\"barcode\"; style=\"color: black; background-color: #ffffe5\">&nbsp[PAD]&nbsp</span><span class=\"barcode\"; style=\"color: black; background-color: #ffffe5\">&nbsp[PAD]&nbsp</span><span class=\"barcode\"; style=\"color: black; background-color: #ffffe5\">&nbsp[PAD]&nbsp</span><span class=\"barcode\"; style=\"color: black; background-color: #ffffe5\">&nbsp[PAD]&nbsp</span><span class=\"barcode\"; style=\"color: black; background-color: #ffffe5\">&nbsp[PAD]&nbsp</span><span class=\"barcode\"; style=\"color: black; background-color: #ffffe5\">&nbsp[PAD]&nbsp</span><span class=\"barcode\"; style=\"color: black; background-color: #ffffe5\">&nbsp[PAD]&nbsp</span><span class=\"barcode\"; style=\"color: black; background-color: #ffffe5\">&nbsp[PAD]&nbsp</span><span class=\"barcode\"; style=\"color: black; background-color: #ffffe5\">&nbsp[PAD]&nbsp</span><span class=\"barcode\"; style=\"color: black; background-color: #ffffe5\">&nbsp[PAD]&nbsp</span><span class=\"barcode\"; style=\"color: black; background-color: #ffffe5\">&nbsp[PAD]&nbsp</span>"
      ],
      "text/plain": [
       "<IPython.core.display.HTML object>"
      ]
     },
     "metadata": {},
     "output_type": "display_data"
    },
    {
     "data": {
      "text/html": [
       "<span class=\"barcode\"; style=\"color: black; background-color: #ffffe5\">&nbsp[CLS]&nbsp</span><span class=\"barcode\"; style=\"color: black; background-color: #ffffe5\">&nbspsometimes&nbsp</span><span class=\"barcode\"; style=\"color: black; background-color: #ffffe5\">&nbspyou&nbsp</span><span class=\"barcode\"; style=\"color: black; background-color: #ffffe5\">&nbspfeel&nbsp</span><span class=\"barcode\"; style=\"color: black; background-color: #004529\">&nbsplike&nbsp</span><span class=\"barcode\"; style=\"color: black; background-color: #004529\">&nbspa&nbsp</span><span class=\"barcode\"; style=\"color: black; background-color: #004529\">&nbspnut&nbsp</span><span class=\"barcode\"; style=\"color: black; background-color: #ffffe5\">&nbsp,&nbsp</span><span class=\"barcode\"; style=\"color: black; background-color: #ffffe5\">&nbspsometimes&nbsp</span><span class=\"barcode\"; style=\"color: black; background-color: #ffffe5\">&nbspyou&nbsp</span><span class=\"barcode\"; style=\"color: black; background-color: #ffffe5\">&nbspdon&nbsp</span><span class=\"barcode\"; style=\"color: black; background-color: #ffffe5\">&nbsp'&nbsp</span><span class=\"barcode\"; style=\"color: black; background-color: #ffffe5\">&nbspt&nbsp</span><span class=\"barcode\"; style=\"color: black; background-color: #ffffe5\">&nbsp.&nbsp</span><span class=\"barcode\"; style=\"color: black; background-color: #ffffe5\">&nbsp[SEP]&nbsp</span><span class=\"barcode\"; style=\"color: black; background-color: #ffffe5\">&nbsp[PAD]&nbsp</span><span class=\"barcode\"; style=\"color: black; background-color: #ffffe5\">&nbsp[PAD]&nbsp</span><span class=\"barcode\"; style=\"color: black; background-color: #ffffe5\">&nbsp[PAD]&nbsp</span><span class=\"barcode\"; style=\"color: black; background-color: #ffffe5\">&nbsp[PAD]&nbsp</span><span class=\"barcode\"; style=\"color: black; background-color: #ffffe5\">&nbsp[PAD]&nbsp</span><span class=\"barcode\"; style=\"color: black; background-color: #ffffe5\">&nbsp[PAD]&nbsp</span><span class=\"barcode\"; style=\"color: black; background-color: #ffffe5\">&nbsp[PAD]&nbsp</span><span class=\"barcode\"; style=\"color: black; background-color: #ffffe5\">&nbsp[PAD]&nbsp</span><span class=\"barcode\"; style=\"color: black; background-color: #ffffe5\">&nbsp[PAD]&nbsp</span><span class=\"barcode\"; style=\"color: black; background-color: #ffffe5\">&nbsp[PAD]&nbsp</span><span class=\"barcode\"; style=\"color: black; background-color: #ffffe5\">&nbsp[PAD]&nbsp</span><span class=\"barcode\"; style=\"color: black; background-color: #ffffe5\">&nbsp[PAD]&nbsp</span><span class=\"barcode\"; style=\"color: black; background-color: #ffffe5\">&nbsp[PAD]&nbsp</span><span class=\"barcode\"; style=\"color: black; background-color: #ffffe5\">&nbsp[PAD]&nbsp</span><span class=\"barcode\"; style=\"color: black; background-color: #ffffe5\">&nbsp[PAD]&nbsp</span><span class=\"barcode\"; style=\"color: black; background-color: #ffffe5\">&nbsp[PAD]&nbsp</span><span class=\"barcode\"; style=\"color: black; background-color: #ffffe5\">&nbsp[PAD]&nbsp</span><span class=\"barcode\"; style=\"color: black; background-color: #ffffe5\">&nbsp[PAD]&nbsp</span><span class=\"barcode\"; style=\"color: black; background-color: #ffffe5\">&nbsp[PAD]&nbsp</span>"
      ],
      "text/plain": [
       "<IPython.core.display.HTML object>"
      ]
     },
     "metadata": {},
     "output_type": "display_data"
    },
    {
     "data": {
      "text/html": [
       "<span class=\"barcode\"; style=\"color: black; background-color: #ffffe5\">&nbsp[CLS]&nbsp</span><span class=\"barcode\"; style=\"color: black; background-color: #ffffe5\">&nbspwe&nbsp</span><span class=\"barcode\"; style=\"color: black; background-color: #ffffe5\">&nbspwill&nbsp</span><span class=\"barcode\"; style=\"color: black; background-color: #ffffe5\">&nbspalso&nbsp</span><span class=\"barcode\"; style=\"color: black; background-color: #ffffe5\">&nbspsee&nbsp</span><span class=\"barcode\"; style=\"color: black; background-color: #ffffe5\">&nbspwhich&nbsp</span><span class=\"barcode\"; style=\"color: black; background-color: #ffffe5\">&nbsplibrary&nbsp</span><span class=\"barcode\"; style=\"color: black; background-color: #ffffe5\">&nbspis&nbsp</span><span class=\"barcode\"; style=\"color: black; background-color: #ffffe5\">&nbsprecommended&nbsp</span><span class=\"barcode\"; style=\"color: black; background-color: #ffffe5\">&nbspto&nbsp</span><span class=\"barcode\"; style=\"color: black; background-color: #ffffe5\">&nbspuse&nbsp</span><span class=\"barcode\"; style=\"color: black; background-color: #ffffe5\">&nbspon&nbsp</span><span class=\"barcode\"; style=\"color: black; background-color: #ffffe5\">&nbspeach&nbsp</span><span class=\"barcode\"; style=\"color: black; background-color: #ffffe5\">&nbspoccasion&nbsp</span><span class=\"barcode\"; style=\"color: black; background-color: #ffffe5\">&nbspand&nbsp</span><span class=\"barcode\"; style=\"color: black; background-color: #ffffe5\">&nbspthe&nbsp</span><span class=\"barcode\"; style=\"color: black; background-color: #ffffe5\">&nbspunique&nbsp</span><span class=\"barcode\"; style=\"color: black; background-color: #ffffe5\">&nbspcapabilities&nbsp</span><span class=\"barcode\"; style=\"color: black; background-color: #ffffe5\">&nbspof&nbsp</span><span class=\"barcode\"; style=\"color: black; background-color: #ffffe5\">&nbspeach&nbsp</span><span class=\"barcode\"; style=\"color: black; background-color: #ffffe5\">&nbsplibrary&nbsp</span><span class=\"barcode\"; style=\"color: black; background-color: #ffffe5\">&nbsp.&nbsp</span><span class=\"barcode\"; style=\"color: black; background-color: #ffffe5\">&nbsp[SEP]&nbsp</span><span class=\"barcode\"; style=\"color: black; background-color: #ffffe5\">&nbsp[PAD]&nbsp</span><span class=\"barcode\"; style=\"color: black; background-color: #ffffe5\">&nbsp[PAD]&nbsp</span><span class=\"barcode\"; style=\"color: black; background-color: #ffffe5\">&nbsp[PAD]&nbsp</span><span class=\"barcode\"; style=\"color: black; background-color: #ffffe5\">&nbsp[PAD]&nbsp</span><span class=\"barcode\"; style=\"color: black; background-color: #ffffe5\">&nbsp[PAD]&nbsp</span><span class=\"barcode\"; style=\"color: black; background-color: #ffffe5\">&nbsp[PAD]&nbsp</span><span class=\"barcode\"; style=\"color: black; background-color: #ffffe5\">&nbsp[PAD]&nbsp</span><span class=\"barcode\"; style=\"color: black; background-color: #ffffe5\">&nbsp[PAD]&nbsp</span><span class=\"barcode\"; style=\"color: black; background-color: #ffffe5\">&nbsp[PAD]&nbsp</span><span class=\"barcode\"; style=\"color: black; background-color: #ffffe5\">&nbsp[PAD]&nbsp</span><span class=\"barcode\"; style=\"color: black; background-color: #ffffe5\">&nbsp[PAD]&nbsp</span>"
      ],
      "text/plain": [
       "<IPython.core.display.HTML object>"
      ]
     },
     "metadata": {},
     "output_type": "display_data"
    },
    {
     "data": {
      "text/html": [
       "<span class=\"barcode\"; style=\"color: black; background-color: #ffffe5\">&nbsp[CLS]&nbsp</span><span class=\"barcode\"; style=\"color: black; background-color: #ffffe5\">&nbspi&nbsp</span><span class=\"barcode\"; style=\"color: black; background-color: #ffffe5\">&nbspwas&nbsp</span><span class=\"barcode\"; style=\"color: black; background-color: #ffffe4\">&nbspdizzy&nbsp</span><span class=\"barcode\"; style=\"color: black; background-color: #feffe2\">&nbspand&nbsp</span><span class=\"barcode\"; style=\"color: black; background-color: #ffffe5\">&nbspneeded&nbsp</span><span class=\"barcode\"; style=\"color: black; background-color: #ffffe5\">&nbspto&nbsp</span><span class=\"barcode\"; style=\"color: black; background-color: #ffffe5\">&nbspeat&nbsp</span><span class=\"barcode\"; style=\"color: black; background-color: #ffffe5\">&nbspsomething&nbsp</span><span class=\"barcode\"; style=\"color: black; background-color: #ffffe5\">&nbsp[SEP]&nbsp</span><span class=\"barcode\"; style=\"color: black; background-color: #ffffe5\">&nbsp[PAD]&nbsp</span><span class=\"barcode\"; style=\"color: black; background-color: #ffffe5\">&nbsp[PAD]&nbsp</span><span class=\"barcode\"; style=\"color: black; background-color: #ffffe5\">&nbsp[PAD]&nbsp</span><span class=\"barcode\"; style=\"color: black; background-color: #ffffe5\">&nbsp[PAD]&nbsp</span><span class=\"barcode\"; style=\"color: black; background-color: #ffffe5\">&nbsp[PAD]&nbsp</span><span class=\"barcode\"; style=\"color: black; background-color: #ffffe5\">&nbsp[PAD]&nbsp</span><span class=\"barcode\"; style=\"color: black; background-color: #ffffe5\">&nbsp[PAD]&nbsp</span><span class=\"barcode\"; style=\"color: black; background-color: #ffffe5\">&nbsp[PAD]&nbsp</span><span class=\"barcode\"; style=\"color: black; background-color: #ffffe5\">&nbsp[PAD]&nbsp</span><span class=\"barcode\"; style=\"color: black; background-color: #ffffe5\">&nbsp[PAD]&nbsp</span><span class=\"barcode\"; style=\"color: black; background-color: #ffffe5\">&nbsp[PAD]&nbsp</span><span class=\"barcode\"; style=\"color: black; background-color: #ffffe5\">&nbsp[PAD]&nbsp</span><span class=\"barcode\"; style=\"color: black; background-color: #ffffe5\">&nbsp[PAD]&nbsp</span><span class=\"barcode\"; style=\"color: black; background-color: #ffffe5\">&nbsp[PAD]&nbsp</span><span class=\"barcode\"; style=\"color: black; background-color: #ffffe5\">&nbsp[PAD]&nbsp</span><span class=\"barcode\"; style=\"color: black; background-color: #ffffe5\">&nbsp[PAD]&nbsp</span><span class=\"barcode\"; style=\"color: black; background-color: #ffffe5\">&nbsp[PAD]&nbsp</span><span class=\"barcode\"; style=\"color: black; background-color: #ffffe5\">&nbsp[PAD]&nbsp</span><span class=\"barcode\"; style=\"color: black; background-color: #ffffe4\">&nbsp[PAD]&nbsp</span><span class=\"barcode\"; style=\"color: black; background-color: #ffffe4\">&nbsp[PAD]&nbsp</span><span class=\"barcode\"; style=\"color: black; background-color: #fbfed2\">&nbsp[PAD]&nbsp</span><span class=\"barcode\"; style=\"color: black; background-color: #fbfdcf\">&nbsp[PAD]&nbsp</span><span class=\"barcode\"; style=\"color: black; background-color: #c1e698\">&nbsp[PAD]&nbsp</span><span class=\"barcode\"; style=\"color: black; background-color: #edf8b2\">&nbsp[PAD]&nbsp</span>"
      ],
      "text/plain": [
       "<IPython.core.display.HTML object>"
      ]
     },
     "metadata": {},
     "output_type": "display_data"
    },
    {
     "data": {
      "text/html": [
       "<span class=\"barcode\"; style=\"color: black; background-color: #ffffe5\">&nbsp[CLS]&nbsp</span><span class=\"barcode\"; style=\"color: black; background-color: #ffffe5\">&nbspafter&nbsp</span><span class=\"barcode\"; style=\"color: black; background-color: #ffffe5\">&nbspwinning&nbsp</span><span class=\"barcode\"; style=\"color: black; background-color: #ffffe5\">&nbspthe&nbsp</span><span class=\"barcode\"; style=\"color: black; background-color: #ffffe5\">&nbsplottery&nbsp</span><span class=\"barcode\"; style=\"color: black; background-color: #ffffe5\">&nbsp,&nbsp</span><span class=\"barcode\"; style=\"color: black; background-color: #ffffe5\">&nbspshe&nbsp</span><span class=\"barcode\"; style=\"color: black; background-color: #ffffe5\">&nbspstruggled&nbsp</span><span class=\"barcode\"; style=\"color: black; background-color: #ffffe5\">&nbspto&nbsp</span><span class=\"barcode\"; style=\"color: black; background-color: #ffffe5\">&nbspkeep&nbsp</span><span class=\"barcode\"; style=\"color: black; background-color: #ffffe5\">&nbspher&nbsp</span><span class=\"barcode\"; style=\"color: black; background-color: #ffffe5\">&nbspfeet&nbsp</span><span class=\"barcode\"; style=\"color: black; background-color: #ffffe5\">&nbspon&nbsp</span><span class=\"barcode\"; style=\"color: black; background-color: #ffffe5\">&nbspthe&nbsp</span><span class=\"barcode\"; style=\"color: black; background-color: #ffffe5\">&nbspground&nbsp</span><span class=\"barcode\"; style=\"color: black; background-color: #ffffe5\">&nbspand&nbsp</span><span class=\"barcode\"; style=\"color: black; background-color: #ffffe5\">&nbspnot&nbsp</span><span class=\"barcode\"; style=\"color: black; background-color: #ffffe5\">&nbspget&nbsp</span><span class=\"barcode\"; style=\"color: black; background-color: #ffffe5\">&nbspcarried&nbsp</span><span class=\"barcode\"; style=\"color: black; background-color: #ffffe5\">&nbspaway&nbsp</span><span class=\"barcode\"; style=\"color: black; background-color: #ffffe5\">&nbspby&nbsp</span><span class=\"barcode\"; style=\"color: black; background-color: #ffffe5\">&nbspher&nbsp</span><span class=\"barcode\"; style=\"color: black; background-color: #ffffe5\">&nbspnew&nbsp</span><span class=\"barcode\"; style=\"color: black; background-color: #ffffe5\">&nbspwealth&nbsp</span><span class=\"barcode\"; style=\"color: black; background-color: #ffffe5\">&nbsp.&nbsp</span><span class=\"barcode\"; style=\"color: black; background-color: #ffffe5\">&nbsp[SEP]&nbsp</span><span class=\"barcode\"; style=\"color: black; background-color: #ffffe5\">&nbsp[PAD]&nbsp</span><span class=\"barcode\"; style=\"color: black; background-color: #ffffe5\">&nbsp[PAD]&nbsp</span><span class=\"barcode\"; style=\"color: black; background-color: #ffffe5\">&nbsp[PAD]&nbsp</span><span class=\"barcode\"; style=\"color: black; background-color: #ffffe5\">&nbsp[PAD]&nbsp</span><span class=\"barcode\"; style=\"color: black; background-color: #ffffe5\">&nbsp[PAD]&nbsp</span><span class=\"barcode\"; style=\"color: black; background-color: #ffffe5\">&nbsp[PAD]&nbsp</span><span class=\"barcode\"; style=\"color: black; background-color: #ffffe5\">&nbsp[PAD]&nbsp</span><span class=\"barcode\"; style=\"color: black; background-color: #ffffe5\">&nbsp[PAD]&nbsp</span>"
      ],
      "text/plain": [
       "<IPython.core.display.HTML object>"
      ]
     },
     "metadata": {},
     "output_type": "display_data"
    },
    {
     "data": {
      "text/html": [
       "<span class=\"barcode\"; style=\"color: black; background-color: #ffffe5\">&nbsp[CLS]&nbsp</span><span class=\"barcode\"; style=\"color: black; background-color: #ffffe5\">&nbspafter&nbsp</span><span class=\"barcode\"; style=\"color: black; background-color: #ffffe5\">&nbspthis&nbsp</span><span class=\"barcode\"; style=\"color: black; background-color: #ffffe5\">&nbsptrauma&nbsp</span><span class=\"barcode\"; style=\"color: black; background-color: #ffffe5\">&nbspi&nbsp</span><span class=\"barcode\"; style=\"color: black; background-color: #feffe2\">&nbspfelt&nbsp</span><span class=\"barcode\"; style=\"color: black; background-color: #ffffe4\">&nbsplike&nbsp</span><span class=\"barcode\"; style=\"color: black; background-color: #feffe2\">&nbspa&nbsp</span><span class=\"barcode\"; style=\"color: black; background-color: #feffdf\">&nbsptrain&nbsp</span><span class=\"barcode\"; style=\"color: black; background-color: #feffe1\">&nbsp##wr&nbsp</span><span class=\"barcode\"; style=\"color: black; background-color: #ffffe5\">&nbsp##eck&nbsp</span><span class=\"barcode\"; style=\"color: black; background-color: #ffffe5\">&nbsp[SEP]&nbsp</span><span class=\"barcode\"; style=\"color: black; background-color: #ffffe5\">&nbsp[PAD]&nbsp</span><span class=\"barcode\"; style=\"color: black; background-color: #ffffe5\">&nbsp[PAD]&nbsp</span><span class=\"barcode\"; style=\"color: black; background-color: #ffffe5\">&nbsp[PAD]&nbsp</span><span class=\"barcode\"; style=\"color: black; background-color: #ffffe5\">&nbsp[PAD]&nbsp</span><span class=\"barcode\"; style=\"color: black; background-color: #ffffe5\">&nbsp[PAD]&nbsp</span><span class=\"barcode\"; style=\"color: black; background-color: #ffffe5\">&nbsp[PAD]&nbsp</span><span class=\"barcode\"; style=\"color: black; background-color: #ffffe5\">&nbsp[PAD]&nbsp</span><span class=\"barcode\"; style=\"color: black; background-color: #ffffe5\">&nbsp[PAD]&nbsp</span><span class=\"barcode\"; style=\"color: black; background-color: #ffffe5\">&nbsp[PAD]&nbsp</span><span class=\"barcode\"; style=\"color: black; background-color: #ffffe5\">&nbsp[PAD]&nbsp</span><span class=\"barcode\"; style=\"color: black; background-color: #ffffe5\">&nbsp[PAD]&nbsp</span><span class=\"barcode\"; style=\"color: black; background-color: #ffffe5\">&nbsp[PAD]&nbsp</span><span class=\"barcode\"; style=\"color: black; background-color: #ffffe5\">&nbsp[PAD]&nbsp</span><span class=\"barcode\"; style=\"color: black; background-color: #ffffe5\">&nbsp[PAD]&nbsp</span><span class=\"barcode\"; style=\"color: black; background-color: #ffffe5\">&nbsp[PAD]&nbsp</span><span class=\"barcode\"; style=\"color: black; background-color: #ffffe5\">&nbsp[PAD]&nbsp</span><span class=\"barcode\"; style=\"color: black; background-color: #ffffe5\">&nbsp[PAD]&nbsp</span><span class=\"barcode\"; style=\"color: black; background-color: #ffffe5\">&nbsp[PAD]&nbsp</span><span class=\"barcode\"; style=\"color: black; background-color: #ffffe5\">&nbsp[PAD]&nbsp</span><span class=\"barcode\"; style=\"color: black; background-color: #ffffe5\">&nbsp[PAD]&nbsp</span><span class=\"barcode\"; style=\"color: black; background-color: #ffffe5\">&nbsp[PAD]&nbsp</span><span class=\"barcode\"; style=\"color: black; background-color: #ffffe4\">&nbsp[PAD]&nbsp</span>"
      ],
      "text/plain": [
       "<IPython.core.display.HTML object>"
      ]
     },
     "metadata": {},
     "output_type": "display_data"
    }
   ],
   "source": [
    "print('Visualize Results by Scoring: ')\n",
    "for i in range(len(sentences_tkns)):\n",
    "    s = simple_scoring_viz(sentences_tkns[i], idiom_class_probs[i], 'YlGn')\n",
    "    display(HTML(s))"
   ]
  },
  {
   "cell_type": "code",
   "execution_count": 16,
   "id": "e9b5f242",
   "metadata": {},
   "outputs": [
    {
     "name": "stdout",
     "output_type": "stream",
     "text": [
      "Visualize Results by Classification: \n"
     ]
    },
    {
     "data": {
      "text/html": [
       "<span class=\"barcode\"; style=\"color: black; background-color: #ffffe5\">&nbsp[CLS]&nbsp</span><span class=\"barcode\"; style=\"color: black; background-color: #ffffe5\">&nbspif&nbsp</span><span class=\"barcode\"; style=\"color: black; background-color: #ffffe5\">&nbspyou&nbsp</span><span class=\"barcode\"; style=\"color: black; background-color: #ffffe5\">&nbsp’&nbsp</span><span class=\"barcode\"; style=\"color: black; background-color: #ffffe5\">&nbspre&nbsp</span><span class=\"barcode\"; style=\"color: black; background-color: #004529\">&nbsphead&nbsp</span><span class=\"barcode\"; style=\"color: black; background-color: #004529\">&nbspover&nbsp</span><span class=\"barcode\"; style=\"color: black; background-color: #004529\">&nbspheels&nbsp</span><span class=\"barcode\"; style=\"color: black; background-color: #ffffe5\">&nbsp,&nbsp</span><span class=\"barcode\"; style=\"color: black; background-color: #ffffe5\">&nbspyou&nbsp</span><span class=\"barcode\"; style=\"color: black; background-color: #ffffe5\">&nbsp’&nbsp</span><span class=\"barcode\"; style=\"color: black; background-color: #ffffe5\">&nbspre&nbsp</span><span class=\"barcode\"; style=\"color: black; background-color: #ffffe5\">&nbspcompletely&nbsp</span><span class=\"barcode\"; style=\"color: black; background-color: #ffffe5\">&nbspin&nbsp</span><span class=\"barcode\"; style=\"color: black; background-color: #ffffe5\">&nbsplove&nbsp</span><span class=\"barcode\"; style=\"color: black; background-color: #ffffe5\">&nbsp.&nbsp</span><span class=\"barcode\"; style=\"color: black; background-color: #ffffe5\">&nbsp[SEP]&nbsp</span><span class=\"barcode\"; style=\"color: black; background-color: #ffffe5\">&nbsp[PAD]&nbsp</span><span class=\"barcode\"; style=\"color: black; background-color: #ffffe5\">&nbsp[PAD]&nbsp</span><span class=\"barcode\"; style=\"color: black; background-color: #ffffe5\">&nbsp[PAD]&nbsp</span><span class=\"barcode\"; style=\"color: black; background-color: #ffffe5\">&nbsp[PAD]&nbsp</span><span class=\"barcode\"; style=\"color: black; background-color: #ffffe5\">&nbsp[PAD]&nbsp</span><span class=\"barcode\"; style=\"color: black; background-color: #ffffe5\">&nbsp[PAD]&nbsp</span><span class=\"barcode\"; style=\"color: black; background-color: #ffffe5\">&nbsp[PAD]&nbsp</span><span class=\"barcode\"; style=\"color: black; background-color: #ffffe5\">&nbsp[PAD]&nbsp</span><span class=\"barcode\"; style=\"color: black; background-color: #ffffe5\">&nbsp[PAD]&nbsp</span><span class=\"barcode\"; style=\"color: black; background-color: #ffffe5\">&nbsp[PAD]&nbsp</span><span class=\"barcode\"; style=\"color: black; background-color: #ffffe5\">&nbsp[PAD]&nbsp</span><span class=\"barcode\"; style=\"color: black; background-color: #ffffe5\">&nbsp[PAD]&nbsp</span><span class=\"barcode\"; style=\"color: black; background-color: #ffffe5\">&nbsp[PAD]&nbsp</span><span class=\"barcode\"; style=\"color: black; background-color: #ffffe5\">&nbsp[PAD]&nbsp</span><span class=\"barcode\"; style=\"color: black; background-color: #ffffe5\">&nbsp[PAD]&nbsp</span><span class=\"barcode\"; style=\"color: black; background-color: #ffffe5\">&nbsp[PAD]&nbsp</span><span class=\"barcode\"; style=\"color: black; background-color: #ffffe5\">&nbsp[PAD]&nbsp</span>"
      ],
      "text/plain": [
       "<IPython.core.display.HTML object>"
      ]
     },
     "metadata": {},
     "output_type": "display_data"
    },
    {
     "data": {
      "text/html": [
       "<span class=\"barcode\"; style=\"color: black; background-color: #ffffe5\">&nbsp[CLS]&nbsp</span><span class=\"barcode\"; style=\"color: black; background-color: #ffffe5\">&nbspif&nbsp</span><span class=\"barcode\"; style=\"color: black; background-color: #ffffe5\">&nbspyou&nbsp</span><span class=\"barcode\"; style=\"color: black; background-color: #ffffe5\">&nbspkeep&nbsp</span><span class=\"barcode\"; style=\"color: black; background-color: #ffffe5\">&nbspsomeone&nbsp</span><span class=\"barcode\"; style=\"color: black; background-color: #ffffe5\">&nbspat&nbsp</span><span class=\"barcode\"; style=\"color: black; background-color: #004529\">&nbsparm&nbsp</span><span class=\"barcode\"; style=\"color: black; background-color: #004529\">&nbsp’&nbsp</span><span class=\"barcode\"; style=\"color: black; background-color: #004529\">&nbsps&nbsp</span><span class=\"barcode\"; style=\"color: black; background-color: #004529\">&nbsplength&nbsp</span><span class=\"barcode\"; style=\"color: black; background-color: #ffffe5\">&nbsp,&nbsp</span><span class=\"barcode\"; style=\"color: black; background-color: #ffffe5\">&nbspyou&nbsp</span><span class=\"barcode\"; style=\"color: black; background-color: #ffffe5\">&nbspavoid&nbsp</span><span class=\"barcode\"; style=\"color: black; background-color: #ffffe5\">&nbspbecoming&nbsp</span><span class=\"barcode\"; style=\"color: black; background-color: #ffffe5\">&nbspfriendly&nbsp</span><span class=\"barcode\"; style=\"color: black; background-color: #ffffe5\">&nbspwith&nbsp</span><span class=\"barcode\"; style=\"color: black; background-color: #ffffe5\">&nbspthem&nbsp</span><span class=\"barcode\"; style=\"color: black; background-color: #ffffe5\">&nbsp.&nbsp</span><span class=\"barcode\"; style=\"color: black; background-color: #ffffe5\">&nbsp[SEP]&nbsp</span><span class=\"barcode\"; style=\"color: black; background-color: #ffffe5\">&nbsp[PAD]&nbsp</span><span class=\"barcode\"; style=\"color: black; background-color: #ffffe5\">&nbsp[PAD]&nbsp</span><span class=\"barcode\"; style=\"color: black; background-color: #ffffe5\">&nbsp[PAD]&nbsp</span><span class=\"barcode\"; style=\"color: black; background-color: #ffffe5\">&nbsp[PAD]&nbsp</span><span class=\"barcode\"; style=\"color: black; background-color: #ffffe5\">&nbsp[PAD]&nbsp</span><span class=\"barcode\"; style=\"color: black; background-color: #ffffe5\">&nbsp[PAD]&nbsp</span><span class=\"barcode\"; style=\"color: black; background-color: #ffffe5\">&nbsp[PAD]&nbsp</span><span class=\"barcode\"; style=\"color: black; background-color: #ffffe5\">&nbsp[PAD]&nbsp</span><span class=\"barcode\"; style=\"color: black; background-color: #ffffe5\">&nbsp[PAD]&nbsp</span><span class=\"barcode\"; style=\"color: black; background-color: #ffffe5\">&nbsp[PAD]&nbsp</span><span class=\"barcode\"; style=\"color: black; background-color: #ffffe5\">&nbsp[PAD]&nbsp</span><span class=\"barcode\"; style=\"color: black; background-color: #ffffe5\">&nbsp[PAD]&nbsp</span><span class=\"barcode\"; style=\"color: black; background-color: #ffffe5\">&nbsp[PAD]&nbsp</span><span class=\"barcode\"; style=\"color: black; background-color: #ffffe5\">&nbsp[PAD]&nbsp</span><span class=\"barcode\"; style=\"color: black; background-color: #ffffe5\">&nbsp[PAD]&nbsp</span>"
      ],
      "text/plain": [
       "<IPython.core.display.HTML object>"
      ]
     },
     "metadata": {},
     "output_type": "display_data"
    },
    {
     "data": {
      "text/html": [
       "<span class=\"barcode\"; style=\"color: black; background-color: #ffffe5\">&nbsp[CLS]&nbsp</span><span class=\"barcode\"; style=\"color: black; background-color: #ffffe5\">&nbspif&nbsp</span><span class=\"barcode\"; style=\"color: black; background-color: #ffffe5\">&nbspyou&nbsp</span><span class=\"barcode\"; style=\"color: black; background-color: #ffffe5\">&nbsp’&nbsp</span><span class=\"barcode\"; style=\"color: black; background-color: #ffffe5\">&nbspre&nbsp</span><span class=\"barcode\"; style=\"color: black; background-color: #ffffe5\">&nbspa&nbsp</span><span class=\"barcode\"; style=\"color: black; background-color: #004529\">&nbspchip&nbsp</span><span class=\"barcode\"; style=\"color: black; background-color: #004529\">&nbspoff&nbsp</span><span class=\"barcode\"; style=\"color: black; background-color: #004529\">&nbspthe&nbsp</span><span class=\"barcode\"; style=\"color: black; background-color: #004529\">&nbspold&nbsp</span><span class=\"barcode\"; style=\"color: black; background-color: #004529\">&nbspblock&nbsp</span><span class=\"barcode\"; style=\"color: black; background-color: #ffffe5\">&nbsp,&nbsp</span><span class=\"barcode\"; style=\"color: black; background-color: #ffffe5\">&nbspyou&nbsp</span><span class=\"barcode\"; style=\"color: black; background-color: #ffffe5\">&nbsp’&nbsp</span><span class=\"barcode\"; style=\"color: black; background-color: #ffffe5\">&nbspre&nbsp</span><span class=\"barcode\"; style=\"color: black; background-color: #ffffe5\">&nbspsimilar&nbsp</span><span class=\"barcode\"; style=\"color: black; background-color: #ffffe5\">&nbspin&nbsp</span><span class=\"barcode\"; style=\"color: black; background-color: #ffffe5\">&nbspsome&nbsp</span><span class=\"barcode\"; style=\"color: black; background-color: #ffffe5\">&nbspdistinct&nbsp</span><span class=\"barcode\"; style=\"color: black; background-color: #ffffe5\">&nbspway&nbsp</span><span class=\"barcode\"; style=\"color: black; background-color: #ffffe5\">&nbspto&nbsp</span><span class=\"barcode\"; style=\"color: black; background-color: #ffffe5\">&nbspyour&nbsp</span><span class=\"barcode\"; style=\"color: black; background-color: #ffffe5\">&nbspfather&nbsp</span><span class=\"barcode\"; style=\"color: black; background-color: #ffffe5\">&nbspor&nbsp</span><span class=\"barcode\"; style=\"color: black; background-color: #ffffe5\">&nbspmother&nbsp</span><span class=\"barcode\"; style=\"color: black; background-color: #ffffe5\">&nbsp.&nbsp</span><span class=\"barcode\"; style=\"color: black; background-color: #ffffe5\">&nbsp[SEP]&nbsp</span><span class=\"barcode\"; style=\"color: black; background-color: #ffffe5\">&nbsp[PAD]&nbsp</span><span class=\"barcode\"; style=\"color: black; background-color: #ffffe5\">&nbsp[PAD]&nbsp</span><span class=\"barcode\"; style=\"color: black; background-color: #ffffe5\">&nbsp[PAD]&nbsp</span><span class=\"barcode\"; style=\"color: black; background-color: #ffffe5\">&nbsp[PAD]&nbsp</span><span class=\"barcode\"; style=\"color: black; background-color: #ffffe5\">&nbsp[PAD]&nbsp</span><span class=\"barcode\"; style=\"color: black; background-color: #ffffe5\">&nbsp[PAD]&nbsp</span><span class=\"barcode\"; style=\"color: black; background-color: #ffffe5\">&nbsp[PAD]&nbsp</span>"
      ],
      "text/plain": [
       "<IPython.core.display.HTML object>"
      ]
     },
     "metadata": {},
     "output_type": "display_data"
    },
    {
     "data": {
      "text/html": [
       "<span class=\"barcode\"; style=\"color: black; background-color: #ffffe5\">&nbsp[CLS]&nbsp</span><span class=\"barcode\"; style=\"color: black; background-color: #ffffe5\">&nbsphe&nbsp</span><span class=\"barcode\"; style=\"color: black; background-color: #ffffe5\">&nbspmust&nbsp</span><span class=\"barcode\"; style=\"color: black; background-color: #004529\">&nbspface&nbsp</span><span class=\"barcode\"; style=\"color: black; background-color: #004529\">&nbspthe&nbsp</span><span class=\"barcode\"; style=\"color: black; background-color: #004529\">&nbspmusic&nbsp</span><span class=\"barcode\"; style=\"color: black; background-color: #ffffe5\">&nbspfor&nbsp</span><span class=\"barcode\"; style=\"color: black; background-color: #ffffe5\">&nbsphis&nbsp</span><span class=\"barcode\"; style=\"color: black; background-color: #ffffe5\">&nbsptrans&nbsp</span><span class=\"barcode\"; style=\"color: black; background-color: #ffffe5\">&nbsp##gre&nbsp</span><span class=\"barcode\"; style=\"color: black; background-color: #ffffe5\">&nbsp##ssion&nbsp</span><span class=\"barcode\"; style=\"color: black; background-color: #ffffe5\">&nbsp.&nbsp</span><span class=\"barcode\"; style=\"color: black; background-color: #ffffe5\">&nbsp[SEP]&nbsp</span><span class=\"barcode\"; style=\"color: black; background-color: #ffffe5\">&nbsp[PAD]&nbsp</span><span class=\"barcode\"; style=\"color: black; background-color: #ffffe5\">&nbsp[PAD]&nbsp</span><span class=\"barcode\"; style=\"color: black; background-color: #ffffe5\">&nbsp[PAD]&nbsp</span><span class=\"barcode\"; style=\"color: black; background-color: #ffffe5\">&nbsp[PAD]&nbsp</span><span class=\"barcode\"; style=\"color: black; background-color: #ffffe5\">&nbsp[PAD]&nbsp</span><span class=\"barcode\"; style=\"color: black; background-color: #ffffe5\">&nbsp[PAD]&nbsp</span><span class=\"barcode\"; style=\"color: black; background-color: #ffffe5\">&nbsp[PAD]&nbsp</span><span class=\"barcode\"; style=\"color: black; background-color: #ffffe5\">&nbsp[PAD]&nbsp</span><span class=\"barcode\"; style=\"color: black; background-color: #ffffe5\">&nbsp[PAD]&nbsp</span><span class=\"barcode\"; style=\"color: black; background-color: #ffffe5\">&nbsp[PAD]&nbsp</span><span class=\"barcode\"; style=\"color: black; background-color: #ffffe5\">&nbsp[PAD]&nbsp</span><span class=\"barcode\"; style=\"color: black; background-color: #ffffe5\">&nbsp[PAD]&nbsp</span><span class=\"barcode\"; style=\"color: black; background-color: #ffffe5\">&nbsp[PAD]&nbsp</span><span class=\"barcode\"; style=\"color: black; background-color: #ffffe5\">&nbsp[PAD]&nbsp</span><span class=\"barcode\"; style=\"color: black; background-color: #ffffe5\">&nbsp[PAD]&nbsp</span><span class=\"barcode\"; style=\"color: black; background-color: #ffffe5\">&nbsp[PAD]&nbsp</span><span class=\"barcode\"; style=\"color: black; background-color: #ffffe5\">&nbsp[PAD]&nbsp</span><span class=\"barcode\"; style=\"color: black; background-color: #ffffe5\">&nbsp[PAD]&nbsp</span><span class=\"barcode\"; style=\"color: black; background-color: #ffffe5\">&nbsp[PAD]&nbsp</span><span class=\"barcode\"; style=\"color: black; background-color: #ffffe5\">&nbsp[PAD]&nbsp</span><span class=\"barcode\"; style=\"color: black; background-color: #ffffe5\">&nbsp[PAD]&nbsp</span>"
      ],
      "text/plain": [
       "<IPython.core.display.HTML object>"
      ]
     },
     "metadata": {},
     "output_type": "display_data"
    },
    {
     "data": {
      "text/html": [
       "<span class=\"barcode\"; style=\"color: black; background-color: #ffffe5\">&nbsp[CLS]&nbsp</span><span class=\"barcode\"; style=\"color: black; background-color: #ffffe5\">&nbspgetting&nbsp</span><span class=\"barcode\"; style=\"color: black; background-color: #ffffe5\">&nbspfired&nbsp</span><span class=\"barcode\"; style=\"color: black; background-color: #ffffe5\">&nbspturned&nbsp</span><span class=\"barcode\"; style=\"color: black; background-color: #ffffe5\">&nbspout&nbsp</span><span class=\"barcode\"; style=\"color: black; background-color: #ffffe5\">&nbspto&nbsp</span><span class=\"barcode\"; style=\"color: black; background-color: #ffffe5\">&nbspbe&nbsp</span><span class=\"barcode\"; style=\"color: black; background-color: #ffffe5\">&nbspa&nbsp</span><span class=\"barcode\"; style=\"color: black; background-color: #004529\">&nbspblessing&nbsp</span><span class=\"barcode\"; style=\"color: black; background-color: #004529\">&nbspin&nbsp</span><span class=\"barcode\"; style=\"color: black; background-color: #004529\">&nbspdisguise&nbsp</span><span class=\"barcode\"; style=\"color: black; background-color: #ffffe5\">&nbsp.&nbsp</span><span class=\"barcode\"; style=\"color: black; background-color: #ffffe5\">&nbsp[SEP]&nbsp</span><span class=\"barcode\"; style=\"color: black; background-color: #ffffe5\">&nbsp[PAD]&nbsp</span><span class=\"barcode\"; style=\"color: black; background-color: #ffffe5\">&nbsp[PAD]&nbsp</span><span class=\"barcode\"; style=\"color: black; background-color: #ffffe5\">&nbsp[PAD]&nbsp</span><span class=\"barcode\"; style=\"color: black; background-color: #ffffe5\">&nbsp[PAD]&nbsp</span><span class=\"barcode\"; style=\"color: black; background-color: #ffffe5\">&nbsp[PAD]&nbsp</span><span class=\"barcode\"; style=\"color: black; background-color: #ffffe5\">&nbsp[PAD]&nbsp</span><span class=\"barcode\"; style=\"color: black; background-color: #ffffe5\">&nbsp[PAD]&nbsp</span><span class=\"barcode\"; style=\"color: black; background-color: #ffffe5\">&nbsp[PAD]&nbsp</span><span class=\"barcode\"; style=\"color: black; background-color: #ffffe5\">&nbsp[PAD]&nbsp</span><span class=\"barcode\"; style=\"color: black; background-color: #ffffe5\">&nbsp[PAD]&nbsp</span><span class=\"barcode\"; style=\"color: black; background-color: #ffffe5\">&nbsp[PAD]&nbsp</span><span class=\"barcode\"; style=\"color: black; background-color: #ffffe5\">&nbsp[PAD]&nbsp</span><span class=\"barcode\"; style=\"color: black; background-color: #ffffe5\">&nbsp[PAD]&nbsp</span><span class=\"barcode\"; style=\"color: black; background-color: #ffffe5\">&nbsp[PAD]&nbsp</span><span class=\"barcode\"; style=\"color: black; background-color: #ffffe5\">&nbsp[PAD]&nbsp</span><span class=\"barcode\"; style=\"color: black; background-color: #ffffe5\">&nbsp[PAD]&nbsp</span><span class=\"barcode\"; style=\"color: black; background-color: #ffffe5\">&nbsp[PAD]&nbsp</span><span class=\"barcode\"; style=\"color: black; background-color: #ffffe5\">&nbsp[PAD]&nbsp</span><span class=\"barcode\"; style=\"color: black; background-color: #ffffe5\">&nbsp[PAD]&nbsp</span><span class=\"barcode\"; style=\"color: black; background-color: #ffffe5\">&nbsp[PAD]&nbsp</span><span class=\"barcode\"; style=\"color: black; background-color: #ffffe5\">&nbsp[PAD]&nbsp</span>"
      ],
      "text/plain": [
       "<IPython.core.display.HTML object>"
      ]
     },
     "metadata": {},
     "output_type": "display_data"
    },
    {
     "data": {
      "text/html": [
       "<span class=\"barcode\"; style=\"color: black; background-color: #ffffe5\">&nbsp[CLS]&nbsp</span><span class=\"barcode\"; style=\"color: black; background-color: #ffffe5\">&nbspi&nbsp</span><span class=\"barcode\"; style=\"color: black; background-color: #ffffe5\">&nbsp’&nbsp</span><span class=\"barcode\"; style=\"color: black; background-color: #ffffe5\">&nbspm&nbsp</span><span class=\"barcode\"; style=\"color: black; background-color: #ffffe5\">&nbspsorry&nbsp</span><span class=\"barcode\"; style=\"color: black; background-color: #ffffe5\">&nbspbut&nbsp</span><span class=\"barcode\"; style=\"color: black; background-color: #ffffe5\">&nbspi&nbsp</span><span class=\"barcode\"; style=\"color: black; background-color: #ffffe5\">&nbspjust&nbsp</span><span class=\"barcode\"; style=\"color: black; background-color: #ffffe5\">&nbspcan&nbsp</span><span class=\"barcode\"; style=\"color: black; background-color: #ffffe5\">&nbsp’&nbsp</span><span class=\"barcode\"; style=\"color: black; background-color: #ffffe5\">&nbspt&nbsp</span><span class=\"barcode\"; style=\"color: black; background-color: #ffffe5\">&nbspseem&nbsp</span><span class=\"barcode\"; style=\"color: black; background-color: #ffffe5\">&nbspto&nbsp</span><span class=\"barcode\"; style=\"color: black; background-color: #ffffe5\">&nbspwrap&nbsp</span><span class=\"barcode\"; style=\"color: black; background-color: #ffffe5\">&nbspmy&nbsp</span><span class=\"barcode\"; style=\"color: black; background-color: #ffffe5\">&nbsphead&nbsp</span><span class=\"barcode\"; style=\"color: black; background-color: #ffffe5\">&nbsparound&nbsp</span><span class=\"barcode\"; style=\"color: black; background-color: #ffffe5\">&nbspit&nbsp</span><span class=\"barcode\"; style=\"color: black; background-color: #ffffe5\">&nbsp.&nbsp</span><span class=\"barcode\"; style=\"color: black; background-color: #ffffe5\">&nbsp[SEP]&nbsp</span><span class=\"barcode\"; style=\"color: black; background-color: #ffffe5\">&nbsp[PAD]&nbsp</span><span class=\"barcode\"; style=\"color: black; background-color: #ffffe5\">&nbsp[PAD]&nbsp</span><span class=\"barcode\"; style=\"color: black; background-color: #ffffe5\">&nbsp[PAD]&nbsp</span><span class=\"barcode\"; style=\"color: black; background-color: #ffffe5\">&nbsp[PAD]&nbsp</span><span class=\"barcode\"; style=\"color: black; background-color: #ffffe5\">&nbsp[PAD]&nbsp</span><span class=\"barcode\"; style=\"color: black; background-color: #ffffe5\">&nbsp[PAD]&nbsp</span><span class=\"barcode\"; style=\"color: black; background-color: #ffffe5\">&nbsp[PAD]&nbsp</span><span class=\"barcode\"; style=\"color: black; background-color: #ffffe5\">&nbsp[PAD]&nbsp</span><span class=\"barcode\"; style=\"color: black; background-color: #ffffe5\">&nbsp[PAD]&nbsp</span><span class=\"barcode\"; style=\"color: black; background-color: #ffffe5\">&nbsp[PAD]&nbsp</span><span class=\"barcode\"; style=\"color: black; background-color: #ffffe5\">&nbsp[PAD]&nbsp</span><span class=\"barcode\"; style=\"color: black; background-color: #ffffe5\">&nbsp[PAD]&nbsp</span><span class=\"barcode\"; style=\"color: black; background-color: #ffffe5\">&nbsp[PAD]&nbsp</span><span class=\"barcode\"; style=\"color: black; background-color: #ffffe5\">&nbsp[PAD]&nbsp</span>"
      ],
      "text/plain": [
       "<IPython.core.display.HTML object>"
      ]
     },
     "metadata": {},
     "output_type": "display_data"
    },
    {
     "data": {
      "text/html": [
       "<span class=\"barcode\"; style=\"color: black; background-color: #ffffe5\">&nbsp[CLS]&nbsp</span><span class=\"barcode\"; style=\"color: black; background-color: #ffffe5\">&nbspat&nbsp</span><span class=\"barcode\"; style=\"color: black; background-color: #ffffe5\">&nbspthe&nbsp</span><span class=\"barcode\"; style=\"color: black; background-color: #ffffe5\">&nbspend&nbsp</span><span class=\"barcode\"; style=\"color: black; background-color: #ffffe5\">&nbspof&nbsp</span><span class=\"barcode\"; style=\"color: black; background-color: #ffffe5\">&nbspthe&nbsp</span><span class=\"barcode\"; style=\"color: black; background-color: #ffffe5\">&nbspday&nbsp</span><span class=\"barcode\"; style=\"color: black; background-color: #ffffe5\">&nbsp,&nbsp</span><span class=\"barcode\"; style=\"color: black; background-color: #ffffe5\">&nbspit&nbsp</span><span class=\"barcode\"; style=\"color: black; background-color: #ffffe5\">&nbspis&nbsp</span><span class=\"barcode\"; style=\"color: black; background-color: #ffffe5\">&nbspyou&nbsp</span><span class=\"barcode\"; style=\"color: black; background-color: #ffffe5\">&nbspwho&nbsp</span><span class=\"barcode\"; style=\"color: black; background-color: #ffffe5\">&nbspwill&nbsp</span><span class=\"barcode\"; style=\"color: black; background-color: #004529\">&nbsptake&nbsp</span><span class=\"barcode\"; style=\"color: black; background-color: #004529\">&nbspthe&nbsp</span><span class=\"barcode\"; style=\"color: black; background-color: #004529\">&nbspheat&nbsp</span><span class=\"barcode\"; style=\"color: black; background-color: #ffffe5\">&nbsp.&nbsp</span><span class=\"barcode\"; style=\"color: black; background-color: #ffffe5\">&nbsp[SEP]&nbsp</span><span class=\"barcode\"; style=\"color: black; background-color: #ffffe5\">&nbsp[PAD]&nbsp</span><span class=\"barcode\"; style=\"color: black; background-color: #ffffe5\">&nbsp[PAD]&nbsp</span><span class=\"barcode\"; style=\"color: black; background-color: #ffffe5\">&nbsp[PAD]&nbsp</span><span class=\"barcode\"; style=\"color: black; background-color: #ffffe5\">&nbsp[PAD]&nbsp</span><span class=\"barcode\"; style=\"color: black; background-color: #ffffe5\">&nbsp[PAD]&nbsp</span><span class=\"barcode\"; style=\"color: black; background-color: #ffffe5\">&nbsp[PAD]&nbsp</span><span class=\"barcode\"; style=\"color: black; background-color: #ffffe5\">&nbsp[PAD]&nbsp</span><span class=\"barcode\"; style=\"color: black; background-color: #ffffe5\">&nbsp[PAD]&nbsp</span><span class=\"barcode\"; style=\"color: black; background-color: #ffffe5\">&nbsp[PAD]&nbsp</span><span class=\"barcode\"; style=\"color: black; background-color: #ffffe5\">&nbsp[PAD]&nbsp</span><span class=\"barcode\"; style=\"color: black; background-color: #ffffe5\">&nbsp[PAD]&nbsp</span><span class=\"barcode\"; style=\"color: black; background-color: #ffffe5\">&nbsp[PAD]&nbsp</span><span class=\"barcode\"; style=\"color: black; background-color: #ffffe5\">&nbsp[PAD]&nbsp</span><span class=\"barcode\"; style=\"color: black; background-color: #ffffe5\">&nbsp[PAD]&nbsp</span><span class=\"barcode\"; style=\"color: black; background-color: #ffffe5\">&nbsp[PAD]&nbsp</span><span class=\"barcode\"; style=\"color: black; background-color: #ffffe5\">&nbsp[PAD]&nbsp</span>"
      ],
      "text/plain": [
       "<IPython.core.display.HTML object>"
      ]
     },
     "metadata": {},
     "output_type": "display_data"
    },
    {
     "data": {
      "text/html": [
       "<span class=\"barcode\"; style=\"color: black; background-color: #ffffe5\">&nbsp[CLS]&nbsp</span><span class=\"barcode\"; style=\"color: black; background-color: #004529\">&nbspat&nbsp</span><span class=\"barcode\"; style=\"color: black; background-color: #004529\">&nbspthe&nbsp</span><span class=\"barcode\"; style=\"color: black; background-color: #004529\">&nbspend&nbsp</span><span class=\"barcode\"; style=\"color: black; background-color: #004529\">&nbspof&nbsp</span><span class=\"barcode\"; style=\"color: black; background-color: #004529\">&nbspthe&nbsp</span><span class=\"barcode\"; style=\"color: black; background-color: #004529\">&nbspday&nbsp</span><span class=\"barcode\"; style=\"color: black; background-color: #ffffe5\">&nbsp,&nbsp</span><span class=\"barcode\"; style=\"color: black; background-color: #ffffe5\">&nbspit&nbsp</span><span class=\"barcode\"; style=\"color: black; background-color: #ffffe5\">&nbspis&nbsp</span><span class=\"barcode\"; style=\"color: black; background-color: #ffffe5\">&nbspyou&nbsp</span><span class=\"barcode\"; style=\"color: black; background-color: #ffffe5\">&nbspwho&nbsp</span><span class=\"barcode\"; style=\"color: black; background-color: #ffffe5\">&nbspwill&nbsp</span><span class=\"barcode\"; style=\"color: black; background-color: #ffffe5\">&nbsptake&nbsp</span><span class=\"barcode\"; style=\"color: black; background-color: #ffffe5\">&nbspthe&nbsp</span><span class=\"barcode\"; style=\"color: black; background-color: #ffffe5\">&nbspresponsibility&nbsp</span><span class=\"barcode\"; style=\"color: black; background-color: #ffffe5\">&nbsp.&nbsp</span><span class=\"barcode\"; style=\"color: black; background-color: #ffffe5\">&nbsp[SEP]&nbsp</span><span class=\"barcode\"; style=\"color: black; background-color: #ffffe5\">&nbsp[PAD]&nbsp</span><span class=\"barcode\"; style=\"color: black; background-color: #ffffe5\">&nbsp[PAD]&nbsp</span><span class=\"barcode\"; style=\"color: black; background-color: #ffffe5\">&nbsp[PAD]&nbsp</span><span class=\"barcode\"; style=\"color: black; background-color: #ffffe5\">&nbsp[PAD]&nbsp</span><span class=\"barcode\"; style=\"color: black; background-color: #ffffe5\">&nbsp[PAD]&nbsp</span><span class=\"barcode\"; style=\"color: black; background-color: #ffffe5\">&nbsp[PAD]&nbsp</span><span class=\"barcode\"; style=\"color: black; background-color: #ffffe5\">&nbsp[PAD]&nbsp</span><span class=\"barcode\"; style=\"color: black; background-color: #ffffe5\">&nbsp[PAD]&nbsp</span><span class=\"barcode\"; style=\"color: black; background-color: #ffffe5\">&nbsp[PAD]&nbsp</span><span class=\"barcode\"; style=\"color: black; background-color: #ffffe5\">&nbsp[PAD]&nbsp</span><span class=\"barcode\"; style=\"color: black; background-color: #ffffe5\">&nbsp[PAD]&nbsp</span><span class=\"barcode\"; style=\"color: black; background-color: #ffffe5\">&nbsp[PAD]&nbsp</span><span class=\"barcode\"; style=\"color: black; background-color: #ffffe5\">&nbsp[PAD]&nbsp</span><span class=\"barcode\"; style=\"color: black; background-color: #ffffe5\">&nbsp[PAD]&nbsp</span><span class=\"barcode\"; style=\"color: black; background-color: #ffffe5\">&nbsp[PAD]&nbsp</span><span class=\"barcode\"; style=\"color: black; background-color: #ffffe5\">&nbsp[PAD]&nbsp</span>"
      ],
      "text/plain": [
       "<IPython.core.display.HTML object>"
      ]
     },
     "metadata": {},
     "output_type": "display_data"
    },
    {
     "data": {
      "text/html": [
       "<span class=\"barcode\"; style=\"color: black; background-color: #ffffe5\">&nbsp[CLS]&nbsp</span><span class=\"barcode\"; style=\"color: black; background-color: #ffffe5\">&nbspi&nbsp</span><span class=\"barcode\"; style=\"color: black; background-color: #ffffe5\">&nbspdon&nbsp</span><span class=\"barcode\"; style=\"color: black; background-color: #ffffe5\">&nbsp’&nbsp</span><span class=\"barcode\"; style=\"color: black; background-color: #ffffe5\">&nbspt&nbsp</span><span class=\"barcode\"; style=\"color: black; background-color: #ffffe5\">&nbspwant&nbsp</span><span class=\"barcode\"; style=\"color: black; background-color: #ffffe5\">&nbspto&nbsp</span><span class=\"barcode\"; style=\"color: black; background-color: #ffffe5\">&nbspbe&nbsp</span><span class=\"barcode\"; style=\"color: black; background-color: #ffffe5\">&nbsphay&nbsp</span><span class=\"barcode\"; style=\"color: black; background-color: #ffffe5\">&nbsp##ley&nbsp</span><span class=\"barcode\"; style=\"color: black; background-color: #ffffe5\">&nbsp’&nbsp</span><span class=\"barcode\"; style=\"color: black; background-color: #ffffe5\">&nbsps&nbsp</span><span class=\"barcode\"; style=\"color: black; background-color: #ffffe5\">&nbspfriend&nbsp</span><span class=\"barcode\"; style=\"color: black; background-color: #ffffe5\">&nbspanymore&nbsp</span><span class=\"barcode\"; style=\"color: black; background-color: #ffffe5\">&nbsp,&nbsp</span><span class=\"barcode\"; style=\"color: black; background-color: #ffffe5\">&nbspshe&nbsp</span><span class=\"barcode\"; style=\"color: black; background-color: #ffffe5\">&nbspstabbed&nbsp</span><span class=\"barcode\"; style=\"color: black; background-color: #ffffe5\">&nbspme&nbsp</span><span class=\"barcode\"; style=\"color: black; background-color: #ffffe5\">&nbspin&nbsp</span><span class=\"barcode\"; style=\"color: black; background-color: #ffffe5\">&nbspthe&nbsp</span><span class=\"barcode\"; style=\"color: black; background-color: #ffffe5\">&nbspback&nbsp</span><span class=\"barcode\"; style=\"color: black; background-color: #ffffe5\">&nbsp!&nbsp</span><span class=\"barcode\"; style=\"color: black; background-color: #ffffe5\">&nbsp[SEP]&nbsp</span><span class=\"barcode\"; style=\"color: black; background-color: #ffffe5\">&nbsp[PAD]&nbsp</span><span class=\"barcode\"; style=\"color: black; background-color: #ffffe5\">&nbsp[PAD]&nbsp</span><span class=\"barcode\"; style=\"color: black; background-color: #ffffe5\">&nbsp[PAD]&nbsp</span><span class=\"barcode\"; style=\"color: black; background-color: #ffffe5\">&nbsp[PAD]&nbsp</span><span class=\"barcode\"; style=\"color: black; background-color: #ffffe5\">&nbsp[PAD]&nbsp</span><span class=\"barcode\"; style=\"color: black; background-color: #ffffe5\">&nbsp[PAD]&nbsp</span><span class=\"barcode\"; style=\"color: black; background-color: #ffffe5\">&nbsp[PAD]&nbsp</span><span class=\"barcode\"; style=\"color: black; background-color: #ffffe5\">&nbsp[PAD]&nbsp</span><span class=\"barcode\"; style=\"color: black; background-color: #ffffe5\">&nbsp[PAD]&nbsp</span><span class=\"barcode\"; style=\"color: black; background-color: #ffffe5\">&nbsp[PAD]&nbsp</span><span class=\"barcode\"; style=\"color: black; background-color: #ffffe5\">&nbsp[PAD]&nbsp</span>"
      ],
      "text/plain": [
       "<IPython.core.display.HTML object>"
      ]
     },
     "metadata": {},
     "output_type": "display_data"
    },
    {
     "data": {
      "text/html": [
       "<span class=\"barcode\"; style=\"color: black; background-color: #ffffe5\">&nbsp[CLS]&nbsp</span><span class=\"barcode\"; style=\"color: black; background-color: #ffffe5\">&nbspwhy&nbsp</span><span class=\"barcode\"; style=\"color: black; background-color: #ffffe5\">&nbspnot&nbsp</span><span class=\"barcode\"; style=\"color: black; background-color: #ffffe5\">&nbspgo&nbsp</span><span class=\"barcode\"; style=\"color: black; background-color: #ffffe5\">&nbspto&nbsp</span><span class=\"barcode\"; style=\"color: black; background-color: #ffffe5\">&nbspthe&nbsp</span><span class=\"barcode\"; style=\"color: black; background-color: #ffffe5\">&nbsppost&nbsp</span><span class=\"barcode\"; style=\"color: black; background-color: #ffffe5\">&nbspoffice&nbsp</span><span class=\"barcode\"; style=\"color: black; background-color: #ffffe5\">&nbspon&nbsp</span><span class=\"barcode\"; style=\"color: black; background-color: #ffffe5\">&nbspyour&nbsp</span><span class=\"barcode\"; style=\"color: black; background-color: #ffffe5\">&nbspway&nbsp</span><span class=\"barcode\"; style=\"color: black; background-color: #ffffe5\">&nbspto&nbsp</span><span class=\"barcode\"; style=\"color: black; background-color: #ffffe5\">&nbspthe&nbsp</span><span class=\"barcode\"; style=\"color: black; background-color: #ffffe5\">&nbspmall&nbsp</span><span class=\"barcode\"; style=\"color: black; background-color: #ffffe5\">&nbspand&nbsp</span><span class=\"barcode\"; style=\"color: black; background-color: #004529\">&nbspkill&nbsp</span><span class=\"barcode\"; style=\"color: black; background-color: #004529\">&nbsptwo&nbsp</span><span class=\"barcode\"; style=\"color: black; background-color: #004529\">&nbspbirds&nbsp</span><span class=\"barcode\"; style=\"color: black; background-color: #004529\">&nbspwith&nbsp</span><span class=\"barcode\"; style=\"color: black; background-color: #004529\">&nbspone&nbsp</span><span class=\"barcode\"; style=\"color: black; background-color: #004529\">&nbspstone&nbsp</span><span class=\"barcode\"; style=\"color: black; background-color: #ffffe5\">&nbsp?&nbsp</span><span class=\"barcode\"; style=\"color: black; background-color: #ffffe5\">&nbsp[SEP]&nbsp</span><span class=\"barcode\"; style=\"color: black; background-color: #ffffe5\">&nbsp[PAD]&nbsp</span><span class=\"barcode\"; style=\"color: black; background-color: #ffffe5\">&nbsp[PAD]&nbsp</span><span class=\"barcode\"; style=\"color: black; background-color: #ffffe5\">&nbsp[PAD]&nbsp</span><span class=\"barcode\"; style=\"color: black; background-color: #ffffe5\">&nbsp[PAD]&nbsp</span><span class=\"barcode\"; style=\"color: black; background-color: #ffffe5\">&nbsp[PAD]&nbsp</span><span class=\"barcode\"; style=\"color: black; background-color: #ffffe5\">&nbsp[PAD]&nbsp</span><span class=\"barcode\"; style=\"color: black; background-color: #ffffe5\">&nbsp[PAD]&nbsp</span><span class=\"barcode\"; style=\"color: black; background-color: #ffffe5\">&nbsp[PAD]&nbsp</span><span class=\"barcode\"; style=\"color: black; background-color: #ffffe5\">&nbsp[PAD]&nbsp</span><span class=\"barcode\"; style=\"color: black; background-color: #ffffe5\">&nbsp[PAD]&nbsp</span><span class=\"barcode\"; style=\"color: black; background-color: #ffffe5\">&nbsp[PAD]&nbsp</span>"
      ],
      "text/plain": [
       "<IPython.core.display.HTML object>"
      ]
     },
     "metadata": {},
     "output_type": "display_data"
    },
    {
     "data": {
      "text/html": [
       "<span class=\"barcode\"; style=\"color: black; background-color: #ffffe5\">&nbsp[CLS]&nbsp</span><span class=\"barcode\"; style=\"color: black; background-color: #ffffe5\">&nbsphey&nbsp</span><span class=\"barcode\"; style=\"color: black; background-color: #ffffe5\">&nbsp,&nbsp</span><span class=\"barcode\"; style=\"color: black; background-color: #ffffe5\">&nbspi&nbsp</span><span class=\"barcode\"; style=\"color: black; background-color: #ffffe5\">&nbsp’&nbsp</span><span class=\"barcode\"; style=\"color: black; background-color: #ffffe5\">&nbspm&nbsp</span><span class=\"barcode\"; style=\"color: black; background-color: #ffffe5\">&nbspfeeling&nbsp</span><span class=\"barcode\"; style=\"color: black; background-color: #ffffe5\">&nbsppretty&nbsp</span><span class=\"barcode\"; style=\"color: black; background-color: #ffffe5\">&nbspangry&nbsp</span><span class=\"barcode\"; style=\"color: black; background-color: #ffffe5\">&nbspright&nbsp</span><span class=\"barcode\"; style=\"color: black; background-color: #ffffe5\">&nbspnow&nbsp</span><span class=\"barcode\"; style=\"color: black; background-color: #ffffe5\">&nbsp.&nbsp</span><span class=\"barcode\"; style=\"color: black; background-color: #ffffe5\">&nbspi&nbsp</span><span class=\"barcode\"; style=\"color: black; background-color: #ffffe5\">&nbsp’&nbsp</span><span class=\"barcode\"; style=\"color: black; background-color: #ffffe5\">&nbspm&nbsp</span><span class=\"barcode\"; style=\"color: black; background-color: #ffffe5\">&nbspgoing&nbsp</span><span class=\"barcode\"; style=\"color: black; background-color: #ffffe5\">&nbspto&nbsp</span><span class=\"barcode\"; style=\"color: black; background-color: #ffffe5\">&nbspgo&nbsp</span><span class=\"barcode\"; style=\"color: black; background-color: #004529\">&nbspblow&nbsp</span><span class=\"barcode\"; style=\"color: black; background-color: #004529\">&nbspoff&nbsp</span><span class=\"barcode\"; style=\"color: black; background-color: #004529\">&nbspsome&nbsp</span><span class=\"barcode\"; style=\"color: black; background-color: #004529\">&nbspsteam&nbsp</span><span class=\"barcode\"; style=\"color: black; background-color: #ffffe5\">&nbsp.&nbsp</span><span class=\"barcode\"; style=\"color: black; background-color: #ffffe5\">&nbsp[SEP]&nbsp</span><span class=\"barcode\"; style=\"color: black; background-color: #ffffe5\">&nbsp[PAD]&nbsp</span><span class=\"barcode\"; style=\"color: black; background-color: #ffffe5\">&nbsp[PAD]&nbsp</span><span class=\"barcode\"; style=\"color: black; background-color: #ffffe5\">&nbsp[PAD]&nbsp</span><span class=\"barcode\"; style=\"color: black; background-color: #ffffe5\">&nbsp[PAD]&nbsp</span><span class=\"barcode\"; style=\"color: black; background-color: #ffffe5\">&nbsp[PAD]&nbsp</span><span class=\"barcode\"; style=\"color: black; background-color: #ffffe5\">&nbsp[PAD]&nbsp</span><span class=\"barcode\"; style=\"color: black; background-color: #ffffe5\">&nbsp[PAD]&nbsp</span><span class=\"barcode\"; style=\"color: black; background-color: #ffffe5\">&nbsp[PAD]&nbsp</span><span class=\"barcode\"; style=\"color: black; background-color: #ffffe5\">&nbsp[PAD]&nbsp</span><span class=\"barcode\"; style=\"color: black; background-color: #ffffe5\">&nbsp[PAD]&nbsp</span>"
      ],
      "text/plain": [
       "<IPython.core.display.HTML object>"
      ]
     },
     "metadata": {},
     "output_type": "display_data"
    },
    {
     "data": {
      "text/html": [
       "<span class=\"barcode\"; style=\"color: black; background-color: #ffffe5\">&nbsp[CLS]&nbsp</span><span class=\"barcode\"; style=\"color: black; background-color: #ffffe5\">&nbspas&nbsp</span><span class=\"barcode\"; style=\"color: black; background-color: #ffffe5\">&nbspa&nbsp</span><span class=\"barcode\"; style=\"color: black; background-color: #004529\">&nbsprule&nbsp</span><span class=\"barcode\"; style=\"color: black; background-color: #004529\">&nbspof&nbsp</span><span class=\"barcode\"; style=\"color: black; background-color: #004529\">&nbspthumb&nbsp</span><span class=\"barcode\"; style=\"color: black; background-color: #ffffe5\">&nbsp,&nbsp</span><span class=\"barcode\"; style=\"color: black; background-color: #ffffe5\">&nbspyou&nbsp</span><span class=\"barcode\"; style=\"color: black; background-color: #ffffe5\">&nbspshould&nbsp</span><span class=\"barcode\"; style=\"color: black; background-color: #ffffe5\">&nbspusually&nbsp</span><span class=\"barcode\"; style=\"color: black; background-color: #ffffe5\">&nbsppay&nbsp</span><span class=\"barcode\"; style=\"color: black; background-color: #ffffe5\">&nbspfor&nbsp</span><span class=\"barcode\"; style=\"color: black; background-color: #ffffe5\">&nbspyour&nbsp</span><span class=\"barcode\"; style=\"color: black; background-color: #ffffe5\">&nbspdate&nbsp</span><span class=\"barcode\"; style=\"color: black; background-color: #ffffe5\">&nbsp’&nbsp</span><span class=\"barcode\"; style=\"color: black; background-color: #ffffe5\">&nbsps&nbsp</span><span class=\"barcode\"; style=\"color: black; background-color: #ffffe5\">&nbspdinner&nbsp</span><span class=\"barcode\"; style=\"color: black; background-color: #ffffe5\">&nbsp,&nbsp</span><span class=\"barcode\"; style=\"color: black; background-color: #ffffe5\">&nbsptoo&nbsp</span><span class=\"barcode\"; style=\"color: black; background-color: #ffffe5\">&nbsp.&nbsp</span><span class=\"barcode\"; style=\"color: black; background-color: #ffffe5\">&nbsp[SEP]&nbsp</span><span class=\"barcode\"; style=\"color: black; background-color: #ffffe5\">&nbsp[PAD]&nbsp</span><span class=\"barcode\"; style=\"color: black; background-color: #ffffe5\">&nbsp[PAD]&nbsp</span><span class=\"barcode\"; style=\"color: black; background-color: #ffffe5\">&nbsp[PAD]&nbsp</span><span class=\"barcode\"; style=\"color: black; background-color: #ffffe5\">&nbsp[PAD]&nbsp</span><span class=\"barcode\"; style=\"color: black; background-color: #ffffe5\">&nbsp[PAD]&nbsp</span><span class=\"barcode\"; style=\"color: black; background-color: #ffffe5\">&nbsp[PAD]&nbsp</span><span class=\"barcode\"; style=\"color: black; background-color: #ffffe5\">&nbsp[PAD]&nbsp</span><span class=\"barcode\"; style=\"color: black; background-color: #ffffe5\">&nbsp[PAD]&nbsp</span><span class=\"barcode\"; style=\"color: black; background-color: #ffffe5\">&nbsp[PAD]&nbsp</span><span class=\"barcode\"; style=\"color: black; background-color: #ffffe5\">&nbsp[PAD]&nbsp</span><span class=\"barcode\"; style=\"color: black; background-color: #ffffe5\">&nbsp[PAD]&nbsp</span><span class=\"barcode\"; style=\"color: black; background-color: #ffffe5\">&nbsp[PAD]&nbsp</span><span class=\"barcode\"; style=\"color: black; background-color: #ffffe5\">&nbsp[PAD]&nbsp</span>"
      ],
      "text/plain": [
       "<IPython.core.display.HTML object>"
      ]
     },
     "metadata": {},
     "output_type": "display_data"
    },
    {
     "data": {
      "text/html": [
       "<span class=\"barcode\"; style=\"color: black; background-color: #ffffe5\">&nbsp[CLS]&nbsp</span><span class=\"barcode\"; style=\"color: black; background-color: #ffffe5\">&nbspif&nbsp</span><span class=\"barcode\"; style=\"color: black; background-color: #ffffe5\">&nbspyou&nbsp</span><span class=\"barcode\"; style=\"color: black; background-color: #004529\">&nbspburn&nbsp</span><span class=\"barcode\"; style=\"color: black; background-color: #004529\">&nbspthe&nbsp</span><span class=\"barcode\"; style=\"color: black; background-color: #004529\">&nbspcandle&nbsp</span><span class=\"barcode\"; style=\"color: black; background-color: #004529\">&nbspat&nbsp</span><span class=\"barcode\"; style=\"color: black; background-color: #004529\">&nbspboth&nbsp</span><span class=\"barcode\"; style=\"color: black; background-color: #ffffe5\">&nbspends&nbsp</span><span class=\"barcode\"; style=\"color: black; background-color: #ffffe5\">&nbsp,&nbsp</span><span class=\"barcode\"; style=\"color: black; background-color: #ffffe5\">&nbspyou&nbsp</span><span class=\"barcode\"; style=\"color: black; background-color: #ffffe5\">&nbspwork&nbsp</span><span class=\"barcode\"; style=\"color: black; background-color: #ffffe5\">&nbspexcessive&nbsp</span><span class=\"barcode\"; style=\"color: black; background-color: #ffffe5\">&nbsp##ly&nbsp</span><span class=\"barcode\"; style=\"color: black; background-color: #ffffe5\">&nbsphard&nbsp</span><span class=\"barcode\"; style=\"color: black; background-color: #ffffe5\">&nbsp,&nbsp</span><span class=\"barcode\"; style=\"color: black; background-color: #ffffe5\">&nbspsay&nbsp</span><span class=\"barcode\"; style=\"color: black; background-color: #ffffe5\">&nbsp,&nbsp</span><span class=\"barcode\"; style=\"color: black; background-color: #ffffe5\">&nbspby&nbsp</span><span class=\"barcode\"; style=\"color: black; background-color: #ffffe5\">&nbspkeeping&nbsp</span><span class=\"barcode\"; style=\"color: black; background-color: #ffffe5\">&nbsptwo&nbsp</span><span class=\"barcode\"; style=\"color: black; background-color: #ffffe5\">&nbspjobs&nbsp</span><span class=\"barcode\"; style=\"color: black; background-color: #ffffe5\">&nbspor&nbsp</span><span class=\"barcode\"; style=\"color: black; background-color: #ffffe5\">&nbspby&nbsp</span><span class=\"barcode\"; style=\"color: black; background-color: #ffffe5\">&nbspleading&nbsp</span><span class=\"barcode\"; style=\"color: black; background-color: #ffffe5\">&nbspa&nbsp</span><span class=\"barcode\"; style=\"color: black; background-color: #ffffe5\">&nbspbusy&nbsp</span><span class=\"barcode\"; style=\"color: black; background-color: #ffffe5\">&nbspsocial&nbsp</span><span class=\"barcode\"; style=\"color: black; background-color: #ffffe5\">&nbsplife&nbsp</span><span class=\"barcode\"; style=\"color: black; background-color: #ffffe5\">&nbspin&nbsp</span><span class=\"barcode\"; style=\"color: black; background-color: #ffffe5\">&nbspthe&nbsp</span><span class=\"barcode\"; style=\"color: black; background-color: #ffffe5\">&nbspevening&nbsp</span><span class=\"barcode\"; style=\"color: black; background-color: #ffffe5\">&nbsp.&nbsp</span><span class=\"barcode\"; style=\"color: black; background-color: #ffffe5\">&nbsp[SEP]&nbsp</span>"
      ],
      "text/plain": [
       "<IPython.core.display.HTML object>"
      ]
     },
     "metadata": {},
     "output_type": "display_data"
    },
    {
     "data": {
      "text/html": [
       "<span class=\"barcode\"; style=\"color: black; background-color: #ffffe5\">&nbsp[CLS]&nbsp</span><span class=\"barcode\"; style=\"color: black; background-color: #ffffe5\">&nbspyou&nbsp</span><span class=\"barcode\"; style=\"color: black; background-color: #ffffe5\">&nbspwere&nbsp</span><span class=\"barcode\"; style=\"color: black; background-color: #ffffe5\">&nbspas&nbsp</span><span class=\"barcode\"; style=\"color: black; background-color: #004529\">&nbspbrave&nbsp</span><span class=\"barcode\"; style=\"color: black; background-color: #004529\">&nbspas&nbsp</span><span class=\"barcode\"; style=\"color: black; background-color: #004529\">&nbspa&nbsp</span><span class=\"barcode\"; style=\"color: black; background-color: #004529\">&nbsplion&nbsp</span><span class=\"barcode\"; style=\"color: black; background-color: #ffffe5\">&nbsp.&nbsp</span><span class=\"barcode\"; style=\"color: black; background-color: #ffffe5\">&nbsp[SEP]&nbsp</span><span class=\"barcode\"; style=\"color: black; background-color: #ffffe5\">&nbsp[PAD]&nbsp</span><span class=\"barcode\"; style=\"color: black; background-color: #ffffe5\">&nbsp[PAD]&nbsp</span><span class=\"barcode\"; style=\"color: black; background-color: #ffffe5\">&nbsp[PAD]&nbsp</span><span class=\"barcode\"; style=\"color: black; background-color: #ffffe5\">&nbsp[PAD]&nbsp</span><span class=\"barcode\"; style=\"color: black; background-color: #ffffe5\">&nbsp[PAD]&nbsp</span><span class=\"barcode\"; style=\"color: black; background-color: #ffffe5\">&nbsp[PAD]&nbsp</span><span class=\"barcode\"; style=\"color: black; background-color: #ffffe5\">&nbsp[PAD]&nbsp</span><span class=\"barcode\"; style=\"color: black; background-color: #ffffe5\">&nbsp[PAD]&nbsp</span><span class=\"barcode\"; style=\"color: black; background-color: #ffffe5\">&nbsp[PAD]&nbsp</span><span class=\"barcode\"; style=\"color: black; background-color: #ffffe5\">&nbsp[PAD]&nbsp</span><span class=\"barcode\"; style=\"color: black; background-color: #ffffe5\">&nbsp[PAD]&nbsp</span><span class=\"barcode\"; style=\"color: black; background-color: #ffffe5\">&nbsp[PAD]&nbsp</span><span class=\"barcode\"; style=\"color: black; background-color: #ffffe5\">&nbsp[PAD]&nbsp</span><span class=\"barcode\"; style=\"color: black; background-color: #ffffe5\">&nbsp[PAD]&nbsp</span><span class=\"barcode\"; style=\"color: black; background-color: #ffffe5\">&nbsp[PAD]&nbsp</span><span class=\"barcode\"; style=\"color: black; background-color: #ffffe5\">&nbsp[PAD]&nbsp</span><span class=\"barcode\"; style=\"color: black; background-color: #ffffe5\">&nbsp[PAD]&nbsp</span><span class=\"barcode\"; style=\"color: black; background-color: #ffffe5\">&nbsp[PAD]&nbsp</span><span class=\"barcode\"; style=\"color: black; background-color: #ffffe5\">&nbsp[PAD]&nbsp</span><span class=\"barcode\"; style=\"color: black; background-color: #ffffe5\">&nbsp[PAD]&nbsp</span><span class=\"barcode\"; style=\"color: black; background-color: #ffffe5\">&nbsp[PAD]&nbsp</span><span class=\"barcode\"; style=\"color: black; background-color: #ffffe5\">&nbsp[PAD]&nbsp</span><span class=\"barcode\"; style=\"color: black; background-color: #ffffe5\">&nbsp[PAD]&nbsp</span><span class=\"barcode\"; style=\"color: black; background-color: #ffffe5\">&nbsp[PAD]&nbsp</span>"
      ],
      "text/plain": [
       "<IPython.core.display.HTML object>"
      ]
     },
     "metadata": {},
     "output_type": "display_data"
    },
    {
     "data": {
      "text/html": [
       "<span class=\"barcode\"; style=\"color: black; background-color: #ffffe5\">&nbsp[CLS]&nbsp</span><span class=\"barcode\"; style=\"color: black; background-color: #ffffe5\">&nbspthis&nbsp</span><span class=\"barcode\"; style=\"color: black; background-color: #ffffe5\">&nbsphouse&nbsp</span><span class=\"barcode\"; style=\"color: black; background-color: #ffffe5\">&nbspis&nbsp</span><span class=\"barcode\"; style=\"color: black; background-color: #ffffe5\">&nbspas&nbsp</span><span class=\"barcode\"; style=\"color: black; background-color: #004529\">&nbspclean&nbsp</span><span class=\"barcode\"; style=\"color: black; background-color: #004529\">&nbspas&nbsp</span><span class=\"barcode\"; style=\"color: black; background-color: #004529\">&nbspa&nbsp</span><span class=\"barcode\"; style=\"color: black; background-color: #004529\">&nbspwhistle&nbsp</span><span class=\"barcode\"; style=\"color: black; background-color: #ffffe5\">&nbsp.&nbsp</span><span class=\"barcode\"; style=\"color: black; background-color: #ffffe5\">&nbsp[SEP]&nbsp</span><span class=\"barcode\"; style=\"color: black; background-color: #ffffe5\">&nbsp[PAD]&nbsp</span><span class=\"barcode\"; style=\"color: black; background-color: #ffffe5\">&nbsp[PAD]&nbsp</span><span class=\"barcode\"; style=\"color: black; background-color: #ffffe5\">&nbsp[PAD]&nbsp</span><span class=\"barcode\"; style=\"color: black; background-color: #ffffe5\">&nbsp[PAD]&nbsp</span><span class=\"barcode\"; style=\"color: black; background-color: #ffffe5\">&nbsp[PAD]&nbsp</span><span class=\"barcode\"; style=\"color: black; background-color: #ffffe5\">&nbsp[PAD]&nbsp</span><span class=\"barcode\"; style=\"color: black; background-color: #ffffe5\">&nbsp[PAD]&nbsp</span><span class=\"barcode\"; style=\"color: black; background-color: #ffffe5\">&nbsp[PAD]&nbsp</span><span class=\"barcode\"; style=\"color: black; background-color: #ffffe5\">&nbsp[PAD]&nbsp</span><span class=\"barcode\"; style=\"color: black; background-color: #ffffe5\">&nbsp[PAD]&nbsp</span><span class=\"barcode\"; style=\"color: black; background-color: #ffffe5\">&nbsp[PAD]&nbsp</span><span class=\"barcode\"; style=\"color: black; background-color: #ffffe5\">&nbsp[PAD]&nbsp</span><span class=\"barcode\"; style=\"color: black; background-color: #ffffe5\">&nbsp[PAD]&nbsp</span><span class=\"barcode\"; style=\"color: black; background-color: #ffffe5\">&nbsp[PAD]&nbsp</span><span class=\"barcode\"; style=\"color: black; background-color: #ffffe5\">&nbsp[PAD]&nbsp</span><span class=\"barcode\"; style=\"color: black; background-color: #ffffe5\">&nbsp[PAD]&nbsp</span><span class=\"barcode\"; style=\"color: black; background-color: #ffffe5\">&nbsp[PAD]&nbsp</span><span class=\"barcode\"; style=\"color: black; background-color: #ffffe5\">&nbsp[PAD]&nbsp</span><span class=\"barcode\"; style=\"color: black; background-color: #ffffe5\">&nbsp[PAD]&nbsp</span><span class=\"barcode\"; style=\"color: black; background-color: #ffffe5\">&nbsp[PAD]&nbsp</span><span class=\"barcode\"; style=\"color: black; background-color: #ffffe5\">&nbsp[PAD]&nbsp</span><span class=\"barcode\"; style=\"color: black; background-color: #ffffe5\">&nbsp[PAD]&nbsp</span><span class=\"barcode\"; style=\"color: black; background-color: #ffffe5\">&nbsp[PAD]&nbsp</span>"
      ],
      "text/plain": [
       "<IPython.core.display.HTML object>"
      ]
     },
     "metadata": {},
     "output_type": "display_data"
    },
    {
     "data": {
      "text/html": [
       "<span class=\"barcode\"; style=\"color: black; background-color: #ffffe5\">&nbsp[CLS]&nbsp</span><span class=\"barcode\"; style=\"color: black; background-color: #ffffe5\">&nbspsometimes&nbsp</span><span class=\"barcode\"; style=\"color: black; background-color: #ffffe5\">&nbspyou&nbsp</span><span class=\"barcode\"; style=\"color: black; background-color: #ffffe5\">&nbspfeel&nbsp</span><span class=\"barcode\"; style=\"color: black; background-color: #004529\">&nbsplike&nbsp</span><span class=\"barcode\"; style=\"color: black; background-color: #004529\">&nbspa&nbsp</span><span class=\"barcode\"; style=\"color: black; background-color: #004529\">&nbspnut&nbsp</span><span class=\"barcode\"; style=\"color: black; background-color: #ffffe5\">&nbsp,&nbsp</span><span class=\"barcode\"; style=\"color: black; background-color: #ffffe5\">&nbspsometimes&nbsp</span><span class=\"barcode\"; style=\"color: black; background-color: #ffffe5\">&nbspyou&nbsp</span><span class=\"barcode\"; style=\"color: black; background-color: #ffffe5\">&nbspdon&nbsp</span><span class=\"barcode\"; style=\"color: black; background-color: #ffffe5\">&nbsp'&nbsp</span><span class=\"barcode\"; style=\"color: black; background-color: #ffffe5\">&nbspt&nbsp</span><span class=\"barcode\"; style=\"color: black; background-color: #ffffe5\">&nbsp.&nbsp</span><span class=\"barcode\"; style=\"color: black; background-color: #ffffe5\">&nbsp[SEP]&nbsp</span><span class=\"barcode\"; style=\"color: black; background-color: #ffffe5\">&nbsp[PAD]&nbsp</span><span class=\"barcode\"; style=\"color: black; background-color: #ffffe5\">&nbsp[PAD]&nbsp</span><span class=\"barcode\"; style=\"color: black; background-color: #ffffe5\">&nbsp[PAD]&nbsp</span><span class=\"barcode\"; style=\"color: black; background-color: #ffffe5\">&nbsp[PAD]&nbsp</span><span class=\"barcode\"; style=\"color: black; background-color: #ffffe5\">&nbsp[PAD]&nbsp</span><span class=\"barcode\"; style=\"color: black; background-color: #ffffe5\">&nbsp[PAD]&nbsp</span><span class=\"barcode\"; style=\"color: black; background-color: #ffffe5\">&nbsp[PAD]&nbsp</span><span class=\"barcode\"; style=\"color: black; background-color: #ffffe5\">&nbsp[PAD]&nbsp</span><span class=\"barcode\"; style=\"color: black; background-color: #ffffe5\">&nbsp[PAD]&nbsp</span><span class=\"barcode\"; style=\"color: black; background-color: #ffffe5\">&nbsp[PAD]&nbsp</span><span class=\"barcode\"; style=\"color: black; background-color: #ffffe5\">&nbsp[PAD]&nbsp</span><span class=\"barcode\"; style=\"color: black; background-color: #ffffe5\">&nbsp[PAD]&nbsp</span><span class=\"barcode\"; style=\"color: black; background-color: #ffffe5\">&nbsp[PAD]&nbsp</span><span class=\"barcode\"; style=\"color: black; background-color: #ffffe5\">&nbsp[PAD]&nbsp</span><span class=\"barcode\"; style=\"color: black; background-color: #ffffe5\">&nbsp[PAD]&nbsp</span><span class=\"barcode\"; style=\"color: black; background-color: #ffffe5\">&nbsp[PAD]&nbsp</span><span class=\"barcode\"; style=\"color: black; background-color: #ffffe5\">&nbsp[PAD]&nbsp</span><span class=\"barcode\"; style=\"color: black; background-color: #ffffe5\">&nbsp[PAD]&nbsp</span><span class=\"barcode\"; style=\"color: black; background-color: #ffffe5\">&nbsp[PAD]&nbsp</span>"
      ],
      "text/plain": [
       "<IPython.core.display.HTML object>"
      ]
     },
     "metadata": {},
     "output_type": "display_data"
    },
    {
     "data": {
      "text/html": [
       "<span class=\"barcode\"; style=\"color: black; background-color: #ffffe5\">&nbsp[CLS]&nbsp</span><span class=\"barcode\"; style=\"color: black; background-color: #ffffe5\">&nbspwe&nbsp</span><span class=\"barcode\"; style=\"color: black; background-color: #ffffe5\">&nbspwill&nbsp</span><span class=\"barcode\"; style=\"color: black; background-color: #ffffe5\">&nbspalso&nbsp</span><span class=\"barcode\"; style=\"color: black; background-color: #ffffe5\">&nbspsee&nbsp</span><span class=\"barcode\"; style=\"color: black; background-color: #ffffe5\">&nbspwhich&nbsp</span><span class=\"barcode\"; style=\"color: black; background-color: #ffffe5\">&nbsplibrary&nbsp</span><span class=\"barcode\"; style=\"color: black; background-color: #ffffe5\">&nbspis&nbsp</span><span class=\"barcode\"; style=\"color: black; background-color: #ffffe5\">&nbsprecommended&nbsp</span><span class=\"barcode\"; style=\"color: black; background-color: #ffffe5\">&nbspto&nbsp</span><span class=\"barcode\"; style=\"color: black; background-color: #ffffe5\">&nbspuse&nbsp</span><span class=\"barcode\"; style=\"color: black; background-color: #ffffe5\">&nbspon&nbsp</span><span class=\"barcode\"; style=\"color: black; background-color: #ffffe5\">&nbspeach&nbsp</span><span class=\"barcode\"; style=\"color: black; background-color: #ffffe5\">&nbspoccasion&nbsp</span><span class=\"barcode\"; style=\"color: black; background-color: #ffffe5\">&nbspand&nbsp</span><span class=\"barcode\"; style=\"color: black; background-color: #ffffe5\">&nbspthe&nbsp</span><span class=\"barcode\"; style=\"color: black; background-color: #ffffe5\">&nbspunique&nbsp</span><span class=\"barcode\"; style=\"color: black; background-color: #ffffe5\">&nbspcapabilities&nbsp</span><span class=\"barcode\"; style=\"color: black; background-color: #ffffe5\">&nbspof&nbsp</span><span class=\"barcode\"; style=\"color: black; background-color: #ffffe5\">&nbspeach&nbsp</span><span class=\"barcode\"; style=\"color: black; background-color: #ffffe5\">&nbsplibrary&nbsp</span><span class=\"barcode\"; style=\"color: black; background-color: #ffffe5\">&nbsp.&nbsp</span><span class=\"barcode\"; style=\"color: black; background-color: #ffffe5\">&nbsp[SEP]&nbsp</span><span class=\"barcode\"; style=\"color: black; background-color: #ffffe5\">&nbsp[PAD]&nbsp</span><span class=\"barcode\"; style=\"color: black; background-color: #ffffe5\">&nbsp[PAD]&nbsp</span><span class=\"barcode\"; style=\"color: black; background-color: #ffffe5\">&nbsp[PAD]&nbsp</span><span class=\"barcode\"; style=\"color: black; background-color: #ffffe5\">&nbsp[PAD]&nbsp</span><span class=\"barcode\"; style=\"color: black; background-color: #ffffe5\">&nbsp[PAD]&nbsp</span><span class=\"barcode\"; style=\"color: black; background-color: #ffffe5\">&nbsp[PAD]&nbsp</span><span class=\"barcode\"; style=\"color: black; background-color: #ffffe5\">&nbsp[PAD]&nbsp</span><span class=\"barcode\"; style=\"color: black; background-color: #ffffe5\">&nbsp[PAD]&nbsp</span><span class=\"barcode\"; style=\"color: black; background-color: #ffffe5\">&nbsp[PAD]&nbsp</span><span class=\"barcode\"; style=\"color: black; background-color: #ffffe5\">&nbsp[PAD]&nbsp</span><span class=\"barcode\"; style=\"color: black; background-color: #ffffe5\">&nbsp[PAD]&nbsp</span>"
      ],
      "text/plain": [
       "<IPython.core.display.HTML object>"
      ]
     },
     "metadata": {},
     "output_type": "display_data"
    },
    {
     "data": {
      "text/html": [
       "<span class=\"barcode\"; style=\"color: black; background-color: #ffffe5\">&nbsp[CLS]&nbsp</span><span class=\"barcode\"; style=\"color: black; background-color: #ffffe5\">&nbspi&nbsp</span><span class=\"barcode\"; style=\"color: black; background-color: #ffffe5\">&nbspwas&nbsp</span><span class=\"barcode\"; style=\"color: black; background-color: #ffffe5\">&nbspdizzy&nbsp</span><span class=\"barcode\"; style=\"color: black; background-color: #ffffe5\">&nbspand&nbsp</span><span class=\"barcode\"; style=\"color: black; background-color: #ffffe5\">&nbspneeded&nbsp</span><span class=\"barcode\"; style=\"color: black; background-color: #ffffe5\">&nbspto&nbsp</span><span class=\"barcode\"; style=\"color: black; background-color: #ffffe5\">&nbspeat&nbsp</span><span class=\"barcode\"; style=\"color: black; background-color: #ffffe5\">&nbspsomething&nbsp</span><span class=\"barcode\"; style=\"color: black; background-color: #ffffe5\">&nbsp[SEP]&nbsp</span><span class=\"barcode\"; style=\"color: black; background-color: #ffffe5\">&nbsp[PAD]&nbsp</span><span class=\"barcode\"; style=\"color: black; background-color: #ffffe5\">&nbsp[PAD]&nbsp</span><span class=\"barcode\"; style=\"color: black; background-color: #ffffe5\">&nbsp[PAD]&nbsp</span><span class=\"barcode\"; style=\"color: black; background-color: #ffffe5\">&nbsp[PAD]&nbsp</span><span class=\"barcode\"; style=\"color: black; background-color: #ffffe5\">&nbsp[PAD]&nbsp</span><span class=\"barcode\"; style=\"color: black; background-color: #ffffe5\">&nbsp[PAD]&nbsp</span><span class=\"barcode\"; style=\"color: black; background-color: #ffffe5\">&nbsp[PAD]&nbsp</span><span class=\"barcode\"; style=\"color: black; background-color: #ffffe5\">&nbsp[PAD]&nbsp</span><span class=\"barcode\"; style=\"color: black; background-color: #ffffe5\">&nbsp[PAD]&nbsp</span><span class=\"barcode\"; style=\"color: black; background-color: #ffffe5\">&nbsp[PAD]&nbsp</span><span class=\"barcode\"; style=\"color: black; background-color: #ffffe5\">&nbsp[PAD]&nbsp</span><span class=\"barcode\"; style=\"color: black; background-color: #ffffe5\">&nbsp[PAD]&nbsp</span><span class=\"barcode\"; style=\"color: black; background-color: #ffffe5\">&nbsp[PAD]&nbsp</span><span class=\"barcode\"; style=\"color: black; background-color: #ffffe5\">&nbsp[PAD]&nbsp</span><span class=\"barcode\"; style=\"color: black; background-color: #ffffe5\">&nbsp[PAD]&nbsp</span><span class=\"barcode\"; style=\"color: black; background-color: #ffffe5\">&nbsp[PAD]&nbsp</span><span class=\"barcode\"; style=\"color: black; background-color: #ffffe5\">&nbsp[PAD]&nbsp</span><span class=\"barcode\"; style=\"color: black; background-color: #ffffe5\">&nbsp[PAD]&nbsp</span><span class=\"barcode\"; style=\"color: black; background-color: #ffffe5\">&nbsp[PAD]&nbsp</span><span class=\"barcode\"; style=\"color: black; background-color: #ffffe5\">&nbsp[PAD]&nbsp</span><span class=\"barcode\"; style=\"color: black; background-color: #ffffe5\">&nbsp[PAD]&nbsp</span><span class=\"barcode\"; style=\"color: black; background-color: #ffffe5\">&nbsp[PAD]&nbsp</span><span class=\"barcode\"; style=\"color: black; background-color: #ffffe5\">&nbsp[PAD]&nbsp</span><span class=\"barcode\"; style=\"color: black; background-color: #ffffe5\">&nbsp[PAD]&nbsp</span>"
      ],
      "text/plain": [
       "<IPython.core.display.HTML object>"
      ]
     },
     "metadata": {},
     "output_type": "display_data"
    },
    {
     "data": {
      "text/html": [
       "<span class=\"barcode\"; style=\"color: black; background-color: #ffffe5\">&nbsp[CLS]&nbsp</span><span class=\"barcode\"; style=\"color: black; background-color: #ffffe5\">&nbspafter&nbsp</span><span class=\"barcode\"; style=\"color: black; background-color: #ffffe5\">&nbspwinning&nbsp</span><span class=\"barcode\"; style=\"color: black; background-color: #ffffe5\">&nbspthe&nbsp</span><span class=\"barcode\"; style=\"color: black; background-color: #ffffe5\">&nbsplottery&nbsp</span><span class=\"barcode\"; style=\"color: black; background-color: #ffffe5\">&nbsp,&nbsp</span><span class=\"barcode\"; style=\"color: black; background-color: #ffffe5\">&nbspshe&nbsp</span><span class=\"barcode\"; style=\"color: black; background-color: #ffffe5\">&nbspstruggled&nbsp</span><span class=\"barcode\"; style=\"color: black; background-color: #ffffe5\">&nbspto&nbsp</span><span class=\"barcode\"; style=\"color: black; background-color: #ffffe5\">&nbspkeep&nbsp</span><span class=\"barcode\"; style=\"color: black; background-color: #ffffe5\">&nbspher&nbsp</span><span class=\"barcode\"; style=\"color: black; background-color: #ffffe5\">&nbspfeet&nbsp</span><span class=\"barcode\"; style=\"color: black; background-color: #ffffe5\">&nbspon&nbsp</span><span class=\"barcode\"; style=\"color: black; background-color: #ffffe5\">&nbspthe&nbsp</span><span class=\"barcode\"; style=\"color: black; background-color: #ffffe5\">&nbspground&nbsp</span><span class=\"barcode\"; style=\"color: black; background-color: #ffffe5\">&nbspand&nbsp</span><span class=\"barcode\"; style=\"color: black; background-color: #ffffe5\">&nbspnot&nbsp</span><span class=\"barcode\"; style=\"color: black; background-color: #ffffe5\">&nbspget&nbsp</span><span class=\"barcode\"; style=\"color: black; background-color: #ffffe5\">&nbspcarried&nbsp</span><span class=\"barcode\"; style=\"color: black; background-color: #ffffe5\">&nbspaway&nbsp</span><span class=\"barcode\"; style=\"color: black; background-color: #ffffe5\">&nbspby&nbsp</span><span class=\"barcode\"; style=\"color: black; background-color: #ffffe5\">&nbspher&nbsp</span><span class=\"barcode\"; style=\"color: black; background-color: #ffffe5\">&nbspnew&nbsp</span><span class=\"barcode\"; style=\"color: black; background-color: #ffffe5\">&nbspwealth&nbsp</span><span class=\"barcode\"; style=\"color: black; background-color: #ffffe5\">&nbsp.&nbsp</span><span class=\"barcode\"; style=\"color: black; background-color: #ffffe5\">&nbsp[SEP]&nbsp</span><span class=\"barcode\"; style=\"color: black; background-color: #ffffe5\">&nbsp[PAD]&nbsp</span><span class=\"barcode\"; style=\"color: black; background-color: #ffffe5\">&nbsp[PAD]&nbsp</span><span class=\"barcode\"; style=\"color: black; background-color: #ffffe5\">&nbsp[PAD]&nbsp</span><span class=\"barcode\"; style=\"color: black; background-color: #ffffe5\">&nbsp[PAD]&nbsp</span><span class=\"barcode\"; style=\"color: black; background-color: #ffffe5\">&nbsp[PAD]&nbsp</span><span class=\"barcode\"; style=\"color: black; background-color: #ffffe5\">&nbsp[PAD]&nbsp</span><span class=\"barcode\"; style=\"color: black; background-color: #ffffe5\">&nbsp[PAD]&nbsp</span><span class=\"barcode\"; style=\"color: black; background-color: #ffffe5\">&nbsp[PAD]&nbsp</span>"
      ],
      "text/plain": [
       "<IPython.core.display.HTML object>"
      ]
     },
     "metadata": {},
     "output_type": "display_data"
    }
   ],
   "source": [
    "predicts = predicts == 4\n",
    "predicts = predicts.astype(float)\n",
    "print('Visualize Results by Classification: ')\n",
    "for i in range(len(sentences_tkns)):\n",
    "    s = simple_scoring_viz(sentences_tkns[i], predicts[i], 'YlGn')\n",
    "    display(HTML(s))"
   ]
  },
  {
   "cell_type": "code",
   "execution_count": null,
   "id": "054d8fd2",
   "metadata": {},
   "outputs": [],
   "source": []
  }
 ],
 "metadata": {
  "kernelspec": {
   "display_name": ".venv",
   "language": "python",
   "name": "python3"
  },
  "language_info": {
   "codemirror_mode": {
    "name": "ipython",
    "version": 3
   },
   "file_extension": ".py",
   "mimetype": "text/x-python",
   "name": "python",
   "nbconvert_exporter": "python",
   "pygments_lexer": "ipython3",
   "version": "3.10.6"
  }
 },
 "nbformat": 4,
 "nbformat_minor": 5
}
