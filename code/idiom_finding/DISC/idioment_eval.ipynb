{
 "cells": [
  {
   "attachments": {},
   "cell_type": "markdown",
   "metadata": {},
   "source": [
    "# Evaluation of DISC on the Idioment dataset\n",
    "This file contains an evaluation of the DISC model on the Idioment dataset and calculates the recall. At the end, there is a visualisation tool. \n",
    "Preparing the data and inference shouldn't take long (less that a minute), however the cell loading the data handler and the detector model could take some time.\n",
    "\n",
    "When running for the first time, please ensure that you have a model checkpoint present in `DISC/checkpoints`. A checkpoint can be downloaded via this [Link](https://drive.google.com/file/d/1pGX1F03FYWymXcZ0hjJ7kYi3fySW5n54/view?usp=sharing). See also the README file."
   ]
  },
  {
   "attachments": {},
   "cell_type": "markdown",
   "metadata": {},
   "source": [
    "## Imports"
   ]
  },
  {
   "cell_type": "code",
   "execution_count": 1,
   "metadata": {},
   "outputs": [
    {
     "name": "stderr",
     "output_type": "stream",
     "text": [
      "/home/basg/Projects/idioms/.venv/lib/python3.10/site-packages/tqdm/auto.py:21: TqdmWarning: IProgress not found. Please update jupyter and ipywidgets. See https://ipywidgets.readthedocs.io/en/stable/user_install.html\n",
      "  from .autonotebook import tqdm as notebook_tqdm\n",
      "[nltk_data] Downloading package punkt to /home/basg/nltk_data...\n",
      "[nltk_data]   Package punkt is already up-to-date!\n",
      "[nltk_data] Downloading package averaged_perceptron_tagger to\n",
      "[nltk_data]     /home/basg/nltk_data...\n",
      "[nltk_data]   Package averaged_perceptron_tagger is already up-to-\n",
      "[nltk_data]       date!\n"
     ]
    },
    {
     "data": {
      "text/plain": [
       "True"
      ]
     },
     "execution_count": 1,
     "metadata": {},
     "output_type": "execute_result"
    }
   ],
   "source": [
    "from IPython.display import display, HTML, clear_output\n",
    "import torch\n",
    "import numpy as np\n",
    "from tqdm import tqdm\n",
    "from src.utils.model_util import load_model_from_checkpoint\n",
    "from src.model.read_comp_triflow import ReadingComprehensionDetector as DetectorMdl\n",
    "from config import Config as config\n",
    "from demo_helper.data_processor import DataHandler\n",
    "from demo_helper.visualize_helper import simple_scoring_viz\n",
    "import nltk\n",
    "import pandas as pd\n",
    "from os.path import join\n",
    "import random\n",
    "nltk.download(\"punkt\")\n",
    "nltk.download(\"averaged_perceptron_tagger\")"
   ]
  },
  {
   "cell_type": "code",
   "execution_count": 2,
   "metadata": {},
   "outputs": [
    {
     "name": "stdout",
     "output_type": "stream",
     "text": [
      "Loading Pre-trained Glove Embeddings...\n"
     ]
    },
    {
     "name": "stderr",
     "output_type": "stream",
     "text": [
      "Some weights of the model checkpoint at bert-base-uncased were not used when initializing BertModel: ['cls.predictions.transform.dense.weight', 'cls.seq_relationship.bias', 'cls.predictions.transform.LayerNorm.bias', 'cls.predictions.transform.dense.bias', 'cls.predictions.transform.LayerNorm.weight', 'cls.predictions.bias', 'cls.seq_relationship.weight']\n",
      "- This IS expected if you are initializing BertModel from the checkpoint of a model trained on another task or with another architecture (e.g. initializing a BertForSequenceClassification model from a BertForPreTraining model).\n",
      "- This IS NOT expected if you are initializing BertModel from the checkpoint of a model that you expect to be exactly identical (initializing a BertForSequenceClassification model from a BertForSequenceClassification model).\n",
      "/home/basg/Projects/idioms/.venv/lib/python3.10/site-packages/torch/nn/modules/rnn.py:71: UserWarning: dropout option adds dropout after all but last recurrent layer, so non-zero dropout expects num_layers greater than 1, but got dropout=0.3 and num_layers=1\n",
      "  warnings.warn(\"dropout option adds dropout after all but last \"\n"
     ]
    },
    {
     "name": "stdout",
     "output_type": "stream",
     "text": [
      "Loading model from /home/basg/Projects/idioms/idiom_recognition/DISC/checkpoints/ReadComp_magpie_random_cross_attn-glove-char-pos-tri_latest.mdl\n",
      "=> loading checkpoint '/home/basg/Projects/idioms/idiom_recognition/DISC/checkpoints/ReadComp_magpie_random_cross_attn-glove-char-pos-tri_latest.mdl'\n",
      "=> loaded checkpoint '/home/basg/Projects/idioms/idiom_recognition/DISC/checkpoints/ReadComp_magpie_random_cross_attn-glove-char-pos-tri_latest.mdl'\n"
     ]
    }
   ],
   "source": [
    "# Use config.py to change data and model settings\n",
    "data_handler = DataHandler(config)\n",
    "detector_model= load_model_from_checkpoint(DetectorMdl, data_handler.config)\n"
   ]
  },
  {
   "attachments": {},
   "cell_type": "markdown",
   "metadata": {},
   "source": [
    "## Data loading and preparation"
   ]
  },
  {
   "cell_type": "code",
   "execution_count": 3,
   "metadata": {},
   "outputs": [
    {
     "name": "stdout",
     "output_type": "stream",
     "text": [
      "Index(['id', 'sentence', 'sentiment'], dtype='object')\n",
      "        id                                           sentence sentiment\n",
      "0        1  How much of the forecast was genuine and how m...     other\n",
      "1        2  I did touch them one time you see but of cours...     other\n",
      "2        3  We find that choice theorists admit that they ...     other\n",
      "3        4              Well, here I am with an olive branch.  positive\n",
      "4        5  Its rudder and fin were both knocked out, and ...  negative\n",
      "...    ...                                                ...       ...\n",
      "2516  5971  We were both rigid as enemies, longing to come...  negative\n",
      "2517  5974  We wouldn't wish to do that, but nor would we ...     other\n",
      "2518  5977       But in the next move tit for tat retaliates.  negative\n",
      "2519  5978  By this point some of my readers will be up in...  negative\n",
      "2520  5980  Members of that nobility had been prominent in...     other\n",
      "\n",
      "[2521 rows x 3 columns]\n"
     ]
    }
   ],
   "source": [
    "IDIOMENT_PATH = \"../../idioment/\"\n",
    "\n",
    "idioms = pd.read_csv(join(IDIOMENT_PATH, \"idioms.csv\"))\n",
    "sentences = pd.read_csv(join(IDIOMENT_PATH, \"sentences.csv\"))\n",
    "print(sentences.columns)\n",
    "print(sentences)"
   ]
  },
  {
   "cell_type": "code",
   "execution_count": 4,
   "metadata": {},
   "outputs": [
    {
     "data": {
      "text/plain": [
       "['How much of the forecast was genuine and how much was fixed, it is a moot point.',\n",
       " 'I did touch them one time you see but of course there was nothing doing, he wanted me.',\n",
       " 'We find that choice theorists admit that they introduce a style of moral paternalism at odds with liberal values.',\n",
       " 'Well, here I am with an olive branch.',\n",
       " 'Its rudder and fin were both knocked out, and a four-foot-long gash in the shell meant even repairs on the bank were out of the question.']"
      ]
     },
     "execution_count": 4,
     "metadata": {},
     "output_type": "execute_result"
    }
   ],
   "source": [
    "sents = sentences[\"sentence\"].to_list()\n",
    "sents[:5]"
   ]
  },
  {
   "cell_type": "code",
   "execution_count": 5,
   "metadata": {},
   "outputs": [
    {
     "name": "stdout",
     "output_type": "stream",
     "text": [
      "158\n",
      "158\n"
     ]
    }
   ],
   "source": [
    "# Need to make batches, otherwise it crashes when doing inference\n",
    "batch_size = 16\n",
    "batches = [sents[b:b + batch_size] for b in range(0, len(sents), batch_size)]\n",
    "assert len(batches) == np.ceil(len(sents) / batch_size)\n",
    "print(len(batches))\n",
    "\n",
    "data = []\n",
    "for b in batches:\n",
    "    d = data_handler.prepare_input(b)\n",
    "    data.append(d)\n",
    "\n",
    "print(len(data))"
   ]
  },
  {
   "cell_type": "code",
   "execution_count": 6,
   "metadata": {},
   "outputs": [
    {
     "data": {
      "text/plain": [
       "dict"
      ]
     },
     "execution_count": 6,
     "metadata": {},
     "output_type": "execute_result"
    }
   ],
   "source": [
    "type(data[0])"
   ]
  },
  {
   "attachments": {},
   "cell_type": "markdown",
   "metadata": {},
   "source": [
    "## Inference"
   ]
  },
  {
   "cell_type": "code",
   "execution_count": 7,
   "metadata": {},
   "outputs": [
    {
     "name": "stderr",
     "output_type": "stream",
     "text": [
      "  0%|          | 0/158 [00:00<?, ?it/s]"
     ]
    },
    {
     "name": "stderr",
     "output_type": "stream",
     "text": [
      " 43%|████▎     | 68/158 [00:12<00:10,  8.38it/s]"
     ]
    },
    {
     "name": "stdout",
     "output_type": "stream",
     "text": [
      "skipping this batch (it always gives an unknown CUDA error)\n"
     ]
    },
    {
     "name": "stderr",
     "output_type": "stream",
     "text": [
      " 61%|██████    | 96/158 [00:16<00:07,  8.28it/s]"
     ]
    },
    {
     "name": "stdout",
     "output_type": "stream",
     "text": [
      "skipping this batch (it always gives an unknown CUDA error)\n"
     ]
    },
    {
     "name": "stderr",
     "output_type": "stream",
     "text": [
      " 73%|███████▎  | 115/158 [00:18<00:04,  9.98it/s]"
     ]
    },
    {
     "name": "stdout",
     "output_type": "stream",
     "text": [
      "skipping this batch (it always gives an unknown CUDA error)\n"
     ]
    },
    {
     "name": "stderr",
     "output_type": "stream",
     "text": [
      "100%|██████████| 158/158 [00:23<00:00,  6.60it/s]"
     ]
    },
    {
     "name": "stdout",
     "output_type": "stream",
     "text": [
      "158\n",
      "158\n"
     ]
    },
    {
     "name": "stderr",
     "output_type": "stream",
     "text": [
      "\n"
     ]
    }
   ],
   "source": [
    "# If this gives error when using GPU (on wsl2), take a look at this: https://discuss.pytorch.org/t/libcudnn-cnn-infer-so-8-library-can-not-found/164661 \n",
    "outputs = []\n",
    "i = 0\n",
    "for batch in tqdm(data):\n",
    "    if i == 66 or i == 96 or i == 113:\n",
    "        print(\"skipping this batch (it always gives an unknown CUDA error)\")\n",
    "        outputs.append([[], []])\n",
    "    else:\n",
    "        with torch.no_grad():\n",
    "            ys_ = detector_model(batch)\n",
    "            probs = torch.nn.functional.softmax(ys_, dim=-1)\n",
    "        ys_ = ys_.cpu().detach().numpy()\n",
    "        probs = probs.cpu().detach().numpy()\n",
    "        # idiom_class_probs = probs[:, :, -1].tolist()\n",
    "        predicts = np.argmax(ys_, axis=2)\n",
    "        outputs.append([probs, predicts])\n",
    "    i += 1\n",
    "\n",
    "print(len(data))\n",
    "print(len(outputs))"
   ]
  },
  {
   "attachments": {},
   "cell_type": "markdown",
   "metadata": {},
   "source": [
    "## Evaluation"
   ]
  },
  {
   "cell_type": "code",
   "execution_count": 8,
   "metadata": {},
   "outputs": [],
   "source": [
    "n_idioms_found = 0\n",
    "n_sents = 0\n",
    "# Iterate through the output batches\n",
    "for probs, predicts in outputs:\n",
    "    # Iterate through the sentences in this batch\n",
    "    for s in predicts:\n",
    "        n_sents += 1\n",
    "        # 4 means idiomatic usage. So if there is at least one 4 in a sentence, an idiom was found\n",
    "        if 4 in s:\n",
    "            n_idioms_found += 1\n",
    "            # TODO: find idiom and check whether it is correct (use the idioms.csv or something)\n",
    "            "
   ]
  },
  {
   "cell_type": "code",
   "execution_count": 9,
   "metadata": {},
   "outputs": [
    {
     "name": "stdout",
     "output_type": "stream",
     "text": [
      "idioms found: 1962\n",
      "total number of sentences: 2473\n",
      "recall: 0.7933683784876668\n"
     ]
    }
   ],
   "source": [
    "print(\"idioms found:\", n_idioms_found)\n",
    "print(\"total number of sentences:\", n_sents)\n",
    "print(\"recall:\", n_idioms_found / n_sents)"
   ]
  },
  {
   "attachments": {},
   "cell_type": "markdown",
   "metadata": {},
   "source": [
    "## Visualisation"
   ]
  },
  {
   "cell_type": "code",
   "execution_count": 10,
   "metadata": {},
   "outputs": [
    {
     "name": "stdout",
     "output_type": "stream",
     "text": [
      "output batch number: 80\n"
     ]
    },
    {
     "data": {
      "text/html": [
       "<span class=\"barcode\"; style=\"color: black; background-color: #ffffe5\">&nbsp[CLS]&nbsp</span><span class=\"barcode\"; style=\"color: black; background-color: #ffffe5\">&nbspsuper&nbsp</span><span class=\"barcode\"; style=\"color: black; background-color: #ffffe5\">&nbspsteve&nbsp</span><span class=\"barcode\"; style=\"color: black; background-color: #ffffe5\">&nbsp'&nbsp</span><span class=\"barcode\"; style=\"color: black; background-color: #ffffe5\">&nbsps&nbsp</span><span class=\"barcode\"; style=\"color: black; background-color: #13773d\">&nbspin&nbsp</span><span class=\"barcode\"; style=\"color: black; background-color: #004529\">&nbspseventh&nbsp</span><span class=\"barcode\"; style=\"color: black; background-color: #004529\">&nbspheaven&nbsp</span><span class=\"barcode\"; style=\"color: black; background-color: #ffffe5\">&nbsp.&nbsp</span><span class=\"barcode\"; style=\"color: black; background-color: #ffffe5\">&nbsp[SEP]&nbsp</span><span class=\"barcode\"; style=\"color: black; background-color: #ffffe5\">&nbsp[PAD]&nbsp</span><span class=\"barcode\"; style=\"color: black; background-color: #ffffe5\">&nbsp[PAD]&nbsp</span><span class=\"barcode\"; style=\"color: black; background-color: #ffffe5\">&nbsp[PAD]&nbsp</span><span class=\"barcode\"; style=\"color: black; background-color: #ffffe5\">&nbsp[PAD]&nbsp</span><span class=\"barcode\"; style=\"color: black; background-color: #ffffe5\">&nbsp[PAD]&nbsp</span><span class=\"barcode\"; style=\"color: black; background-color: #ffffe5\">&nbsp[PAD]&nbsp</span><span class=\"barcode\"; style=\"color: black; background-color: #ffffe5\">&nbsp[PAD]&nbsp</span><span class=\"barcode\"; style=\"color: black; background-color: #ffffe5\">&nbsp[PAD]&nbsp</span><span class=\"barcode\"; style=\"color: black; background-color: #ffffe5\">&nbsp[PAD]&nbsp</span><span class=\"barcode\"; style=\"color: black; background-color: #ffffe5\">&nbsp[PAD]&nbsp</span><span class=\"barcode\"; style=\"color: black; background-color: #ffffe5\">&nbsp[PAD]&nbsp</span><span class=\"barcode\"; style=\"color: black; background-color: #ffffe5\">&nbsp[PAD]&nbsp</span><span class=\"barcode\"; style=\"color: black; background-color: #ffffe5\">&nbsp[PAD]&nbsp</span><span class=\"barcode\"; style=\"color: black; background-color: #ffffe5\">&nbsp[PAD]&nbsp</span><span class=\"barcode\"; style=\"color: black; background-color: #ffffe5\">&nbsp[PAD]&nbsp</span><span class=\"barcode\"; style=\"color: black; background-color: #ffffe5\">&nbsp[PAD]&nbsp</span><span class=\"barcode\"; style=\"color: black; background-color: #ffffe5\">&nbsp[PAD]&nbsp</span><span class=\"barcode\"; style=\"color: black; background-color: #ffffe5\">&nbsp[PAD]&nbsp</span><span class=\"barcode\"; style=\"color: black; background-color: #ffffe5\">&nbsp[PAD]&nbsp</span><span class=\"barcode\"; style=\"color: black; background-color: #ffffe5\">&nbsp[PAD]&nbsp</span><span class=\"barcode\"; style=\"color: black; background-color: #ffffe5\">&nbsp[PAD]&nbsp</span><span class=\"barcode\"; style=\"color: black; background-color: #ffffe5\">&nbsp[PAD]&nbsp</span><span class=\"barcode\"; style=\"color: black; background-color: #ffffe5\">&nbsp[PAD]&nbsp</span><span class=\"barcode\"; style=\"color: black; background-color: #ffffe5\">&nbsp[PAD]&nbsp</span>"
      ],
      "text/plain": [
       "<IPython.core.display.HTML object>"
      ]
     },
     "metadata": {},
     "output_type": "display_data"
    },
    {
     "data": {
      "text/html": [
       "<span class=\"barcode\"; style=\"color: black; background-color: #ffffe5\">&nbsp[CLS]&nbsp</span><span class=\"barcode\"; style=\"color: black; background-color: #ffffe5\">&nbspbut&nbsp</span><span class=\"barcode\"; style=\"color: black; background-color: #ffffe5\">&nbspit&nbsp</span><span class=\"barcode\"; style=\"color: black; background-color: #ffffe5\">&nbspalso&nbsp</span><span class=\"barcode\"; style=\"color: black; background-color: #edf8b2\">&nbspbrought&nbsp</span><span class=\"barcode\"; style=\"color: black; background-color: #ecf7b1\">&nbspa&nbsp</span><span class=\"barcode\"; style=\"color: black; background-color: #c5e89a\">&nbspsmile&nbsp</span><span class=\"barcode\"; style=\"color: black; background-color: #ffffe5\">&nbspto&nbsp</span><span class=\"barcode\"; style=\"color: black; background-color: #ffffe5\">&nbspmanager&nbsp</span><span class=\"barcode\"; style=\"color: black; background-color: #ffffe5\">&nbspbrian&nbsp</span><span class=\"barcode\"; style=\"color: black; background-color: #ffffe5\">&nbsphorton&nbsp</span><span class=\"barcode\"; style=\"color: black; background-color: #ffffe5\">&nbsp,&nbsp</span><span class=\"barcode\"; style=\"color: black; background-color: #ffffe5\">&nbspand&nbsp</span><span class=\"barcode\"; style=\"color: black; background-color: #ffffe5\">&nbspi&nbsp</span><span class=\"barcode\"; style=\"color: black; background-color: #ffffe5\">&nbspwas&nbsp</span><span class=\"barcode\"; style=\"color: black; background-color: #fdfedb\">&nbspthrilled&nbsp</span><span class=\"barcode\"; style=\"color: black; background-color: #eaf7af\">&nbspto&nbsp</span><span class=\"barcode\"; style=\"color: black; background-color: #f6fcb8\">&nbspbits&nbsp</span><span class=\"barcode\"; style=\"color: black; background-color: #ffffe5\">&nbspfor&nbsp</span><span class=\"barcode\"; style=\"color: black; background-color: #ffffe5\">&nbsphim&nbsp</span><span class=\"barcode\"; style=\"color: black; background-color: #ffffe5\">&nbspbecause&nbsp</span><span class=\"barcode\"; style=\"color: black; background-color: #ffffe5\">&nbsphe&nbsp</span><span class=\"barcode\"; style=\"color: black; background-color: #ffffe5\">&nbsp'&nbsp</span><span class=\"barcode\"; style=\"color: black; background-color: #ffffe5\">&nbsps&nbsp</span><span class=\"barcode\"; style=\"color: black; background-color: #bae394\">&nbsptaken&nbsp</span><span class=\"barcode\"; style=\"color: black; background-color: #b8e293\">&nbspa&nbsp</span><span class=\"barcode\"; style=\"color: black; background-color: #dcf1a5\">&nbsplot&nbsp</span><span class=\"barcode\"; style=\"color: black; background-color: #dff3a8\">&nbspof&nbsp</span><span class=\"barcode\"; style=\"color: black; background-color: #d6efa2\">&nbspstick&nbsp</span><span class=\"barcode\"; style=\"color: black; background-color: #ffffe5\">&nbspover&nbsp</span><span class=\"barcode\"; style=\"color: black; background-color: #ffffe5\">&nbsprecent&nbsp</span><span class=\"barcode\"; style=\"color: black; background-color: #ffffe5\">&nbspresults&nbsp</span><span class=\"barcode\"; style=\"color: black; background-color: #ffffe5\">&nbsp.&nbsp</span><span class=\"barcode\"; style=\"color: black; background-color: #ffffe5\">&nbsp[SEP]&nbsp</span>"
      ],
      "text/plain": [
       "<IPython.core.display.HTML object>"
      ]
     },
     "metadata": {},
     "output_type": "display_data"
    },
    {
     "data": {
      "text/html": [
       "<span class=\"barcode\"; style=\"color: black; background-color: #ffffe5\">&nbsp[CLS]&nbsp</span><span class=\"barcode\"; style=\"color: black; background-color: #ffffe5\">&nbsphow&nbsp</span><span class=\"barcode\"; style=\"color: black; background-color: #ffffe5\">&nbspplump&nbsp</span><span class=\"barcode\"; style=\"color: black; background-color: #ffffe5\">&nbsp##tious&nbsp</span><span class=\"barcode\"; style=\"color: black; background-color: #ffffe5\">&nbspi&nbsp</span><span class=\"barcode\"; style=\"color: black; background-color: #ffffe5\">&nbspfeel&nbsp</span><span class=\"barcode\"; style=\"color: black; background-color: #ffffe5\">&nbspand&nbsp</span><span class=\"barcode\"; style=\"color: black; background-color: #0b713b\">&nbsptick&nbsp</span><span class=\"barcode\"; style=\"color: black; background-color: #00482a\">&nbsp##led&nbsp</span><span class=\"barcode\"; style=\"color: black; background-color: #004629\">&nbsppink&nbsp</span><span class=\"barcode\"; style=\"color: black; background-color: #ffffe5\">&nbsp.&nbsp</span><span class=\"barcode\"; style=\"color: black; background-color: #ffffe5\">&nbsp[SEP]&nbsp</span><span class=\"barcode\"; style=\"color: black; background-color: #ffffe5\">&nbsp[PAD]&nbsp</span><span class=\"barcode\"; style=\"color: black; background-color: #ffffe5\">&nbsp[PAD]&nbsp</span><span class=\"barcode\"; style=\"color: black; background-color: #ffffe5\">&nbsp[PAD]&nbsp</span><span class=\"barcode\"; style=\"color: black; background-color: #ffffe5\">&nbsp[PAD]&nbsp</span><span class=\"barcode\"; style=\"color: black; background-color: #ffffe5\">&nbsp[PAD]&nbsp</span><span class=\"barcode\"; style=\"color: black; background-color: #ffffe5\">&nbsp[PAD]&nbsp</span><span class=\"barcode\"; style=\"color: black; background-color: #ffffe5\">&nbsp[PAD]&nbsp</span><span class=\"barcode\"; style=\"color: black; background-color: #ffffe5\">&nbsp[PAD]&nbsp</span><span class=\"barcode\"; style=\"color: black; background-color: #ffffe5\">&nbsp[PAD]&nbsp</span><span class=\"barcode\"; style=\"color: black; background-color: #ffffe5\">&nbsp[PAD]&nbsp</span><span class=\"barcode\"; style=\"color: black; background-color: #ffffe5\">&nbsp[PAD]&nbsp</span><span class=\"barcode\"; style=\"color: black; background-color: #ffffe5\">&nbsp[PAD]&nbsp</span><span class=\"barcode\"; style=\"color: black; background-color: #ffffe5\">&nbsp[PAD]&nbsp</span><span class=\"barcode\"; style=\"color: black; background-color: #ffffe5\">&nbsp[PAD]&nbsp</span><span class=\"barcode\"; style=\"color: black; background-color: #ffffe5\">&nbsp[PAD]&nbsp</span><span class=\"barcode\"; style=\"color: black; background-color: #ffffe5\">&nbsp[PAD]&nbsp</span><span class=\"barcode\"; style=\"color: black; background-color: #ffffe5\">&nbsp[PAD]&nbsp</span><span class=\"barcode\"; style=\"color: black; background-color: #ffffe5\">&nbsp[PAD]&nbsp</span><span class=\"barcode\"; style=\"color: black; background-color: #ffffe5\">&nbsp[PAD]&nbsp</span><span class=\"barcode\"; style=\"color: black; background-color: #ffffe5\">&nbsp[PAD]&nbsp</span><span class=\"barcode\"; style=\"color: black; background-color: #ffffe5\">&nbsp[PAD]&nbsp</span><span class=\"barcode\"; style=\"color: black; background-color: #ffffe5\">&nbsp[PAD]&nbsp</span>"
      ],
      "text/plain": [
       "<IPython.core.display.HTML object>"
      ]
     },
     "metadata": {},
     "output_type": "display_data"
    },
    {
     "data": {
      "text/html": [
       "<span class=\"barcode\"; style=\"color: black; background-color: #ffffe5\">&nbsp[CLS]&nbsp</span><span class=\"barcode\"; style=\"color: black; background-color: #ffffe5\">&nbspbut&nbsp</span><span class=\"barcode\"; style=\"color: black; background-color: #ffffe5\">&nbspyou&nbsp</span><span class=\"barcode\"; style=\"color: black; background-color: #ffffe5\">&nbspcan&nbsp</span><span class=\"barcode\"; style=\"color: black; background-color: #ffffe5\">&nbspbe&nbsp</span><span class=\"barcode\"; style=\"color: black; background-color: #ffffe5\">&nbspsure&nbsp</span><span class=\"barcode\"; style=\"color: black; background-color: #ffffe5\">&nbspthat&nbsp</span><span class=\"barcode\"; style=\"color: black; background-color: #ffffe5\">&nbspyou&nbsp</span><span class=\"barcode\"; style=\"color: black; background-color: #ffffe5\">&nbsp'&nbsp</span><span class=\"barcode\"; style=\"color: black; background-color: #ffffe5\">&nbspll&nbsp</span><span class=\"barcode\"; style=\"color: black; background-color: #004529\">&nbsphave&nbsp</span><span class=\"barcode\"; style=\"color: black; background-color: #004629\">&nbspthe&nbsp</span><span class=\"barcode\"; style=\"color: black; background-color: #004529\">&nbsptime&nbsp</span><span class=\"barcode\"; style=\"color: black; background-color: #004529\">&nbspof&nbsp</span><span class=\"barcode\"; style=\"color: black; background-color: #004529\">&nbspyour&nbsp</span><span class=\"barcode\"; style=\"color: black; background-color: #004529\">&nbsplife&nbsp</span><span class=\"barcode\"; style=\"color: black; background-color: #ffffe5\">&nbsp.&nbsp</span><span class=\"barcode\"; style=\"color: black; background-color: #ffffe5\">&nbsp[SEP]&nbsp</span><span class=\"barcode\"; style=\"color: black; background-color: #ffffe5\">&nbsp[PAD]&nbsp</span><span class=\"barcode\"; style=\"color: black; background-color: #ffffe5\">&nbsp[PAD]&nbsp</span><span class=\"barcode\"; style=\"color: black; background-color: #ffffe5\">&nbsp[PAD]&nbsp</span><span class=\"barcode\"; style=\"color: black; background-color: #ffffe5\">&nbsp[PAD]&nbsp</span><span class=\"barcode\"; style=\"color: black; background-color: #ffffe5\">&nbsp[PAD]&nbsp</span><span class=\"barcode\"; style=\"color: black; background-color: #ffffe5\">&nbsp[PAD]&nbsp</span><span class=\"barcode\"; style=\"color: black; background-color: #ffffe5\">&nbsp[PAD]&nbsp</span><span class=\"barcode\"; style=\"color: black; background-color: #ffffe5\">&nbsp[PAD]&nbsp</span><span class=\"barcode\"; style=\"color: black; background-color: #ffffe5\">&nbsp[PAD]&nbsp</span><span class=\"barcode\"; style=\"color: black; background-color: #ffffe5\">&nbsp[PAD]&nbsp</span><span class=\"barcode\"; style=\"color: black; background-color: #ffffe5\">&nbsp[PAD]&nbsp</span><span class=\"barcode\"; style=\"color: black; background-color: #ffffe5\">&nbsp[PAD]&nbsp</span><span class=\"barcode\"; style=\"color: black; background-color: #ffffe5\">&nbsp[PAD]&nbsp</span><span class=\"barcode\"; style=\"color: black; background-color: #ffffe5\">&nbsp[PAD]&nbsp</span><span class=\"barcode\"; style=\"color: black; background-color: #ffffe5\">&nbsp[PAD]&nbsp</span><span class=\"barcode\"; style=\"color: black; background-color: #ffffe5\">&nbsp[PAD]&nbsp</span>"
      ],
      "text/plain": [
       "<IPython.core.display.HTML object>"
      ]
     },
     "metadata": {},
     "output_type": "display_data"
    },
    {
     "data": {
      "text/html": [
       "<span class=\"barcode\"; style=\"color: black; background-color: #ffffe5\">&nbsp[CLS]&nbsp</span><span class=\"barcode\"; style=\"color: black; background-color: #ffffe5\">&nbsphe&nbsp</span><span class=\"barcode\"; style=\"color: black; background-color: #ffffe5\">&nbspsaid&nbsp</span><span class=\"barcode\"; style=\"color: black; background-color: #ffffe5\">&nbspi&nbsp</span><span class=\"barcode\"; style=\"color: black; background-color: #ffffe5\">&nbsp'&nbsp</span><span class=\"barcode\"; style=\"color: black; background-color: #ffffe5\">&nbspm&nbsp</span><span class=\"barcode\"; style=\"color: black; background-color: #004529\">&nbspon&nbsp</span><span class=\"barcode\"; style=\"color: black; background-color: #004529\">&nbsptop&nbsp</span><span class=\"barcode\"; style=\"color: black; background-color: #004529\">&nbspof&nbsp</span><span class=\"barcode\"; style=\"color: black; background-color: #004529\">&nbspthe&nbsp</span><span class=\"barcode\"; style=\"color: black; background-color: #004529\">&nbspworld&nbsp</span><span class=\"barcode\"; style=\"color: black; background-color: #ffffe5\">&nbsp.&nbsp</span><span class=\"barcode\"; style=\"color: black; background-color: #ffffe5\">&nbsp[SEP]&nbsp</span><span class=\"barcode\"; style=\"color: black; background-color: #ffffe5\">&nbsp[PAD]&nbsp</span><span class=\"barcode\"; style=\"color: black; background-color: #ffffe5\">&nbsp[PAD]&nbsp</span><span class=\"barcode\"; style=\"color: black; background-color: #ffffe5\">&nbsp[PAD]&nbsp</span><span class=\"barcode\"; style=\"color: black; background-color: #ffffe5\">&nbsp[PAD]&nbsp</span><span class=\"barcode\"; style=\"color: black; background-color: #ffffe5\">&nbsp[PAD]&nbsp</span><span class=\"barcode\"; style=\"color: black; background-color: #ffffe5\">&nbsp[PAD]&nbsp</span><span class=\"barcode\"; style=\"color: black; background-color: #ffffe5\">&nbsp[PAD]&nbsp</span><span class=\"barcode\"; style=\"color: black; background-color: #ffffe5\">&nbsp[PAD]&nbsp</span><span class=\"barcode\"; style=\"color: black; background-color: #ffffe5\">&nbsp[PAD]&nbsp</span><span class=\"barcode\"; style=\"color: black; background-color: #ffffe5\">&nbsp[PAD]&nbsp</span><span class=\"barcode\"; style=\"color: black; background-color: #ffffe5\">&nbsp[PAD]&nbsp</span><span class=\"barcode\"; style=\"color: black; background-color: #ffffe5\">&nbsp[PAD]&nbsp</span><span class=\"barcode\"; style=\"color: black; background-color: #ffffe5\">&nbsp[PAD]&nbsp</span><span class=\"barcode\"; style=\"color: black; background-color: #ffffe5\">&nbsp[PAD]&nbsp</span><span class=\"barcode\"; style=\"color: black; background-color: #ffffe5\">&nbsp[PAD]&nbsp</span><span class=\"barcode\"; style=\"color: black; background-color: #ffffe5\">&nbsp[PAD]&nbsp</span><span class=\"barcode\"; style=\"color: black; background-color: #ffffe5\">&nbsp[PAD]&nbsp</span><span class=\"barcode\"; style=\"color: black; background-color: #ffffe5\">&nbsp[PAD]&nbsp</span><span class=\"barcode\"; style=\"color: black; background-color: #ffffe5\">&nbsp[PAD]&nbsp</span><span class=\"barcode\"; style=\"color: black; background-color: #ffffe5\">&nbsp[PAD]&nbsp</span><span class=\"barcode\"; style=\"color: black; background-color: #ffffe5\">&nbsp[PAD]&nbsp</span>"
      ],
      "text/plain": [
       "<IPython.core.display.HTML object>"
      ]
     },
     "metadata": {},
     "output_type": "display_data"
    },
    {
     "data": {
      "text/html": [
       "<span class=\"barcode\"; style=\"color: black; background-color: #ffffe5\">&nbsp[CLS]&nbsp</span><span class=\"barcode\"; style=\"color: black; background-color: #ffffe5\">&nbspan&nbsp</span><span class=\"barcode\"; style=\"color: black; background-color: #ffffe5\">&nbsphour&nbsp</span><span class=\"barcode\"; style=\"color: black; background-color: #ffffe5\">&nbsplater&nbsp</span><span class=\"barcode\"; style=\"color: black; background-color: #ffffe5\">&nbspsophie&nbsp</span><span class=\"barcode\"; style=\"color: black; background-color: #ffffe5\">&nbspleft&nbsp</span><span class=\"barcode\"; style=\"color: black; background-color: #ffffe5\">&nbspthe&nbsp</span><span class=\"barcode\"; style=\"color: black; background-color: #ffffe5\">&nbsppet&nbsp</span><span class=\"barcode\"; style=\"color: black; background-color: #ffffe5\">&nbspshop&nbsp</span><span class=\"barcode\"; style=\"color: black; background-color: #ffffe5\">&nbspfeeling&nbsp</span><span class=\"barcode\"; style=\"color: black; background-color: #ffffe5\">&nbspas&nbsp</span><span class=\"barcode\"; style=\"color: black; background-color: #ffffe5\">&nbspthough&nbsp</span><span class=\"barcode\"; style=\"color: black; background-color: #ffffe5\">&nbspshe&nbsp</span><span class=\"barcode\"; style=\"color: black; background-color: #ffffe5\">&nbspwere&nbsp</span><span class=\"barcode\"; style=\"color: black; background-color: #b6e192\">&nbspwalking&nbsp</span><span class=\"barcode\"; style=\"color: black; background-color: #97d385\">&nbspon&nbsp</span><span class=\"barcode\"; style=\"color: black; background-color: #349a52\">&nbspair&nbsp</span><span class=\"barcode\"; style=\"color: black; background-color: #ffffe5\">&nbsp.&nbsp</span><span class=\"barcode\"; style=\"color: black; background-color: #ffffe5\">&nbsp[SEP]&nbsp</span><span class=\"barcode\"; style=\"color: black; background-color: #ffffe5\">&nbsp[PAD]&nbsp</span><span class=\"barcode\"; style=\"color: black; background-color: #ffffe5\">&nbsp[PAD]&nbsp</span><span class=\"barcode\"; style=\"color: black; background-color: #ffffe5\">&nbsp[PAD]&nbsp</span><span class=\"barcode\"; style=\"color: black; background-color: #ffffe5\">&nbsp[PAD]&nbsp</span><span class=\"barcode\"; style=\"color: black; background-color: #ffffe5\">&nbsp[PAD]&nbsp</span><span class=\"barcode\"; style=\"color: black; background-color: #ffffe5\">&nbsp[PAD]&nbsp</span><span class=\"barcode\"; style=\"color: black; background-color: #ffffe5\">&nbsp[PAD]&nbsp</span><span class=\"barcode\"; style=\"color: black; background-color: #ffffe5\">&nbsp[PAD]&nbsp</span><span class=\"barcode\"; style=\"color: black; background-color: #ffffe5\">&nbsp[PAD]&nbsp</span><span class=\"barcode\"; style=\"color: black; background-color: #ffffe5\">&nbsp[PAD]&nbsp</span><span class=\"barcode\"; style=\"color: black; background-color: #ffffe5\">&nbsp[PAD]&nbsp</span><span class=\"barcode\"; style=\"color: black; background-color: #ffffe5\">&nbsp[PAD]&nbsp</span><span class=\"barcode\"; style=\"color: black; background-color: #ffffe5\">&nbsp[PAD]&nbsp</span><span class=\"barcode\"; style=\"color: black; background-color: #ffffe5\">&nbsp[PAD]&nbsp</span><span class=\"barcode\"; style=\"color: black; background-color: #ffffe5\">&nbsp[PAD]&nbsp</span>"
      ],
      "text/plain": [
       "<IPython.core.display.HTML object>"
      ]
     },
     "metadata": {},
     "output_type": "display_data"
    },
    {
     "data": {
      "text/html": [
       "<span class=\"barcode\"; style=\"color: black; background-color: #ffffe5\">&nbsp[CLS]&nbsp</span><span class=\"barcode\"; style=\"color: black; background-color: #ffffe5\">&nbspwell&nbsp</span><span class=\"barcode\"; style=\"color: black; background-color: #ffffe5\">&nbspno&nbsp</span><span class=\"barcode\"; style=\"color: black; background-color: #ffffe5\">&nbspbecause&nbsp</span><span class=\"barcode\"; style=\"color: black; background-color: #ffffe5\">&nbspthey&nbsp</span><span class=\"barcode\"; style=\"color: black; background-color: #ffffe5\">&nbspjust&nbsp</span><span class=\"barcode\"; style=\"color: black; background-color: #004529\">&nbspgo&nbsp</span><span class=\"barcode\"; style=\"color: black; background-color: #004529\">&nbspbananas&nbsp</span><span class=\"barcode\"; style=\"color: black; background-color: #ffffe5\">&nbspif&nbsp</span><span class=\"barcode\"; style=\"color: black; background-color: #ffffe5\">&nbspyou&nbsp</span><span class=\"barcode\"; style=\"color: black; background-color: #ffffe5\">&nbspdo&nbsp</span><span class=\"barcode\"; style=\"color: black; background-color: #ffffe5\">&nbsp,&nbsp</span><span class=\"barcode\"; style=\"color: black; background-color: #ffffe5\">&nbspyou&nbsp</span><span class=\"barcode\"; style=\"color: black; background-color: #ffffe5\">&nbsp'&nbsp</span><span class=\"barcode\"; style=\"color: black; background-color: #ffffe5\">&nbspve&nbsp</span><span class=\"barcode\"; style=\"color: black; background-color: #ffffe5\">&nbspgot&nbsp</span><span class=\"barcode\"; style=\"color: black; background-color: #ffffe5\">&nbspto&nbsp</span><span class=\"barcode\"; style=\"color: black; background-color: #ffffe5\">&nbspbe&nbsp</span><span class=\"barcode\"; style=\"color: black; background-color: #ffffe5\">&nbspcareful&nbsp</span><span class=\"barcode\"; style=\"color: black; background-color: #ffffe5\">&nbsp.&nbsp</span><span class=\"barcode\"; style=\"color: black; background-color: #ffffe5\">&nbsp[SEP]&nbsp</span><span class=\"barcode\"; style=\"color: black; background-color: #ffffe5\">&nbsp[PAD]&nbsp</span><span class=\"barcode\"; style=\"color: black; background-color: #ffffe5\">&nbsp[PAD]&nbsp</span><span class=\"barcode\"; style=\"color: black; background-color: #ffffe5\">&nbsp[PAD]&nbsp</span><span class=\"barcode\"; style=\"color: black; background-color: #ffffe5\">&nbsp[PAD]&nbsp</span><span class=\"barcode\"; style=\"color: black; background-color: #ffffe5\">&nbsp[PAD]&nbsp</span><span class=\"barcode\"; style=\"color: black; background-color: #ffffe5\">&nbsp[PAD]&nbsp</span><span class=\"barcode\"; style=\"color: black; background-color: #ffffe5\">&nbsp[PAD]&nbsp</span><span class=\"barcode\"; style=\"color: black; background-color: #ffffe5\">&nbsp[PAD]&nbsp</span><span class=\"barcode\"; style=\"color: black; background-color: #ffffe5\">&nbsp[PAD]&nbsp</span><span class=\"barcode\"; style=\"color: black; background-color: #ffffe5\">&nbsp[PAD]&nbsp</span><span class=\"barcode\"; style=\"color: black; background-color: #ffffe5\">&nbsp[PAD]&nbsp</span><span class=\"barcode\"; style=\"color: black; background-color: #ffffe5\">&nbsp[PAD]&nbsp</span><span class=\"barcode\"; style=\"color: black; background-color: #ffffe5\">&nbsp[PAD]&nbsp</span>"
      ],
      "text/plain": [
       "<IPython.core.display.HTML object>"
      ]
     },
     "metadata": {},
     "output_type": "display_data"
    },
    {
     "data": {
      "text/html": [
       "<span class=\"barcode\"; style=\"color: black; background-color: #ffffe5\">&nbsp[CLS]&nbsp</span><span class=\"barcode\"; style=\"color: black; background-color: #ffffe5\">&nbspit&nbsp</span><span class=\"barcode\"; style=\"color: black; background-color: #ffffe5\">&nbsp'&nbsp</span><span class=\"barcode\"; style=\"color: black; background-color: #ffffe5\">&nbsps&nbsp</span><span class=\"barcode\"; style=\"color: black; background-color: #00492b\">&nbspnot&nbsp</span><span class=\"barcode\"; style=\"color: black; background-color: #004529\">&nbspall&nbsp</span><span class=\"barcode\"; style=\"color: black; background-color: #004529\">&nbspthere&nbsp</span><span class=\"barcode\"; style=\"color: black; background-color: #ffffe5\">&nbspyet&nbsp</span><span class=\"barcode\"; style=\"color: black; background-color: #ffffe5\">&nbsp.&nbsp</span><span class=\"barcode\"; style=\"color: black; background-color: #ffffe5\">&nbsp[SEP]&nbsp</span><span class=\"barcode\"; style=\"color: black; background-color: #ffffe5\">&nbsp[PAD]&nbsp</span><span class=\"barcode\"; style=\"color: black; background-color: #ffffe5\">&nbsp[PAD]&nbsp</span><span class=\"barcode\"; style=\"color: black; background-color: #ffffe5\">&nbsp[PAD]&nbsp</span><span class=\"barcode\"; style=\"color: black; background-color: #ffffe5\">&nbsp[PAD]&nbsp</span><span class=\"barcode\"; style=\"color: black; background-color: #ffffe5\">&nbsp[PAD]&nbsp</span><span class=\"barcode\"; style=\"color: black; background-color: #feffe2\">&nbsp[PAD]&nbsp</span><span class=\"barcode\"; style=\"color: black; background-color: #fdfed9\">&nbsp[PAD]&nbsp</span><span class=\"barcode\"; style=\"color: black; background-color: #13773d\">&nbsp[PAD]&nbsp</span><span class=\"barcode\"; style=\"color: black; background-color: #00532f\">&nbsp[PAD]&nbsp</span><span class=\"barcode\"; style=\"color: black; background-color: #ffffe5\">&nbsp[PAD]&nbsp</span><span class=\"barcode\"; style=\"color: black; background-color: #096f3a\">&nbsp[PAD]&nbsp</span><span class=\"barcode\"; style=\"color: black; background-color: #feffde\">&nbsp[PAD]&nbsp</span><span class=\"barcode\"; style=\"color: black; background-color: #ffffe5\">&nbsp[PAD]&nbsp</span><span class=\"barcode\"; style=\"color: black; background-color: #feffe2\">&nbsp[PAD]&nbsp</span><span class=\"barcode\"; style=\"color: black; background-color: #ffffe5\">&nbsp[PAD]&nbsp</span><span class=\"barcode\"; style=\"color: black; background-color: #ffffe5\">&nbsp[PAD]&nbsp</span><span class=\"barcode\"; style=\"color: black; background-color: #ffffe4\">&nbsp[PAD]&nbsp</span><span class=\"barcode\"; style=\"color: black; background-color: #feffdf\">&nbsp[PAD]&nbsp</span><span class=\"barcode\"; style=\"color: black; background-color: #feffdf\">&nbsp[PAD]&nbsp</span><span class=\"barcode\"; style=\"color: black; background-color: #ffffe5\">&nbsp[PAD]&nbsp</span><span class=\"barcode\"; style=\"color: black; background-color: #fbfed0\">&nbsp[PAD]&nbsp</span><span class=\"barcode\"; style=\"color: black; background-color: #004629\">&nbsp[PAD]&nbsp</span><span class=\"barcode\"; style=\"color: black; background-color: #004529\">&nbsp[PAD]&nbsp</span><span class=\"barcode\"; style=\"color: black; background-color: #dcf1a5\">&nbsp[PAD]&nbsp</span>"
      ],
      "text/plain": [
       "<IPython.core.display.HTML object>"
      ]
     },
     "metadata": {},
     "output_type": "display_data"
    },
    {
     "data": {
      "text/html": [
       "<span class=\"barcode\"; style=\"color: black; background-color: #ffffe5\">&nbsp[CLS]&nbsp</span><span class=\"barcode\"; style=\"color: black; background-color: #ffffe5\">&nbspso&nbsp</span><span class=\"barcode\"; style=\"color: black; background-color: #ffffe5\">&nbspdon&nbsp</span><span class=\"barcode\"; style=\"color: black; background-color: #ffffe5\">&nbsp'&nbsp</span><span class=\"barcode\"; style=\"color: black; background-color: #ffffe5\">&nbspt&nbsp</span><span class=\"barcode\"; style=\"color: black; background-color: #fdfeda\">&nbspgo&nbsp</span><span class=\"barcode\"; style=\"color: black; background-color: #e5f5ac\">&nbspnuts&nbsp</span><span class=\"barcode\"; style=\"color: black; background-color: #ffffe5\">&nbsp,&nbsp</span><span class=\"barcode\"; style=\"color: black; background-color: #ffffe5\">&nbspuse&nbsp</span><span class=\"barcode\"; style=\"color: black; background-color: #ffffe5\">&nbspthose&nbsp</span><span class=\"barcode\"; style=\"color: black; background-color: #ffffe5\">&nbspleft&nbsp</span><span class=\"barcode\"; style=\"color: black; background-color: #ffffe5\">&nbsp##overs&nbsp</span><span class=\"barcode\"; style=\"color: black; background-color: #ffffe5\">&nbspin&nbsp</span><span class=\"barcode\"; style=\"color: black; background-color: #ffffe5\">&nbspthe&nbsp</span><span class=\"barcode\"; style=\"color: black; background-color: #ffffe5\">&nbspfollowing&nbsp</span><span class=\"barcode\"; style=\"color: black; background-color: #ffffe5\">&nbsprecipes&nbsp</span><span class=\"barcode\"; style=\"color: black; background-color: #ffffe5\">&nbsp.&nbsp</span><span class=\"barcode\"; style=\"color: black; background-color: #ffffe5\">&nbsp[SEP]&nbsp</span><span class=\"barcode\"; style=\"color: black; background-color: #ffffe5\">&nbsp[PAD]&nbsp</span><span class=\"barcode\"; style=\"color: black; background-color: #ffffe5\">&nbsp[PAD]&nbsp</span><span class=\"barcode\"; style=\"color: black; background-color: #ffffe5\">&nbsp[PAD]&nbsp</span><span class=\"barcode\"; style=\"color: black; background-color: #ffffe5\">&nbsp[PAD]&nbsp</span><span class=\"barcode\"; style=\"color: black; background-color: #ffffe5\">&nbsp[PAD]&nbsp</span><span class=\"barcode\"; style=\"color: black; background-color: #ffffe5\">&nbsp[PAD]&nbsp</span><span class=\"barcode\"; style=\"color: black; background-color: #ffffe5\">&nbsp[PAD]&nbsp</span><span class=\"barcode\"; style=\"color: black; background-color: #ffffe5\">&nbsp[PAD]&nbsp</span><span class=\"barcode\"; style=\"color: black; background-color: #ffffe5\">&nbsp[PAD]&nbsp</span><span class=\"barcode\"; style=\"color: black; background-color: #ffffe5\">&nbsp[PAD]&nbsp</span><span class=\"barcode\"; style=\"color: black; background-color: #ffffe5\">&nbsp[PAD]&nbsp</span><span class=\"barcode\"; style=\"color: black; background-color: #ffffe5\">&nbsp[PAD]&nbsp</span><span class=\"barcode\"; style=\"color: black; background-color: #ffffe5\">&nbsp[PAD]&nbsp</span><span class=\"barcode\"; style=\"color: black; background-color: #ffffe5\">&nbsp[PAD]&nbsp</span><span class=\"barcode\"; style=\"color: black; background-color: #ffffe5\">&nbsp[PAD]&nbsp</span><span class=\"barcode\"; style=\"color: black; background-color: #ffffe5\">&nbsp[PAD]&nbsp</span>"
      ],
      "text/plain": [
       "<IPython.core.display.HTML object>"
      ]
     },
     "metadata": {},
     "output_type": "display_data"
    },
    {
     "data": {
      "text/html": [
       "<span class=\"barcode\"; style=\"color: black; background-color: #ffffe5\">&nbsp[CLS]&nbsp</span><span class=\"barcode\"; style=\"color: black; background-color: #ffffe5\">&nbspdon&nbsp</span><span class=\"barcode\"; style=\"color: black; background-color: #ffffe5\">&nbsp'&nbsp</span><span class=\"barcode\"; style=\"color: black; background-color: #ffffe5\">&nbspt&nbsp</span><span class=\"barcode\"; style=\"color: black; background-color: #ffffe5\">&nbspforget&nbsp</span><span class=\"barcode\"; style=\"color: black; background-color: #ffffe5\">&nbsp,&nbsp</span><span class=\"barcode\"; style=\"color: black; background-color: #ffffe5\">&nbspi&nbsp</span><span class=\"barcode\"; style=\"color: black; background-color: #ffffe5\">&nbsp'&nbsp</span><span class=\"barcode\"; style=\"color: black; background-color: #ffffe5\">&nbspve&nbsp</span><span class=\"barcode\"; style=\"color: black; background-color: #ffffe5\">&nbspseen&nbsp</span><span class=\"barcode\"; style=\"color: black; background-color: #ffffe5\">&nbspyou&nbsp</span><span class=\"barcode\"; style=\"color: black; background-color: #ffffe5\">&nbspin&nbsp</span><span class=\"barcode\"; style=\"color: black; background-color: #ffffe5\">&nbspsome&nbsp</span><span class=\"barcode\"; style=\"color: black; background-color: #ffffe5\">&nbspstates&nbsp</span><span class=\"barcode\"; style=\"color: black; background-color: #ffffe5\">&nbsp,&nbsp</span><span class=\"barcode\"; style=\"color: black; background-color: #ffffe5\">&nbspruth&nbsp</span><span class=\"barcode\"; style=\"color: black; background-color: #ffffe5\">&nbsp,&nbsp</span><span class=\"barcode\"; style=\"color: black; background-color: #ffffe5\">&nbsppractically&nbsp</span><span class=\"barcode\"; style=\"color: black; background-color: #005530\">&nbspoff&nbsp</span><span class=\"barcode\"; style=\"color: black; background-color: #005530\">&nbspyour&nbsp</span><span class=\"barcode\"; style=\"color: black; background-color: #004e2d\">&nbsprocker&nbsp</span><span class=\"barcode\"; style=\"color: black; background-color: #ffffe5\">&nbspwasting&nbsp</span><span class=\"barcode\"; style=\"color: black; background-color: #ffffe5\">&nbspaway&nbsp</span><span class=\"barcode\"; style=\"color: black; background-color: #ffffe5\">&nbspwrapped&nbsp</span><span class=\"barcode\"; style=\"color: black; background-color: #ffffe5\">&nbspup&nbsp</span><span class=\"barcode\"; style=\"color: black; background-color: #ffffe5\">&nbspin&nbsp</span><span class=\"barcode\"; style=\"color: black; background-color: #ffffe5\">&nbspthat&nbsp</span><span class=\"barcode\"; style=\"color: black; background-color: #ffffe5\">&nbspso&nbsp</span><span class=\"barcode\"; style=\"color: black; background-color: #ffffe5\">&nbsp##d&nbsp</span><span class=\"barcode\"; style=\"color: black; background-color: #ffffe5\">&nbsp.&nbsp</span><span class=\"barcode\"; style=\"color: black; background-color: #ffffe5\">&nbsp[SEP]&nbsp</span><span class=\"barcode\"; style=\"color: black; background-color: #ffffe5\">&nbsp[PAD]&nbsp</span><span class=\"barcode\"; style=\"color: black; background-color: #ffffe5\">&nbsp[PAD]&nbsp</span><span class=\"barcode\"; style=\"color: black; background-color: #ffffe5\">&nbsp[PAD]&nbsp</span>"
      ],
      "text/plain": [
       "<IPython.core.display.HTML object>"
      ]
     },
     "metadata": {},
     "output_type": "display_data"
    },
    {
     "data": {
      "text/html": [
       "<span class=\"barcode\"; style=\"color: black; background-color: #ffffe5\">&nbsp[CLS]&nbsp</span><span class=\"barcode\"; style=\"color: black; background-color: #ffffe5\">&nbspbetween&nbsp</span><span class=\"barcode\"; style=\"color: black; background-color: #ffffe5\">&nbspyou&nbsp</span><span class=\"barcode\"; style=\"color: black; background-color: #ffffe5\">&nbsp,&nbsp</span><span class=\"barcode\"; style=\"color: black; background-color: #ffffe5\">&nbspme&nbsp</span><span class=\"barcode\"; style=\"color: black; background-color: #ffffe5\">&nbspand&nbsp</span><span class=\"barcode\"; style=\"color: black; background-color: #ffffe5\">&nbspthe&nbsp</span><span class=\"barcode\"; style=\"color: black; background-color: #ffffe5\">&nbspgate&nbsp</span><span class=\"barcode\"; style=\"color: black; background-color: #ffffe5\">&nbsp##post&nbsp</span><span class=\"barcode\"; style=\"color: black; background-color: #ffffe5\">&nbsp,&nbsp</span><span class=\"barcode\"; style=\"color: black; background-color: #ffffe5\">&nbspwe&nbsp</span><span class=\"barcode\"; style=\"color: black; background-color: #ffffe5\">&nbspused&nbsp</span><span class=\"barcode\"; style=\"color: black; background-color: #ffffe5\">&nbspto&nbsp</span><span class=\"barcode\"; style=\"color: black; background-color: #ffffe5\">&nbspthink&nbsp</span><span class=\"barcode\"; style=\"color: black; background-color: #ffffe5\">&nbspthey&nbsp</span><span class=\"barcode\"; style=\"color: black; background-color: #004529\">&nbsphad&nbsp</span><span class=\"barcode\"; style=\"color: black; background-color: #004529\">&nbspa&nbsp</span><span class=\"barcode\"; style=\"color: black; background-color: #004529\">&nbspscrew&nbsp</span><span class=\"barcode\"; style=\"color: black; background-color: #004529\">&nbsploose&nbsp</span><span class=\"barcode\"; style=\"color: black; background-color: #ffffe5\">&nbsp.&nbsp</span><span class=\"barcode\"; style=\"color: black; background-color: #ffffe5\">&nbsp[SEP]&nbsp</span><span class=\"barcode\"; style=\"color: black; background-color: #ffffe5\">&nbsp[PAD]&nbsp</span><span class=\"barcode\"; style=\"color: black; background-color: #ffffe5\">&nbsp[PAD]&nbsp</span><span class=\"barcode\"; style=\"color: black; background-color: #ffffe5\">&nbsp[PAD]&nbsp</span><span class=\"barcode\"; style=\"color: black; background-color: #ffffe5\">&nbsp[PAD]&nbsp</span><span class=\"barcode\"; style=\"color: black; background-color: #ffffe5\">&nbsp[PAD]&nbsp</span><span class=\"barcode\"; style=\"color: black; background-color: #ffffe5\">&nbsp[PAD]&nbsp</span><span class=\"barcode\"; style=\"color: black; background-color: #ffffe5\">&nbsp[PAD]&nbsp</span><span class=\"barcode\"; style=\"color: black; background-color: #ffffe5\">&nbsp[PAD]&nbsp</span><span class=\"barcode\"; style=\"color: black; background-color: #ffffe5\">&nbsp[PAD]&nbsp</span><span class=\"barcode\"; style=\"color: black; background-color: #ffffe5\">&nbsp[PAD]&nbsp</span><span class=\"barcode\"; style=\"color: black; background-color: #ffffe5\">&nbsp[PAD]&nbsp</span><span class=\"barcode\"; style=\"color: black; background-color: #ffffe5\">&nbsp[PAD]&nbsp</span><span class=\"barcode\"; style=\"color: black; background-color: #ffffe5\">&nbsp[PAD]&nbsp</span>"
      ],
      "text/plain": [
       "<IPython.core.display.HTML object>"
      ]
     },
     "metadata": {},
     "output_type": "display_data"
    },
    {
     "data": {
      "text/html": [
       "<span class=\"barcode\"; style=\"color: black; background-color: #ffffe5\">&nbsp[CLS]&nbsp</span><span class=\"barcode\"; style=\"color: black; background-color: #ffffe5\">&nbspnot&nbsp</span><span class=\"barcode\"; style=\"color: black; background-color: #ffffe5\">&nbspknowing&nbsp</span><span class=\"barcode\"; style=\"color: black; background-color: #ffffe5\">&nbspanybody&nbsp</span><span class=\"barcode\"; style=\"color: black; background-color: #ffffe5\">&nbspelse&nbsp</span><span class=\"barcode\"; style=\"color: black; background-color: #ffffe5\">&nbspyou&nbsp</span><span class=\"barcode\"; style=\"color: black; background-color: #ffffe5\">&nbsptend&nbsp</span><span class=\"barcode\"; style=\"color: black; background-color: #ffffe5\">&nbspto&nbsp</span><span class=\"barcode\"; style=\"color: black; background-color: #ffffe5\">&nbspget&nbsp</span><span class=\"barcode\"; style=\"color: black; background-color: #ffffe5\">&nbspthis&nbsp</span><span class=\"barcode\"; style=\"color: black; background-color: #ffffe5\">&nbspfeeling&nbsp</span><span class=\"barcode\"; style=\"color: black; background-color: #ffffe5\">&nbspthat&nbsp</span><span class=\"barcode\"; style=\"color: black; background-color: #ffffe5\">&nbspunless&nbsp</span><span class=\"barcode\"; style=\"color: black; background-color: #ffffe5\">&nbspyou&nbsp</span><span class=\"barcode\"; style=\"color: black; background-color: #ffffe5\">&nbspgo&nbsp</span><span class=\"barcode\"; style=\"color: black; background-color: #ffffe5\">&nbspout&nbsp</span><span class=\"barcode\"; style=\"color: black; background-color: #ffffe5\">&nbspand&nbsp</span><span class=\"barcode\"; style=\"color: black; background-color: #ffffe5\">&nbsptalk&nbsp</span><span class=\"barcode\"; style=\"color: black; background-color: #ffffe5\">&nbspto&nbsp</span><span class=\"barcode\"; style=\"color: black; background-color: #ffffe5\">&nbspsomeone&nbsp</span><span class=\"barcode\"; style=\"color: black; background-color: #ffffe5\">&nbspyou&nbsp</span><span class=\"barcode\"; style=\"color: black; background-color: #ffffe5\">&nbsp'&nbsp</span><span class=\"barcode\"; style=\"color: black; background-color: #ffffe5\">&nbspll&nbsp</span><span class=\"barcode\"; style=\"color: black; background-color: #fdfeda\">&nbspgo&nbsp</span><span class=\"barcode\"; style=\"color: black; background-color: #00482a\">&nbspstark&nbsp</span><span class=\"barcode\"; style=\"color: black; background-color: #004529\">&nbspravi&nbsp</span><span class=\"barcode\"; style=\"color: black; background-color: #004529\">&nbsp##ng&nbsp</span><span class=\"barcode\"; style=\"color: black; background-color: #004529\">&nbspmad&nbsp</span><span class=\"barcode\"; style=\"color: black; background-color: #ffffe5\">&nbsp.&nbsp</span><span class=\"barcode\"; style=\"color: black; background-color: #ffffe5\">&nbsp[SEP]&nbsp</span><span class=\"barcode\"; style=\"color: black; background-color: #ffffe5\">&nbsp[PAD]&nbsp</span><span class=\"barcode\"; style=\"color: black; background-color: #ffffe5\">&nbsp[PAD]&nbsp</span><span class=\"barcode\"; style=\"color: black; background-color: #ffffe5\">&nbsp[PAD]&nbsp</span><span class=\"barcode\"; style=\"color: black; background-color: #ffffe5\">&nbsp[PAD]&nbsp</span>"
      ],
      "text/plain": [
       "<IPython.core.display.HTML object>"
      ]
     },
     "metadata": {},
     "output_type": "display_data"
    },
    {
     "data": {
      "text/html": [
       "<span class=\"barcode\"; style=\"color: black; background-color: #ffffe5\">&nbsp[CLS]&nbsp</span><span class=\"barcode\"; style=\"color: black; background-color: #004529\">&nbspeat&nbsp</span><span class=\"barcode\"; style=\"color: black; background-color: #004529\">&nbsphumble&nbsp</span><span class=\"barcode\"; style=\"color: black; background-color: #004529\">&nbsppie&nbsp</span><span class=\"barcode\"; style=\"color: black; background-color: #ffffe5\">&nbspand&nbsp</span><span class=\"barcode\"; style=\"color: black; background-color: #ffffe5\">&nbspget&nbsp</span><span class=\"barcode\"; style=\"color: black; background-color: #ffffe5\">&nbspused&nbsp</span><span class=\"barcode\"; style=\"color: black; background-color: #ffffe5\">&nbspto&nbsp</span><span class=\"barcode\"; style=\"color: black; background-color: #ffffe5\">&nbspit&nbsp</span><span class=\"barcode\"; style=\"color: black; background-color: #ffffe5\">&nbspmate&nbsp</span><span class=\"barcode\"; style=\"color: black; background-color: #ffffe5\">&nbsp.&nbsp</span><span class=\"barcode\"; style=\"color: black; background-color: #ffffe5\">&nbsp[SEP]&nbsp</span><span class=\"barcode\"; style=\"color: black; background-color: #ffffe5\">&nbsp[PAD]&nbsp</span><span class=\"barcode\"; style=\"color: black; background-color: #ffffe5\">&nbsp[PAD]&nbsp</span><span class=\"barcode\"; style=\"color: black; background-color: #ffffe5\">&nbsp[PAD]&nbsp</span><span class=\"barcode\"; style=\"color: black; background-color: #ffffe5\">&nbsp[PAD]&nbsp</span><span class=\"barcode\"; style=\"color: black; background-color: #ffffe5\">&nbsp[PAD]&nbsp</span><span class=\"barcode\"; style=\"color: black; background-color: #ffffe5\">&nbsp[PAD]&nbsp</span><span class=\"barcode\"; style=\"color: black; background-color: #ffffe5\">&nbsp[PAD]&nbsp</span><span class=\"barcode\"; style=\"color: black; background-color: #ffffe5\">&nbsp[PAD]&nbsp</span><span class=\"barcode\"; style=\"color: black; background-color: #ffffe5\">&nbsp[PAD]&nbsp</span><span class=\"barcode\"; style=\"color: black; background-color: #ffffe5\">&nbsp[PAD]&nbsp</span><span class=\"barcode\"; style=\"color: black; background-color: #ffffe5\">&nbsp[PAD]&nbsp</span><span class=\"barcode\"; style=\"color: black; background-color: #ffffe5\">&nbsp[PAD]&nbsp</span><span class=\"barcode\"; style=\"color: black; background-color: #ffffe5\">&nbsp[PAD]&nbsp</span><span class=\"barcode\"; style=\"color: black; background-color: #ffffe5\">&nbsp[PAD]&nbsp</span><span class=\"barcode\"; style=\"color: black; background-color: #ffffe5\">&nbsp[PAD]&nbsp</span><span class=\"barcode\"; style=\"color: black; background-color: #ffffe5\">&nbsp[PAD]&nbsp</span><span class=\"barcode\"; style=\"color: black; background-color: #ffffe5\">&nbsp[PAD]&nbsp</span><span class=\"barcode\"; style=\"color: black; background-color: #ffffe5\">&nbsp[PAD]&nbsp</span><span class=\"barcode\"; style=\"color: black; background-color: #ffffe5\">&nbsp[PAD]&nbsp</span><span class=\"barcode\"; style=\"color: black; background-color: #ffffe5\">&nbsp[PAD]&nbsp</span><span class=\"barcode\"; style=\"color: black; background-color: #ffffe5\">&nbsp[PAD]&nbsp</span><span class=\"barcode\"; style=\"color: black; background-color: #ffffe5\">&nbsp[PAD]&nbsp</span>"
      ],
      "text/plain": [
       "<IPython.core.display.HTML object>"
      ]
     },
     "metadata": {},
     "output_type": "display_data"
    },
    {
     "data": {
      "text/html": [
       "<span class=\"barcode\"; style=\"color: black; background-color: #ffffe5\">&nbsp[CLS]&nbsp</span><span class=\"barcode\"; style=\"color: black; background-color: #e6f5ac\">&nbspok&nbsp</span><span class=\"barcode\"; style=\"color: black; background-color: #12763d\">&nbsp,&nbsp</span><span class=\"barcode\"; style=\"color: black; background-color: #004529\">&nbspan&nbsp</span><span class=\"barcode\"; style=\"color: black; background-color: #004529\">&nbspapple&nbsp</span><span class=\"barcode\"; style=\"color: black; background-color: #ffffe4\">&nbsp,&nbsp</span><span class=\"barcode\"; style=\"color: black; background-color: #ffffe5\">&nbsp'&nbsp</span><span class=\"barcode\"; style=\"color: black; background-color: #ffffe5\">&nbspsaid&nbsp</span><span class=\"barcode\"; style=\"color: black; background-color: #ffffe5\">&nbsprufus&nbsp</span><span class=\"barcode\"; style=\"color: black; background-color: #ffffe5\">&nbsp,&nbsp</span><span class=\"barcode\"; style=\"color: black; background-color: #f6fcb8\">&nbspconscious&nbsp</span><span class=\"barcode\"; style=\"color: black; background-color: #a7db8c\">&nbspof&nbsp</span><span class=\"barcode\"; style=\"color: black; background-color: #45ad5f\">&nbsphis&nbsp</span><span class=\"barcode\"; style=\"color: black; background-color: #bce395\">&nbspfreud&nbsp</span><span class=\"barcode\"; style=\"color: black; background-color: #e0f3a8\">&nbsp##ian&nbsp</span><span class=\"barcode\"; style=\"color: black; background-color: #f8fcbe\">&nbspslip&nbsp</span><span class=\"barcode\"; style=\"color: black; background-color: #ffffe5\">&nbsp.&nbsp</span><span class=\"barcode\"; style=\"color: black; background-color: #ffffe5\">&nbsp[SEP]&nbsp</span><span class=\"barcode\"; style=\"color: black; background-color: #ffffe5\">&nbsp[PAD]&nbsp</span><span class=\"barcode\"; style=\"color: black; background-color: #ffffe5\">&nbsp[PAD]&nbsp</span><span class=\"barcode\"; style=\"color: black; background-color: #ffffe5\">&nbsp[PAD]&nbsp</span><span class=\"barcode\"; style=\"color: black; background-color: #ffffe5\">&nbsp[PAD]&nbsp</span><span class=\"barcode\"; style=\"color: black; background-color: #ffffe5\">&nbsp[PAD]&nbsp</span><span class=\"barcode\"; style=\"color: black; background-color: #ffffe5\">&nbsp[PAD]&nbsp</span><span class=\"barcode\"; style=\"color: black; background-color: #ffffe5\">&nbsp[PAD]&nbsp</span><span class=\"barcode\"; style=\"color: black; background-color: #ffffe5\">&nbsp[PAD]&nbsp</span><span class=\"barcode\"; style=\"color: black; background-color: #ffffe5\">&nbsp[PAD]&nbsp</span><span class=\"barcode\"; style=\"color: black; background-color: #ffffe5\">&nbsp[PAD]&nbsp</span><span class=\"barcode\"; style=\"color: black; background-color: #ffffe5\">&nbsp[PAD]&nbsp</span><span class=\"barcode\"; style=\"color: black; background-color: #ffffe5\">&nbsp[PAD]&nbsp</span><span class=\"barcode\"; style=\"color: black; background-color: #ffffe5\">&nbsp[PAD]&nbsp</span><span class=\"barcode\"; style=\"color: black; background-color: #ffffe5\">&nbsp[PAD]&nbsp</span><span class=\"barcode\"; style=\"color: black; background-color: #ffffe5\">&nbsp[PAD]&nbsp</span><span class=\"barcode\"; style=\"color: black; background-color: #ffffe5\">&nbsp[PAD]&nbsp</span>"
      ],
      "text/plain": [
       "<IPython.core.display.HTML object>"
      ]
     },
     "metadata": {},
     "output_type": "display_data"
    },
    {
     "data": {
      "text/html": [
       "<span class=\"barcode\"; style=\"color: black; background-color: #ffffe5\">&nbsp[CLS]&nbsp</span><span class=\"barcode\"; style=\"color: black; background-color: #004529\">&nbspswallow&nbsp</span><span class=\"barcode\"; style=\"color: black; background-color: #004529\">&nbspyour&nbsp</span><span class=\"barcode\"; style=\"color: black; background-color: #004529\">&nbsppride&nbsp</span><span class=\"barcode\"; style=\"color: black; background-color: #feffe1\">&nbspand&nbsp</span><span class=\"barcode\"; style=\"color: black; background-color: #feffdf\">&nbspyour&nbsp</span><span class=\"barcode\"; style=\"color: black; background-color: #fdfed9\">&nbspanger&nbsp</span><span class=\"barcode\"; style=\"color: black; background-color: #ffffe5\">&nbsp,&nbsp</span><span class=\"barcode\"; style=\"color: black; background-color: #ffffe5\">&nbspold&nbsp</span><span class=\"barcode\"; style=\"color: black; background-color: #ffffe5\">&nbspman&nbsp</span><span class=\"barcode\"; style=\"color: black; background-color: #ffffe5\">&nbsp.&nbsp</span><span class=\"barcode\"; style=\"color: black; background-color: #ffffe5\">&nbsp[SEP]&nbsp</span><span class=\"barcode\"; style=\"color: black; background-color: #ffffe5\">&nbsp[PAD]&nbsp</span><span class=\"barcode\"; style=\"color: black; background-color: #ffffe5\">&nbsp[PAD]&nbsp</span><span class=\"barcode\"; style=\"color: black; background-color: #ffffe5\">&nbsp[PAD]&nbsp</span><span class=\"barcode\"; style=\"color: black; background-color: #ffffe5\">&nbsp[PAD]&nbsp</span><span class=\"barcode\"; style=\"color: black; background-color: #ffffe5\">&nbsp[PAD]&nbsp</span><span class=\"barcode\"; style=\"color: black; background-color: #ffffe5\">&nbsp[PAD]&nbsp</span><span class=\"barcode\"; style=\"color: black; background-color: #ffffe5\">&nbsp[PAD]&nbsp</span><span class=\"barcode\"; style=\"color: black; background-color: #ffffe5\">&nbsp[PAD]&nbsp</span><span class=\"barcode\"; style=\"color: black; background-color: #ffffe5\">&nbsp[PAD]&nbsp</span><span class=\"barcode\"; style=\"color: black; background-color: #ffffe5\">&nbsp[PAD]&nbsp</span><span class=\"barcode\"; style=\"color: black; background-color: #ffffe5\">&nbsp[PAD]&nbsp</span><span class=\"barcode\"; style=\"color: black; background-color: #ffffe5\">&nbsp[PAD]&nbsp</span><span class=\"barcode\"; style=\"color: black; background-color: #ffffe5\">&nbsp[PAD]&nbsp</span><span class=\"barcode\"; style=\"color: black; background-color: #ffffe5\">&nbsp[PAD]&nbsp</span><span class=\"barcode\"; style=\"color: black; background-color: #ffffe5\">&nbsp[PAD]&nbsp</span><span class=\"barcode\"; style=\"color: black; background-color: #ffffe5\">&nbsp[PAD]&nbsp</span><span class=\"barcode\"; style=\"color: black; background-color: #ffffe5\">&nbsp[PAD]&nbsp</span><span class=\"barcode\"; style=\"color: black; background-color: #ffffe5\">&nbsp[PAD]&nbsp</span><span class=\"barcode\"; style=\"color: black; background-color: #ffffe5\">&nbsp[PAD]&nbsp</span><span class=\"barcode\"; style=\"color: black; background-color: #ffffe5\">&nbsp[PAD]&nbsp</span><span class=\"barcode\"; style=\"color: black; background-color: #ffffe5\">&nbsp[PAD]&nbsp</span><span class=\"barcode\"; style=\"color: black; background-color: #ffffe5\">&nbsp[PAD]&nbsp</span>"
      ],
      "text/plain": [
       "<IPython.core.display.HTML object>"
      ]
     },
     "metadata": {},
     "output_type": "display_data"
    },
    {
     "data": {
      "text/html": [
       "<span class=\"barcode\"; style=\"color: black; background-color: #ffffe5\">&nbsp[CLS]&nbsp</span><span class=\"barcode\"; style=\"color: black; background-color: #ffffe5\">&nbspskills&nbsp</span><span class=\"barcode\"; style=\"color: black; background-color: #ffffe5\">&nbspare&nbsp</span><span class=\"barcode\"; style=\"color: black; background-color: #ffffe5\">&nbspacquired&nbsp</span><span class=\"barcode\"; style=\"color: black; background-color: #ffffe5\">&nbspby&nbsp</span><span class=\"barcode\"; style=\"color: black; background-color: #ffffe5\">&nbspa&nbsp</span><span class=\"barcode\"; style=\"color: black; background-color: #ffffe5\">&nbspprocess&nbsp</span><span class=\"barcode\"; style=\"color: black; background-color: #ffffe5\">&nbspof&nbsp</span><span class=\"barcode\"; style=\"color: black; background-color: #006435\">&nbsptrial&nbsp</span><span class=\"barcode\"; style=\"color: black; background-color: #056c39\">&nbspand&nbsp</span><span class=\"barcode\"; style=\"color: black; background-color: #177b3f\">&nbsperror&nbsp</span><span class=\"barcode\"; style=\"color: black; background-color: #ffffe5\">&nbspbut&nbsp</span><span class=\"barcode\"; style=\"color: black; background-color: #ffffe5\">&nbspthe&nbsp</span><span class=\"barcode\"; style=\"color: black; background-color: #ffffe5\">&nbsptrials&nbsp</span><span class=\"barcode\"; style=\"color: black; background-color: #ffffe5\">&nbspare&nbsp</span><span class=\"barcode\"; style=\"color: black; background-color: #ffffe5\">&nbspnot&nbsp</span><span class=\"barcode\"; style=\"color: black; background-color: #ffffe5\">&nbspentirely&nbsp</span><span class=\"barcode\"; style=\"color: black; background-color: #ffffe5\">&nbsprandom&nbsp</span><span class=\"barcode\"; style=\"color: black; background-color: #ffffe5\">&nbspas&nbsp</span><span class=\"barcode\"; style=\"color: black; background-color: #ffffe5\">&nbspis&nbsp</span><span class=\"barcode\"; style=\"color: black; background-color: #ffffe5\">&nbspassumed&nbsp</span><span class=\"barcode\"; style=\"color: black; background-color: #ffffe5\">&nbspin&nbsp</span><span class=\"barcode\"; style=\"color: black; background-color: #ffffe5\">&nbspclassical&nbsp</span><span class=\"barcode\"; style=\"color: black; background-color: #fcfed3\">&nbsptrial&nbsp</span><span class=\"barcode\"; style=\"color: black; background-color: #fdfed9\">&nbspand&nbsp</span><span class=\"barcode\"; style=\"color: black; background-color: #fdfeda\">&nbsperror&nbsp</span><span class=\"barcode\"; style=\"color: black; background-color: #ffffe5\">&nbsplearning&nbsp</span><span class=\"barcode\"; style=\"color: black; background-color: #ffffe5\">&nbsp.&nbsp</span><span class=\"barcode\"; style=\"color: black; background-color: #ffffe5\">&nbsp[SEP]&nbsp</span><span class=\"barcode\"; style=\"color: black; background-color: #ffffe5\">&nbsp[PAD]&nbsp</span><span class=\"barcode\"; style=\"color: black; background-color: #ffffe5\">&nbsp[PAD]&nbsp</span><span class=\"barcode\"; style=\"color: black; background-color: #ffffe5\">&nbsp[PAD]&nbsp</span><span class=\"barcode\"; style=\"color: black; background-color: #ffffe5\">&nbsp[PAD]&nbsp</span><span class=\"barcode\"; style=\"color: black; background-color: #ffffe5\">&nbsp[PAD]&nbsp</span>"
      ],
      "text/plain": [
       "<IPython.core.display.HTML object>"
      ]
     },
     "metadata": {},
     "output_type": "display_data"
    },
    {
     "name": "stdout",
     "output_type": "stream",
     "text": [
      "quitting...\n"
     ]
    }
   ],
   "source": [
    "code = \"\" # if number, go to that batch, \"n\" = next batch, \"r\" = random batch, \"q\" = quit, \"\" = nothing\n",
    "b_nr = 0\n",
    "prev_nr = None\n",
    "\n",
    "while code != \"q\":\n",
    "    # Display batch\n",
    "    if b_nr != prev_nr:\n",
    "        clear_output(wait=True)\n",
    "\n",
    "        print(\"output batch number:\", b_nr)\n",
    "        probs, predicts = outputs[b_nr]\n",
    "        idiom_class_probs = probs[:, :, -1].tolist()\n",
    "        sentences_tkns = data[b_nr]['xs_bert'].cpu().detach().numpy().tolist()\n",
    "        sentences_tkns = [data_handler.tokenizer.convert_ids_to_tokens(s) for s in sentences_tkns]\n",
    "        for i in range(len(sentences_tkns)):\n",
    "            s = simple_scoring_viz(sentences_tkns[i], idiom_class_probs[i], 'YlGn')\n",
    "            display(HTML(s))\n",
    "\n",
    "    # Get new batch\n",
    "    code = input('Please enter command:\\n\"n\" = next batch, \"r\" = random batch, \"q\" = quit, input a number to go to that batch').lower()\n",
    "    prev_nr = b_nr\n",
    "    if code == \"n\":\n",
    "        b_nr = (b_nr + 1) % len(outputs)\n",
    "    elif code == \"r\":\n",
    "        b_nr = random.randrange(0, len(outputs))\n",
    "    elif code.isnumeric():\n",
    "        n = int(code)\n",
    "        if n >= -len(outputs) and n < len(outputs):\n",
    "            b_nr = n\n",
    "        else:\n",
    "            print(\"please enter a valid batch number\")\n",
    "    elif code == \"q\":\n",
    "        print(\"quitting...\")\n",
    "    else:\n",
    "        print(\"not a valid command\")\n"
   ]
  }
 ],
 "metadata": {
  "kernelspec": {
   "display_name": ".venv",
   "language": "python",
   "name": "python3"
  },
  "language_info": {
   "codemirror_mode": {
    "name": "ipython",
    "version": 3
   },
   "file_extension": ".py",
   "mimetype": "text/x-python",
   "name": "python",
   "nbconvert_exporter": "python",
   "pygments_lexer": "ipython3",
   "version": "3.10.6"
  },
  "orig_nbformat": 4
 },
 "nbformat": 4,
 "nbformat_minor": 2
}
