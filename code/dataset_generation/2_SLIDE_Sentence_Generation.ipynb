{
 "cells": [
  {
   "cell_type": "markdown",
   "metadata": {},
   "source": [
    "# GPT-4 sentence Generation"
   ]
  },
  {
   "cell_type": "code",
   "execution_count": 2,
   "metadata": {
    "ExecuteTime": {
     "end_time": "2023-05-10T07:53:34.711883Z",
     "start_time": "2023-05-10T07:53:33.795293Z"
    }
   },
   "outputs": [],
   "source": [
    "import os\n",
    "import openai\n",
    "import csv\n",
    "import pandas as pd\n",
    "\n",
    "openai.api_key = os.getenv(\"OPENAI_API_KEY\")"
   ]
  },
  {
   "cell_type": "markdown",
   "metadata": {},
   "source": [
    "## Slide dataset"
   ]
  },
  {
   "cell_type": "code",
   "execution_count": 3,
   "metadata": {
    "ExecuteTime": {
     "end_time": "2023-05-10T07:53:37.578937Z",
     "start_time": "2023-05-10T07:53:37.523822Z"
    }
   },
   "outputs": [
    {
     "data": {
      "text/html": [
       "<div>\n",
       "<style scoped>\n",
       "    .dataframe tbody tr th:only-of-type {\n",
       "        vertical-align: middle;\n",
       "    }\n",
       "\n",
       "    .dataframe tbody tr th {\n",
       "        vertical-align: top;\n",
       "    }\n",
       "\n",
       "    .dataframe thead th {\n",
       "        text-align: right;\n",
       "    }\n",
       "</style>\n",
       "<table border=\"1\" class=\"dataframe\">\n",
       "  <thead>\n",
       "    <tr style=\"text-align: right;\">\n",
       "      <th></th>\n",
       "      <th>Idiom</th>\n",
       "    </tr>\n",
       "  </thead>\n",
       "  <tbody>\n",
       "    <tr>\n",
       "      <th>0</th>\n",
       "      <td>American Dream</td>\n",
       "    </tr>\n",
       "    <tr>\n",
       "      <th>1</th>\n",
       "      <td>Catch-22</td>\n",
       "    </tr>\n",
       "    <tr>\n",
       "      <th>2</th>\n",
       "      <td>Christmas present</td>\n",
       "    </tr>\n",
       "    <tr>\n",
       "      <th>3</th>\n",
       "      <td>Downing Street</td>\n",
       "    </tr>\n",
       "    <tr>\n",
       "      <th>4</th>\n",
       "      <td>Dutch courage</td>\n",
       "    </tr>\n",
       "    <tr>\n",
       "      <th>...</th>\n",
       "      <td>...</td>\n",
       "    </tr>\n",
       "    <tr>\n",
       "      <th>4824</th>\n",
       "      <td>your man</td>\n",
       "    </tr>\n",
       "    <tr>\n",
       "      <th>4825</th>\n",
       "      <td>yours truly</td>\n",
       "    </tr>\n",
       "    <tr>\n",
       "      <th>4826</th>\n",
       "      <td>zero in on</td>\n",
       "    </tr>\n",
       "    <tr>\n",
       "      <th>4827</th>\n",
       "      <td>zero-day</td>\n",
       "    </tr>\n",
       "    <tr>\n",
       "      <th>4828</th>\n",
       "      <td>zip up</td>\n",
       "    </tr>\n",
       "  </tbody>\n",
       "</table>\n",
       "<p>4829 rows × 1 columns</p>\n",
       "</div>"
      ],
      "text/plain": [
       "                  Idiom\n",
       "0        American Dream\n",
       "1              Catch-22\n",
       "2     Christmas present\n",
       "3        Downing Street\n",
       "4         Dutch courage\n",
       "...                 ...\n",
       "4824           your man\n",
       "4825        yours truly\n",
       "4826         zero in on\n",
       "4827           zero-day\n",
       "4828             zip up\n",
       "\n",
       "[4829 rows x 1 columns]"
      ]
     },
     "execution_count": 3,
     "metadata": {},
     "output_type": "execute_result"
    }
   ],
   "source": [
    "import pandas as pd\n",
    "from tqdm import tqdm\n",
    "\n",
    "# Import the slide dataset (following the cleaning up done in the preprocessing phase)\n",
    "slide = pd.read_csv('idioms.csv', index_col = 0)\n",
    "slide"
   ]
  },
  {
   "cell_type": "code",
   "execution_count": null,
   "metadata": {
    "ExecuteTime": {
     "end_time": "2023-05-10T19:02:42.422155Z",
     "start_time": "2023-05-10T19:02:42.166301Z"
    }
   },
   "outputs": [],
   "source": [
    "# pass the instructions prompt to gpt-4, alongside the idiom list, generate the sentences and store them in a csv file. \n",
    "# in total it run for over 20 hours\n",
    "\n",
    "instructions = ' You are good at generating sentences containing idioms and labeling them based on the emotion that they carry. The list of emotion labels is the following: Anger, Resentment, Frustration, Hate, Disgust, Boredom, Reluctance, Sadness, Pity, Loneliness, Humiliation, Longing, Envy, Guilt, Regret, Shame, Fear, Anxiety, Doubt, Desperation, Confusion, Shock, Pleasure, Serenity, Relief, Happiness, Lust, Affection, Gratitude, Admiration, Pride, Determination, Fascination, Surprise, Excitement, Hope. Create 5 sentences per idiom. Label them according to the emotion but exclude the word of the label or any derivative of it from the generated sentence.'\n",
    "sentence_dict_4 = {}\n",
    "\n",
    "\n",
    "with open('gpt4_sentence_generation_27.csv', 'w+', newline='') as csvfile:\n",
    "    fieldnames = ['Idiom', 'Sentences']\n",
    "    writer = csv.DictWriter(csvfile, fieldnames=fieldnames)\n",
    "    writer.writeheader()    \n",
    "\n",
    "\n",
    "    # iterate over slide idioms and pass prompt to gpt\n",
    "    for index, row in tqdm(new_slide_3.iterrows(), total=len(new_slide_3)):\n",
    "        sentences = []\n",
    "        prompt = row['Idiom']\n",
    "        completion = openai.ChatCompletion.create(\n",
    "          model=\"gpt-4\", # \"gpt-3.5-turbo\",\n",
    "          messages=[\n",
    "              {\"role\": \"system\", \"content\": instructions},\n",
    "              {\"role\": \"user\", \"content\": prompt}\n",
    "          ]\n",
    "        )\n",
    "\n",
    "\n",
    "\n",
    "        pred = completion.choices[0].message.content\n",
    "        pred = pred.replace('\\n', '$')\n",
    "        sentence_dict_4[prompt] = pred # key is prompt, value is pred\n",
    "\n",
    "        writer.writerow({'Idiom': prompt, 'Sentences': pred})\n",
    "\n"
   ]
  },
  {
   "cell_type": "code",
   "execution_count": 22,
   "metadata": {
    "ExecuteTime": {
     "end_time": "2023-05-10T18:56:11.713138Z",
     "start_time": "2023-05-10T18:56:11.695135Z"
    }
   },
   "outputs": [
    {
     "data": {
      "text/html": [
       "<div>\n",
       "<style scoped>\n",
       "    .dataframe tbody tr th:only-of-type {\n",
       "        vertical-align: middle;\n",
       "    }\n",
       "\n",
       "    .dataframe tbody tr th {\n",
       "        vertical-align: top;\n",
       "    }\n",
       "\n",
       "    .dataframe thead th {\n",
       "        text-align: right;\n",
       "    }\n",
       "</style>\n",
       "<table border=\"1\" class=\"dataframe\">\n",
       "  <thead>\n",
       "    <tr style=\"text-align: right;\">\n",
       "      <th></th>\n",
       "      <th>Idiom</th>\n",
       "    </tr>\n",
       "  </thead>\n",
       "  <tbody>\n",
       "    <tr>\n",
       "      <th>0</th>\n",
       "      <td>let the chips fall where they may</td>\n",
       "    </tr>\n",
       "    <tr>\n",
       "      <th>1</th>\n",
       "      <td>let them have it</td>\n",
       "    </tr>\n",
       "    <tr>\n",
       "      <th>2</th>\n",
       "      <td>let us</td>\n",
       "    </tr>\n",
       "    <tr>\n",
       "      <th>3</th>\n",
       "      <td>let-down</td>\n",
       "    </tr>\n",
       "    <tr>\n",
       "      <th>4</th>\n",
       "      <td>level best</td>\n",
       "    </tr>\n",
       "    <tr>\n",
       "      <th>...</th>\n",
       "      <td>...</td>\n",
       "    </tr>\n",
       "    <tr>\n",
       "      <th>2391</th>\n",
       "      <td>your man</td>\n",
       "    </tr>\n",
       "    <tr>\n",
       "      <th>2392</th>\n",
       "      <td>yours truly</td>\n",
       "    </tr>\n",
       "    <tr>\n",
       "      <th>2393</th>\n",
       "      <td>zero in on</td>\n",
       "    </tr>\n",
       "    <tr>\n",
       "      <th>2394</th>\n",
       "      <td>zero-day</td>\n",
       "    </tr>\n",
       "    <tr>\n",
       "      <th>2395</th>\n",
       "      <td>zip up</td>\n",
       "    </tr>\n",
       "  </tbody>\n",
       "</table>\n",
       "<p>2396 rows × 1 columns</p>\n",
       "</div>"
      ],
      "text/plain": [
       "                                  Idiom\n",
       "0     let the chips fall where they may\n",
       "1                      let them have it\n",
       "2                                let us\n",
       "3                              let-down\n",
       "4                            level best\n",
       "...                                 ...\n",
       "2391                           your man\n",
       "2392                        yours truly\n",
       "2393                         zero in on\n",
       "2394                           zero-day\n",
       "2395                             zip up\n",
       "\n",
       "[2396 rows x 1 columns]"
      ]
     },
     "execution_count": 22,
     "metadata": {},
     "output_type": "execute_result"
    }
   ],
   "source": [
    "# we had a lot of downtime and errors, so we had to start again many times from the point where we stopped\n",
    "new_slide_3 = slide[2433:]\n",
    "new_slide_3 = new_slide_3.reset_index(drop = True)\n",
    "new_slide_3"
   ]
  }
 ],
 "metadata": {
  "kernelspec": {
   "display_name": "Python 3",
   "language": "python",
   "name": "python3"
  },
  "language_info": {
   "codemirror_mode": {
    "name": "ipython",
    "version": 3
   },
   "file_extension": ".py",
   "mimetype": "text/x-python",
   "name": "python",
   "nbconvert_exporter": "python",
   "pygments_lexer": "ipython3",
   "version": "3.8.5"
  },
  "toc": {
   "base_numbering": 1,
   "nav_menu": {},
   "number_sections": true,
   "sideBar": true,
   "skip_h1_title": false,
   "title_cell": "Table of Contents",
   "title_sidebar": "Contents",
   "toc_cell": false,
   "toc_position": {},
   "toc_section_display": true,
   "toc_window_display": false
  },
  "varInspector": {
   "cols": {
    "lenName": 16,
    "lenType": 16,
    "lenVar": 40
   },
   "kernels_config": {
    "python": {
     "delete_cmd_postfix": "",
     "delete_cmd_prefix": "del ",
     "library": "var_list.py",
     "varRefreshCmd": "print(var_dic_list())"
    },
    "r": {
     "delete_cmd_postfix": ") ",
     "delete_cmd_prefix": "rm(",
     "library": "var_list.r",
     "varRefreshCmd": "cat(var_dic_list()) "
    }
   },
   "types_to_exclude": [
    "module",
    "function",
    "builtin_function_or_method",
    "instance",
    "_Feature"
   ],
   "window_display": false
  },
  "vscode": {
   "interpreter": {
    "hash": "7aa320c0994b6671ae0ee8bbd0271d650fa60eba61d8a410ab9ee3e71a9dabac"
   }
  }
 },
 "nbformat": 4,
 "nbformat_minor": 2
}
